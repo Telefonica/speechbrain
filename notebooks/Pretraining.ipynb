{
  "nbformat": 4,
  "nbformat_minor": 0,
  "metadata": {
    "colab": {
      "name": "pretraining.ipynb",
      "provenance": [],
      "collapsed_sections": [],
      "toc_visible": true
    },
    "kernelspec": {
      "display_name": "Python 3",
      "name": "python3"
    },
    "widgets": {
      "application/vnd.jupyter.widget-state+json": {
        "c44033a2f9ff4e449524bd79292fee08": {
          "model_module": "@jupyter-widgets/controls",
          "model_name": "HBoxModel",
          "state": {
            "_view_name": "HBoxView",
            "_dom_classes": [],
            "_model_name": "HBoxModel",
            "_view_module": "@jupyter-widgets/controls",
            "_model_module_version": "1.5.0",
            "_view_count": null,
            "_view_module_version": "1.5.0",
            "box_style": "",
            "layout": "IPY_MODEL_82d5b15495c34ab6a7f949f6c7cc1e47",
            "_model_module": "@jupyter-widgets/controls",
            "children": [
              "IPY_MODEL_bb313eb112cf42a7a35acd1cab61a9c0",
              "IPY_MODEL_0acda1e0d8cd40ab8234693caefd46d4"
            ]
          }
        },
        "82d5b15495c34ab6a7f949f6c7cc1e47": {
          "model_module": "@jupyter-widgets/base",
          "model_name": "LayoutModel",
          "state": {
            "_view_name": "LayoutView",
            "grid_template_rows": null,
            "right": null,
            "justify_content": null,
            "_view_module": "@jupyter-widgets/base",
            "overflow": null,
            "_model_module_version": "1.2.0",
            "_view_count": null,
            "flex_flow": null,
            "width": null,
            "min_width": null,
            "border": null,
            "align_items": null,
            "bottom": null,
            "_model_module": "@jupyter-widgets/base",
            "top": null,
            "grid_column": null,
            "overflow_y": null,
            "overflow_x": null,
            "grid_auto_flow": null,
            "grid_area": null,
            "grid_template_columns": null,
            "flex": null,
            "_model_name": "LayoutModel",
            "justify_items": null,
            "grid_row": null,
            "max_height": null,
            "align_content": null,
            "visibility": null,
            "align_self": null,
            "height": null,
            "min_height": null,
            "padding": null,
            "grid_auto_rows": null,
            "grid_gap": null,
            "max_width": null,
            "order": null,
            "_view_module_version": "1.2.0",
            "grid_template_areas": null,
            "object_position": null,
            "object_fit": null,
            "grid_auto_columns": null,
            "margin": null,
            "display": null,
            "left": null
          }
        },
        "bb313eb112cf42a7a35acd1cab61a9c0": {
          "model_module": "@jupyter-widgets/controls",
          "model_name": "FloatProgressModel",
          "state": {
            "_view_name": "ProgressView",
            "style": "IPY_MODEL_a565a7ac0e574cc598b54db4b24133a1",
            "_dom_classes": [],
            "description": "Downloading: 100%",
            "_model_name": "FloatProgressModel",
            "bar_style": "success",
            "max": 4420,
            "_view_module": "@jupyter-widgets/controls",
            "_model_module_version": "1.5.0",
            "value": 4420,
            "_view_count": null,
            "_view_module_version": "1.5.0",
            "orientation": "horizontal",
            "min": 0,
            "description_tooltip": null,
            "_model_module": "@jupyter-widgets/controls",
            "layout": "IPY_MODEL_8bd0f8102a98421d808bcf7d11a83139"
          }
        },
        "0acda1e0d8cd40ab8234693caefd46d4": {
          "model_module": "@jupyter-widgets/controls",
          "model_name": "HTMLModel",
          "state": {
            "_view_name": "HTMLView",
            "style": "IPY_MODEL_d915e972f4de4ce5bafeb850f69b193e",
            "_dom_classes": [],
            "description": "",
            "_model_name": "HTMLModel",
            "placeholder": "​",
            "_view_module": "@jupyter-widgets/controls",
            "_model_module_version": "1.5.0",
            "value": " 4.42k/4.42k [00:00&lt;00:00, 111kB/s]",
            "_view_count": null,
            "_view_module_version": "1.5.0",
            "description_tooltip": null,
            "_model_module": "@jupyter-widgets/controls",
            "layout": "IPY_MODEL_be4e95561fe9426bb669614e98c4e6c8"
          }
        },
        "a565a7ac0e574cc598b54db4b24133a1": {
          "model_module": "@jupyter-widgets/controls",
          "model_name": "ProgressStyleModel",
          "state": {
            "_view_name": "StyleView",
            "_model_name": "ProgressStyleModel",
            "description_width": "initial",
            "_view_module": "@jupyter-widgets/base",
            "_model_module_version": "1.5.0",
            "_view_count": null,
            "_view_module_version": "1.2.0",
            "bar_color": null,
            "_model_module": "@jupyter-widgets/controls"
          }
        },
        "8bd0f8102a98421d808bcf7d11a83139": {
          "model_module": "@jupyter-widgets/base",
          "model_name": "LayoutModel",
          "state": {
            "_view_name": "LayoutView",
            "grid_template_rows": null,
            "right": null,
            "justify_content": null,
            "_view_module": "@jupyter-widgets/base",
            "overflow": null,
            "_model_module_version": "1.2.0",
            "_view_count": null,
            "flex_flow": null,
            "width": null,
            "min_width": null,
            "border": null,
            "align_items": null,
            "bottom": null,
            "_model_module": "@jupyter-widgets/base",
            "top": null,
            "grid_column": null,
            "overflow_y": null,
            "overflow_x": null,
            "grid_auto_flow": null,
            "grid_area": null,
            "grid_template_columns": null,
            "flex": null,
            "_model_name": "LayoutModel",
            "justify_items": null,
            "grid_row": null,
            "max_height": null,
            "align_content": null,
            "visibility": null,
            "align_self": null,
            "height": null,
            "min_height": null,
            "padding": null,
            "grid_auto_rows": null,
            "grid_gap": null,
            "max_width": null,
            "order": null,
            "_view_module_version": "1.2.0",
            "grid_template_areas": null,
            "object_position": null,
            "object_fit": null,
            "grid_auto_columns": null,
            "margin": null,
            "display": null,
            "left": null
          }
        },
        "d915e972f4de4ce5bafeb850f69b193e": {
          "model_module": "@jupyter-widgets/controls",
          "model_name": "DescriptionStyleModel",
          "state": {
            "_view_name": "StyleView",
            "_model_name": "DescriptionStyleModel",
            "description_width": "",
            "_view_module": "@jupyter-widgets/base",
            "_model_module_version": "1.5.0",
            "_view_count": null,
            "_view_module_version": "1.2.0",
            "_model_module": "@jupyter-widgets/controls"
          }
        },
        "be4e95561fe9426bb669614e98c4e6c8": {
          "model_module": "@jupyter-widgets/base",
          "model_name": "LayoutModel",
          "state": {
            "_view_name": "LayoutView",
            "grid_template_rows": null,
            "right": null,
            "justify_content": null,
            "_view_module": "@jupyter-widgets/base",
            "overflow": null,
            "_model_module_version": "1.2.0",
            "_view_count": null,
            "flex_flow": null,
            "width": null,
            "min_width": null,
            "border": null,
            "align_items": null,
            "bottom": null,
            "_model_module": "@jupyter-widgets/base",
            "top": null,
            "grid_column": null,
            "overflow_y": null,
            "overflow_x": null,
            "grid_auto_flow": null,
            "grid_area": null,
            "grid_template_columns": null,
            "flex": null,
            "_model_name": "LayoutModel",
            "justify_items": null,
            "grid_row": null,
            "max_height": null,
            "align_content": null,
            "visibility": null,
            "align_self": null,
            "height": null,
            "min_height": null,
            "padding": null,
            "grid_auto_rows": null,
            "grid_gap": null,
            "max_width": null,
            "order": null,
            "_view_module_version": "1.2.0",
            "grid_template_areas": null,
            "object_position": null,
            "object_fit": null,
            "grid_auto_columns": null,
            "margin": null,
            "display": null,
            "left": null
          }
        },
        "65891f1e92e845c08442a3e655748967": {
          "model_module": "@jupyter-widgets/controls",
          "model_name": "HBoxModel",
          "state": {
            "_view_name": "HBoxView",
            "_dom_classes": [],
            "_model_name": "HBoxModel",
            "_view_module": "@jupyter-widgets/controls",
            "_model_module_version": "1.5.0",
            "_view_count": null,
            "_view_module_version": "1.5.0",
            "box_style": "",
            "layout": "IPY_MODEL_f9917737960146b7900833d846b30f16",
            "_model_module": "@jupyter-widgets/controls",
            "children": [
              "IPY_MODEL_328050846f6140bbb2a9a146f099b947",
              "IPY_MODEL_93b04b14b6804869a58971fd658b1e09"
            ]
          }
        },
        "f9917737960146b7900833d846b30f16": {
          "model_module": "@jupyter-widgets/base",
          "model_name": "LayoutModel",
          "state": {
            "_view_name": "LayoutView",
            "grid_template_rows": null,
            "right": null,
            "justify_content": null,
            "_view_module": "@jupyter-widgets/base",
            "overflow": null,
            "_model_module_version": "1.2.0",
            "_view_count": null,
            "flex_flow": null,
            "width": null,
            "min_width": null,
            "border": null,
            "align_items": null,
            "bottom": null,
            "_model_module": "@jupyter-widgets/base",
            "top": null,
            "grid_column": null,
            "overflow_y": null,
            "overflow_x": null,
            "grid_auto_flow": null,
            "grid_area": null,
            "grid_template_columns": null,
            "flex": null,
            "_model_name": "LayoutModel",
            "justify_items": null,
            "grid_row": null,
            "max_height": null,
            "align_content": null,
            "visibility": null,
            "align_self": null,
            "height": null,
            "min_height": null,
            "padding": null,
            "grid_auto_rows": null,
            "grid_gap": null,
            "max_width": null,
            "order": null,
            "_view_module_version": "1.2.0",
            "grid_template_areas": null,
            "object_position": null,
            "object_fit": null,
            "grid_auto_columns": null,
            "margin": null,
            "display": null,
            "left": null
          }
        },
        "328050846f6140bbb2a9a146f099b947": {
          "model_module": "@jupyter-widgets/controls",
          "model_name": "FloatProgressModel",
          "state": {
            "_view_name": "ProgressView",
            "style": "IPY_MODEL_e769cd0dfdbc42f482886fcc653aae60",
            "_dom_classes": [],
            "description": "Downloading: 100%",
            "_model_name": "FloatProgressModel",
            "bar_style": "success",
            "max": 479555971,
            "_view_module": "@jupyter-widgets/controls",
            "_model_module_version": "1.5.0",
            "value": 479555971,
            "_view_count": null,
            "_view_module_version": "1.5.0",
            "orientation": "horizontal",
            "min": 0,
            "description_tooltip": null,
            "_model_module": "@jupyter-widgets/controls",
            "layout": "IPY_MODEL_1e636c119276489381f25bc7061fa749"
          }
        },
        "93b04b14b6804869a58971fd658b1e09": {
          "model_module": "@jupyter-widgets/controls",
          "model_name": "HTMLModel",
          "state": {
            "_view_name": "HTMLView",
            "style": "IPY_MODEL_987e2d2c1f584f34b7bf1099bccb762c",
            "_dom_classes": [],
            "description": "",
            "_model_name": "HTMLModel",
            "placeholder": "​",
            "_view_module": "@jupyter-widgets/controls",
            "_model_module_version": "1.5.0",
            "value": " 480M/480M [00:09&lt;00:00, 51.7MB/s]",
            "_view_count": null,
            "_view_module_version": "1.5.0",
            "description_tooltip": null,
            "_model_module": "@jupyter-widgets/controls",
            "layout": "IPY_MODEL_4379ef5f56b04cdb971bb2e5e846c548"
          }
        },
        "e769cd0dfdbc42f482886fcc653aae60": {
          "model_module": "@jupyter-widgets/controls",
          "model_name": "ProgressStyleModel",
          "state": {
            "_view_name": "StyleView",
            "_model_name": "ProgressStyleModel",
            "description_width": "initial",
            "_view_module": "@jupyter-widgets/base",
            "_model_module_version": "1.5.0",
            "_view_count": null,
            "_view_module_version": "1.2.0",
            "bar_color": null,
            "_model_module": "@jupyter-widgets/controls"
          }
        },
        "1e636c119276489381f25bc7061fa749": {
          "model_module": "@jupyter-widgets/base",
          "model_name": "LayoutModel",
          "state": {
            "_view_name": "LayoutView",
            "grid_template_rows": null,
            "right": null,
            "justify_content": null,
            "_view_module": "@jupyter-widgets/base",
            "overflow": null,
            "_model_module_version": "1.2.0",
            "_view_count": null,
            "flex_flow": null,
            "width": null,
            "min_width": null,
            "border": null,
            "align_items": null,
            "bottom": null,
            "_model_module": "@jupyter-widgets/base",
            "top": null,
            "grid_column": null,
            "overflow_y": null,
            "overflow_x": null,
            "grid_auto_flow": null,
            "grid_area": null,
            "grid_template_columns": null,
            "flex": null,
            "_model_name": "LayoutModel",
            "justify_items": null,
            "grid_row": null,
            "max_height": null,
            "align_content": null,
            "visibility": null,
            "align_self": null,
            "height": null,
            "min_height": null,
            "padding": null,
            "grid_auto_rows": null,
            "grid_gap": null,
            "max_width": null,
            "order": null,
            "_view_module_version": "1.2.0",
            "grid_template_areas": null,
            "object_position": null,
            "object_fit": null,
            "grid_auto_columns": null,
            "margin": null,
            "display": null,
            "left": null
          }
        },
        "987e2d2c1f584f34b7bf1099bccb762c": {
          "model_module": "@jupyter-widgets/controls",
          "model_name": "DescriptionStyleModel",
          "state": {
            "_view_name": "StyleView",
            "_model_name": "DescriptionStyleModel",
            "description_width": "",
            "_view_module": "@jupyter-widgets/base",
            "_model_module_version": "1.5.0",
            "_view_count": null,
            "_view_module_version": "1.2.0",
            "_model_module": "@jupyter-widgets/controls"
          }
        },
        "4379ef5f56b04cdb971bb2e5e846c548": {
          "model_module": "@jupyter-widgets/base",
          "model_name": "LayoutModel",
          "state": {
            "_view_name": "LayoutView",
            "grid_template_rows": null,
            "right": null,
            "justify_content": null,
            "_view_module": "@jupyter-widgets/base",
            "overflow": null,
            "_model_module_version": "1.2.0",
            "_view_count": null,
            "flex_flow": null,
            "width": null,
            "min_width": null,
            "border": null,
            "align_items": null,
            "bottom": null,
            "_model_module": "@jupyter-widgets/base",
            "top": null,
            "grid_column": null,
            "overflow_y": null,
            "overflow_x": null,
            "grid_auto_flow": null,
            "grid_area": null,
            "grid_template_columns": null,
            "flex": null,
            "_model_name": "LayoutModel",
            "justify_items": null,
            "grid_row": null,
            "max_height": null,
            "align_content": null,
            "visibility": null,
            "align_self": null,
            "height": null,
            "min_height": null,
            "padding": null,
            "grid_auto_rows": null,
            "grid_gap": null,
            "max_width": null,
            "order": null,
            "_view_module_version": "1.2.0",
            "grid_template_areas": null,
            "object_position": null,
            "object_fit": null,
            "grid_auto_columns": null,
            "margin": null,
            "display": null,
            "left": null
          }
        },
        "6dc8fe59b6ae467c808e68814941889d": {
          "model_module": "@jupyter-widgets/controls",
          "model_name": "HBoxModel",
          "state": {
            "_view_name": "HBoxView",
            "_dom_classes": [],
            "_model_name": "HBoxModel",
            "_view_module": "@jupyter-widgets/controls",
            "_model_module_version": "1.5.0",
            "_view_count": null,
            "_view_module_version": "1.5.0",
            "box_style": "",
            "layout": "IPY_MODEL_64fa9dd676904c83833c97e63657b61f",
            "_model_module": "@jupyter-widgets/controls",
            "children": [
              "IPY_MODEL_37d0a54ab49243a7ad6dc3a901097320",
              "IPY_MODEL_29e3cc8b453644579f97fdc726d483df"
            ]
          }
        },
        "64fa9dd676904c83833c97e63657b61f": {
          "model_module": "@jupyter-widgets/base",
          "model_name": "LayoutModel",
          "state": {
            "_view_name": "LayoutView",
            "grid_template_rows": null,
            "right": null,
            "justify_content": null,
            "_view_module": "@jupyter-widgets/base",
            "overflow": null,
            "_model_module_version": "1.2.0",
            "_view_count": null,
            "flex_flow": null,
            "width": null,
            "min_width": null,
            "border": null,
            "align_items": null,
            "bottom": null,
            "_model_module": "@jupyter-widgets/base",
            "top": null,
            "grid_column": null,
            "overflow_y": null,
            "overflow_x": null,
            "grid_auto_flow": null,
            "grid_area": null,
            "grid_template_columns": null,
            "flex": null,
            "_model_name": "LayoutModel",
            "justify_items": null,
            "grid_row": null,
            "max_height": null,
            "align_content": null,
            "visibility": null,
            "align_self": null,
            "height": null,
            "min_height": null,
            "padding": null,
            "grid_auto_rows": null,
            "grid_gap": null,
            "max_width": null,
            "order": null,
            "_view_module_version": "1.2.0",
            "grid_template_areas": null,
            "object_position": null,
            "object_fit": null,
            "grid_auto_columns": null,
            "margin": null,
            "display": null,
            "left": null
          }
        },
        "37d0a54ab49243a7ad6dc3a901097320": {
          "model_module": "@jupyter-widgets/controls",
          "model_name": "FloatProgressModel",
          "state": {
            "_view_name": "ProgressView",
            "style": "IPY_MODEL_ed1888b99c9f4429a39fcf2b74e4b720",
            "_dom_classes": [],
            "description": "Downloading: 100%",
            "_model_name": "FloatProgressModel",
            "bar_style": "success",
            "max": 212420087,
            "_view_module": "@jupyter-widgets/controls",
            "_model_module_version": "1.5.0",
            "value": 212420087,
            "_view_count": null,
            "_view_module_version": "1.5.0",
            "orientation": "horizontal",
            "min": 0,
            "description_tooltip": null,
            "_model_module": "@jupyter-widgets/controls",
            "layout": "IPY_MODEL_20a8b03060594c2492a9c268ae76ac68"
          }
        },
        "29e3cc8b453644579f97fdc726d483df": {
          "model_module": "@jupyter-widgets/controls",
          "model_name": "HTMLModel",
          "state": {
            "_view_name": "HTMLView",
            "style": "IPY_MODEL_257fc5adaedb496b97eda7c7ddafa82d",
            "_dom_classes": [],
            "description": "",
            "_model_name": "HTMLModel",
            "placeholder": "​",
            "_view_module": "@jupyter-widgets/controls",
            "_model_module_version": "1.5.0",
            "value": " 212M/212M [00:14&lt;00:00, 14.5MB/s]",
            "_view_count": null,
            "_view_module_version": "1.5.0",
            "description_tooltip": null,
            "_model_module": "@jupyter-widgets/controls",
            "layout": "IPY_MODEL_8bfdb121ca354b7cb1db0fad00dfa823"
          }
        },
        "ed1888b99c9f4429a39fcf2b74e4b720": {
          "model_module": "@jupyter-widgets/controls",
          "model_name": "ProgressStyleModel",
          "state": {
            "_view_name": "StyleView",
            "_model_name": "ProgressStyleModel",
            "description_width": "initial",
            "_view_module": "@jupyter-widgets/base",
            "_model_module_version": "1.5.0",
            "_view_count": null,
            "_view_module_version": "1.2.0",
            "bar_color": null,
            "_model_module": "@jupyter-widgets/controls"
          }
        },
        "20a8b03060594c2492a9c268ae76ac68": {
          "model_module": "@jupyter-widgets/base",
          "model_name": "LayoutModel",
          "state": {
            "_view_name": "LayoutView",
            "grid_template_rows": null,
            "right": null,
            "justify_content": null,
            "_view_module": "@jupyter-widgets/base",
            "overflow": null,
            "_model_module_version": "1.2.0",
            "_view_count": null,
            "flex_flow": null,
            "width": null,
            "min_width": null,
            "border": null,
            "align_items": null,
            "bottom": null,
            "_model_module": "@jupyter-widgets/base",
            "top": null,
            "grid_column": null,
            "overflow_y": null,
            "overflow_x": null,
            "grid_auto_flow": null,
            "grid_area": null,
            "grid_template_columns": null,
            "flex": null,
            "_model_name": "LayoutModel",
            "justify_items": null,
            "grid_row": null,
            "max_height": null,
            "align_content": null,
            "visibility": null,
            "align_self": null,
            "height": null,
            "min_height": null,
            "padding": null,
            "grid_auto_rows": null,
            "grid_gap": null,
            "max_width": null,
            "order": null,
            "_view_module_version": "1.2.0",
            "grid_template_areas": null,
            "object_position": null,
            "object_fit": null,
            "grid_auto_columns": null,
            "margin": null,
            "display": null,
            "left": null
          }
        },
        "257fc5adaedb496b97eda7c7ddafa82d": {
          "model_module": "@jupyter-widgets/controls",
          "model_name": "DescriptionStyleModel",
          "state": {
            "_view_name": "StyleView",
            "_model_name": "DescriptionStyleModel",
            "description_width": "",
            "_view_module": "@jupyter-widgets/base",
            "_model_module_version": "1.5.0",
            "_view_count": null,
            "_view_module_version": "1.2.0",
            "_model_module": "@jupyter-widgets/controls"
          }
        },
        "8bfdb121ca354b7cb1db0fad00dfa823": {
          "model_module": "@jupyter-widgets/base",
          "model_name": "LayoutModel",
          "state": {
            "_view_name": "LayoutView",
            "grid_template_rows": null,
            "right": null,
            "justify_content": null,
            "_view_module": "@jupyter-widgets/base",
            "overflow": null,
            "_model_module_version": "1.2.0",
            "_view_count": null,
            "flex_flow": null,
            "width": null,
            "min_width": null,
            "border": null,
            "align_items": null,
            "bottom": null,
            "_model_module": "@jupyter-widgets/base",
            "top": null,
            "grid_column": null,
            "overflow_y": null,
            "overflow_x": null,
            "grid_auto_flow": null,
            "grid_area": null,
            "grid_template_columns": null,
            "flex": null,
            "_model_name": "LayoutModel",
            "justify_items": null,
            "grid_row": null,
            "max_height": null,
            "align_content": null,
            "visibility": null,
            "align_self": null,
            "height": null,
            "min_height": null,
            "padding": null,
            "grid_auto_rows": null,
            "grid_gap": null,
            "max_width": null,
            "order": null,
            "_view_module_version": "1.2.0",
            "grid_template_areas": null,
            "object_position": null,
            "object_fit": null,
            "grid_auto_columns": null,
            "margin": null,
            "display": null,
            "left": null
          }
        },
        "574f0691cad54ce0880769ad04d686f6": {
          "model_module": "@jupyter-widgets/controls",
          "model_name": "HBoxModel",
          "state": {
            "_view_name": "HBoxView",
            "_dom_classes": [],
            "_model_name": "HBoxModel",
            "_view_module": "@jupyter-widgets/controls",
            "_model_module_version": "1.5.0",
            "_view_count": null,
            "_view_module_version": "1.5.0",
            "box_style": "",
            "layout": "IPY_MODEL_decdd867d62d49919eb5fb7c6e04d2a2",
            "_model_module": "@jupyter-widgets/controls",
            "children": [
              "IPY_MODEL_e916ad922fde4d80ab6607e7a743dc78",
              "IPY_MODEL_2d3be46dddee41f2acd8e0eb7a32efaa"
            ]
          }
        },
        "decdd867d62d49919eb5fb7c6e04d2a2": {
          "model_module": "@jupyter-widgets/base",
          "model_name": "LayoutModel",
          "state": {
            "_view_name": "LayoutView",
            "grid_template_rows": null,
            "right": null,
            "justify_content": null,
            "_view_module": "@jupyter-widgets/base",
            "overflow": null,
            "_model_module_version": "1.2.0",
            "_view_count": null,
            "flex_flow": null,
            "width": null,
            "min_width": null,
            "border": null,
            "align_items": null,
            "bottom": null,
            "_model_module": "@jupyter-widgets/base",
            "top": null,
            "grid_column": null,
            "overflow_y": null,
            "overflow_x": null,
            "grid_auto_flow": null,
            "grid_area": null,
            "grid_template_columns": null,
            "flex": null,
            "_model_name": "LayoutModel",
            "justify_items": null,
            "grid_row": null,
            "max_height": null,
            "align_content": null,
            "visibility": null,
            "align_self": null,
            "height": null,
            "min_height": null,
            "padding": null,
            "grid_auto_rows": null,
            "grid_gap": null,
            "max_width": null,
            "order": null,
            "_view_module_version": "1.2.0",
            "grid_template_areas": null,
            "object_position": null,
            "object_fit": null,
            "grid_auto_columns": null,
            "margin": null,
            "display": null,
            "left": null
          }
        },
        "e916ad922fde4d80ab6607e7a743dc78": {
          "model_module": "@jupyter-widgets/controls",
          "model_name": "FloatProgressModel",
          "state": {
            "_view_name": "ProgressView",
            "style": "IPY_MODEL_1d9365600aef4b84865575d04e936d75",
            "_dom_classes": [],
            "description": "Downloading: 100%",
            "_model_name": "FloatProgressModel",
            "bar_style": "success",
            "max": 253217,
            "_view_module": "@jupyter-widgets/controls",
            "_model_module_version": "1.5.0",
            "value": 253217,
            "_view_count": null,
            "_view_module_version": "1.5.0",
            "orientation": "horizontal",
            "min": 0,
            "description_tooltip": null,
            "_model_module": "@jupyter-widgets/controls",
            "layout": "IPY_MODEL_443ee59a209b4d5f996a0d38b803ad03"
          }
        },
        "2d3be46dddee41f2acd8e0eb7a32efaa": {
          "model_module": "@jupyter-widgets/controls",
          "model_name": "HTMLModel",
          "state": {
            "_view_name": "HTMLView",
            "style": "IPY_MODEL_a71588a0b8234eba8383d82596c6ca67",
            "_dom_classes": [],
            "description": "",
            "_model_name": "HTMLModel",
            "placeholder": "​",
            "_view_module": "@jupyter-widgets/controls",
            "_model_module_version": "1.5.0",
            "value": " 253k/253k [00:00&lt;00:00, 865kB/s]",
            "_view_count": null,
            "_view_module_version": "1.5.0",
            "description_tooltip": null,
            "_model_module": "@jupyter-widgets/controls",
            "layout": "IPY_MODEL_462dbc469f0a4698bf9fd4c993b2885c"
          }
        },
        "1d9365600aef4b84865575d04e936d75": {
          "model_module": "@jupyter-widgets/controls",
          "model_name": "ProgressStyleModel",
          "state": {
            "_view_name": "StyleView",
            "_model_name": "ProgressStyleModel",
            "description_width": "initial",
            "_view_module": "@jupyter-widgets/base",
            "_model_module_version": "1.5.0",
            "_view_count": null,
            "_view_module_version": "1.2.0",
            "bar_color": null,
            "_model_module": "@jupyter-widgets/controls"
          }
        },
        "443ee59a209b4d5f996a0d38b803ad03": {
          "model_module": "@jupyter-widgets/base",
          "model_name": "LayoutModel",
          "state": {
            "_view_name": "LayoutView",
            "grid_template_rows": null,
            "right": null,
            "justify_content": null,
            "_view_module": "@jupyter-widgets/base",
            "overflow": null,
            "_model_module_version": "1.2.0",
            "_view_count": null,
            "flex_flow": null,
            "width": null,
            "min_width": null,
            "border": null,
            "align_items": null,
            "bottom": null,
            "_model_module": "@jupyter-widgets/base",
            "top": null,
            "grid_column": null,
            "overflow_y": null,
            "overflow_x": null,
            "grid_auto_flow": null,
            "grid_area": null,
            "grid_template_columns": null,
            "flex": null,
            "_model_name": "LayoutModel",
            "justify_items": null,
            "grid_row": null,
            "max_height": null,
            "align_content": null,
            "visibility": null,
            "align_self": null,
            "height": null,
            "min_height": null,
            "padding": null,
            "grid_auto_rows": null,
            "grid_gap": null,
            "max_width": null,
            "order": null,
            "_view_module_version": "1.2.0",
            "grid_template_areas": null,
            "object_position": null,
            "object_fit": null,
            "grid_auto_columns": null,
            "margin": null,
            "display": null,
            "left": null
          }
        },
        "a71588a0b8234eba8383d82596c6ca67": {
          "model_module": "@jupyter-widgets/controls",
          "model_name": "DescriptionStyleModel",
          "state": {
            "_view_name": "StyleView",
            "_model_name": "DescriptionStyleModel",
            "description_width": "",
            "_view_module": "@jupyter-widgets/base",
            "_model_module_version": "1.5.0",
            "_view_count": null,
            "_view_module_version": "1.2.0",
            "_model_module": "@jupyter-widgets/controls"
          }
        },
        "462dbc469f0a4698bf9fd4c993b2885c": {
          "model_module": "@jupyter-widgets/base",
          "model_name": "LayoutModel",
          "state": {
            "_view_name": "LayoutView",
            "grid_template_rows": null,
            "right": null,
            "justify_content": null,
            "_view_module": "@jupyter-widgets/base",
            "overflow": null,
            "_model_module_version": "1.2.0",
            "_view_count": null,
            "flex_flow": null,
            "width": null,
            "min_width": null,
            "border": null,
            "align_items": null,
            "bottom": null,
            "_model_module": "@jupyter-widgets/base",
            "top": null,
            "grid_column": null,
            "overflow_y": null,
            "overflow_x": null,
            "grid_auto_flow": null,
            "grid_area": null,
            "grid_template_columns": null,
            "flex": null,
            "_model_name": "LayoutModel",
            "justify_items": null,
            "grid_row": null,
            "max_height": null,
            "align_content": null,
            "visibility": null,
            "align_self": null,
            "height": null,
            "min_height": null,
            "padding": null,
            "grid_auto_rows": null,
            "grid_gap": null,
            "max_width": null,
            "order": null,
            "_view_module_version": "1.2.0",
            "grid_template_areas": null,
            "object_position": null,
            "object_fit": null,
            "grid_auto_columns": null,
            "margin": null,
            "display": null,
            "left": null
          }
        },
        "4c68a283802c4b1e9a110df418bfa3a9": {
          "model_module": "@jupyter-widgets/controls",
          "model_name": "HBoxModel",
          "state": {
            "_view_name": "HBoxView",
            "_dom_classes": [],
            "_model_name": "HBoxModel",
            "_view_module": "@jupyter-widgets/controls",
            "_model_module_version": "1.5.0",
            "_view_count": null,
            "_view_module_version": "1.5.0",
            "box_style": "",
            "layout": "IPY_MODEL_a5d20838adc148069b707ec936d079dd",
            "_model_module": "@jupyter-widgets/controls",
            "children": [
              "IPY_MODEL_6419df7189a240ea949834c9974f285d",
              "IPY_MODEL_c48e6c03cbb543a69aef5c8e9680ace5"
            ]
          }
        },
        "a5d20838adc148069b707ec936d079dd": {
          "model_module": "@jupyter-widgets/base",
          "model_name": "LayoutModel",
          "state": {
            "_view_name": "LayoutView",
            "grid_template_rows": null,
            "right": null,
            "justify_content": null,
            "_view_module": "@jupyter-widgets/base",
            "overflow": null,
            "_model_module_version": "1.2.0",
            "_view_count": null,
            "flex_flow": null,
            "width": null,
            "min_width": null,
            "border": null,
            "align_items": null,
            "bottom": null,
            "_model_module": "@jupyter-widgets/base",
            "top": null,
            "grid_column": null,
            "overflow_y": null,
            "overflow_x": null,
            "grid_auto_flow": null,
            "grid_area": null,
            "grid_template_columns": null,
            "flex": null,
            "_model_name": "LayoutModel",
            "justify_items": null,
            "grid_row": null,
            "max_height": null,
            "align_content": null,
            "visibility": null,
            "align_self": null,
            "height": null,
            "min_height": null,
            "padding": null,
            "grid_auto_rows": null,
            "grid_gap": null,
            "max_width": null,
            "order": null,
            "_view_module_version": "1.2.0",
            "grid_template_areas": null,
            "object_position": null,
            "object_fit": null,
            "grid_auto_columns": null,
            "margin": null,
            "display": null,
            "left": null
          }
        },
        "6419df7189a240ea949834c9974f285d": {
          "model_module": "@jupyter-widgets/controls",
          "model_name": "FloatProgressModel",
          "state": {
            "_view_name": "ProgressView",
            "style": "IPY_MODEL_6fb21f3aaa7f47f08d87e07fed3444c3",
            "_dom_classes": [],
            "description": "Downloading: 100%",
            "_model_name": "FloatProgressModel",
            "bar_style": "success",
            "max": 1920,
            "_view_module": "@jupyter-widgets/controls",
            "_model_module_version": "1.5.0",
            "value": 1920,
            "_view_count": null,
            "_view_module_version": "1.5.0",
            "orientation": "horizontal",
            "min": 0,
            "description_tooltip": null,
            "_model_module": "@jupyter-widgets/controls",
            "layout": "IPY_MODEL_d1d155e571a2496fba42f4783a70c314"
          }
        },
        "c48e6c03cbb543a69aef5c8e9680ace5": {
          "model_module": "@jupyter-widgets/controls",
          "model_name": "HTMLModel",
          "state": {
            "_view_name": "HTMLView",
            "style": "IPY_MODEL_1edc684d550a4917b3b09381ca303234",
            "_dom_classes": [],
            "description": "",
            "_model_name": "HTMLModel",
            "placeholder": "​",
            "_view_module": "@jupyter-widgets/controls",
            "_model_module_version": "1.5.0",
            "value": " 1.92k/1.92k [00:00&lt;00:00, 30.1kB/s]",
            "_view_count": null,
            "_view_module_version": "1.5.0",
            "description_tooltip": null,
            "_model_module": "@jupyter-widgets/controls",
            "layout": "IPY_MODEL_af24a7c94d70408cbcb15d8549df6c86"
          }
        },
        "6fb21f3aaa7f47f08d87e07fed3444c3": {
          "model_module": "@jupyter-widgets/controls",
          "model_name": "ProgressStyleModel",
          "state": {
            "_view_name": "StyleView",
            "_model_name": "ProgressStyleModel",
            "description_width": "initial",
            "_view_module": "@jupyter-widgets/base",
            "_model_module_version": "1.5.0",
            "_view_count": null,
            "_view_module_version": "1.2.0",
            "bar_color": null,
            "_model_module": "@jupyter-widgets/controls"
          }
        },
        "d1d155e571a2496fba42f4783a70c314": {
          "model_module": "@jupyter-widgets/base",
          "model_name": "LayoutModel",
          "state": {
            "_view_name": "LayoutView",
            "grid_template_rows": null,
            "right": null,
            "justify_content": null,
            "_view_module": "@jupyter-widgets/base",
            "overflow": null,
            "_model_module_version": "1.2.0",
            "_view_count": null,
            "flex_flow": null,
            "width": null,
            "min_width": null,
            "border": null,
            "align_items": null,
            "bottom": null,
            "_model_module": "@jupyter-widgets/base",
            "top": null,
            "grid_column": null,
            "overflow_y": null,
            "overflow_x": null,
            "grid_auto_flow": null,
            "grid_area": null,
            "grid_template_columns": null,
            "flex": null,
            "_model_name": "LayoutModel",
            "justify_items": null,
            "grid_row": null,
            "max_height": null,
            "align_content": null,
            "visibility": null,
            "align_self": null,
            "height": null,
            "min_height": null,
            "padding": null,
            "grid_auto_rows": null,
            "grid_gap": null,
            "max_width": null,
            "order": null,
            "_view_module_version": "1.2.0",
            "grid_template_areas": null,
            "object_position": null,
            "object_fit": null,
            "grid_auto_columns": null,
            "margin": null,
            "display": null,
            "left": null
          }
        },
        "1edc684d550a4917b3b09381ca303234": {
          "model_module": "@jupyter-widgets/controls",
          "model_name": "DescriptionStyleModel",
          "state": {
            "_view_name": "StyleView",
            "_model_name": "DescriptionStyleModel",
            "description_width": "",
            "_view_module": "@jupyter-widgets/base",
            "_model_module_version": "1.5.0",
            "_view_count": null,
            "_view_module_version": "1.2.0",
            "_model_module": "@jupyter-widgets/controls"
          }
        },
        "af24a7c94d70408cbcb15d8549df6c86": {
          "model_module": "@jupyter-widgets/base",
          "model_name": "LayoutModel",
          "state": {
            "_view_name": "LayoutView",
            "grid_template_rows": null,
            "right": null,
            "justify_content": null,
            "_view_module": "@jupyter-widgets/base",
            "overflow": null,
            "_model_module_version": "1.2.0",
            "_view_count": null,
            "flex_flow": null,
            "width": null,
            "min_width": null,
            "border": null,
            "align_items": null,
            "bottom": null,
            "_model_module": "@jupyter-widgets/base",
            "top": null,
            "grid_column": null,
            "overflow_y": null,
            "overflow_x": null,
            "grid_auto_flow": null,
            "grid_area": null,
            "grid_template_columns": null,
            "flex": null,
            "_model_name": "LayoutModel",
            "justify_items": null,
            "grid_row": null,
            "max_height": null,
            "align_content": null,
            "visibility": null,
            "align_self": null,
            "height": null,
            "min_height": null,
            "padding": null,
            "grid_auto_rows": null,
            "grid_gap": null,
            "max_width": null,
            "order": null,
            "_view_module_version": "1.2.0",
            "grid_template_areas": null,
            "object_position": null,
            "object_fit": null,
            "grid_auto_columns": null,
            "margin": null,
            "display": null,
            "left": null
          }
        },
        "dd3e294c3f894909945ffd5acd8703b9": {
          "model_module": "@jupyter-widgets/controls",
          "model_name": "HBoxModel",
          "state": {
            "_view_name": "HBoxView",
            "_dom_classes": [],
            "_model_name": "HBoxModel",
            "_view_module": "@jupyter-widgets/controls",
            "_model_module_version": "1.5.0",
            "_view_count": null,
            "_view_module_version": "1.5.0",
            "box_style": "",
            "layout": "IPY_MODEL_fb06bf9a526a4eb39248762c89868017",
            "_model_module": "@jupyter-widgets/controls",
            "children": [
              "IPY_MODEL_965f16f7c7f84d58a9697141dc93695b",
              "IPY_MODEL_a0c8d5496f3d4ed8af5e80962ee8956c"
            ]
          }
        },
        "fb06bf9a526a4eb39248762c89868017": {
          "model_module": "@jupyter-widgets/base",
          "model_name": "LayoutModel",
          "state": {
            "_view_name": "LayoutView",
            "grid_template_rows": null,
            "right": null,
            "justify_content": null,
            "_view_module": "@jupyter-widgets/base",
            "overflow": null,
            "_model_module_version": "1.2.0",
            "_view_count": null,
            "flex_flow": null,
            "width": null,
            "min_width": null,
            "border": null,
            "align_items": null,
            "bottom": null,
            "_model_module": "@jupyter-widgets/base",
            "top": null,
            "grid_column": null,
            "overflow_y": null,
            "overflow_x": null,
            "grid_auto_flow": null,
            "grid_area": null,
            "grid_template_columns": null,
            "flex": null,
            "_model_name": "LayoutModel",
            "justify_items": null,
            "grid_row": null,
            "max_height": null,
            "align_content": null,
            "visibility": null,
            "align_self": null,
            "height": null,
            "min_height": null,
            "padding": null,
            "grid_auto_rows": null,
            "grid_gap": null,
            "max_width": null,
            "order": null,
            "_view_module_version": "1.2.0",
            "grid_template_areas": null,
            "object_position": null,
            "object_fit": null,
            "grid_auto_columns": null,
            "margin": null,
            "display": null,
            "left": null
          }
        },
        "965f16f7c7f84d58a9697141dc93695b": {
          "model_module": "@jupyter-widgets/controls",
          "model_name": "FloatProgressModel",
          "state": {
            "_view_name": "ProgressView",
            "style": "IPY_MODEL_e67334c71bc84998a93b60a848d4a42c",
            "_dom_classes": [],
            "description": "Downloading: 100%",
            "_model_name": "FloatProgressModel",
            "bar_style": "success",
            "max": 83316686,
            "_view_module": "@jupyter-widgets/controls",
            "_model_module_version": "1.5.0",
            "value": 83316686,
            "_view_count": null,
            "_view_module_version": "1.5.0",
            "orientation": "horizontal",
            "min": 0,
            "description_tooltip": null,
            "_model_module": "@jupyter-widgets/controls",
            "layout": "IPY_MODEL_85a51a9e01074b72ba8911a0f1f3c600"
          }
        },
        "a0c8d5496f3d4ed8af5e80962ee8956c": {
          "model_module": "@jupyter-widgets/controls",
          "model_name": "HTMLModel",
          "state": {
            "_view_name": "HTMLView",
            "style": "IPY_MODEL_2a4a3e8ab9a241818d66194f332cb192",
            "_dom_classes": [],
            "description": "",
            "_model_name": "HTMLModel",
            "placeholder": "​",
            "_view_module": "@jupyter-widgets/controls",
            "_model_module_version": "1.5.0",
            "value": " 83.3M/83.3M [00:01&lt;00:00, 43.9MB/s]",
            "_view_count": null,
            "_view_module_version": "1.5.0",
            "description_tooltip": null,
            "_model_module": "@jupyter-widgets/controls",
            "layout": "IPY_MODEL_e9d4fbe3517243ea9fbd3f41b38e34b6"
          }
        },
        "e67334c71bc84998a93b60a848d4a42c": {
          "model_module": "@jupyter-widgets/controls",
          "model_name": "ProgressStyleModel",
          "state": {
            "_view_name": "StyleView",
            "_model_name": "ProgressStyleModel",
            "description_width": "initial",
            "_view_module": "@jupyter-widgets/base",
            "_model_module_version": "1.5.0",
            "_view_count": null,
            "_view_module_version": "1.2.0",
            "bar_color": null,
            "_model_module": "@jupyter-widgets/controls"
          }
        },
        "85a51a9e01074b72ba8911a0f1f3c600": {
          "model_module": "@jupyter-widgets/base",
          "model_name": "LayoutModel",
          "state": {
            "_view_name": "LayoutView",
            "grid_template_rows": null,
            "right": null,
            "justify_content": null,
            "_view_module": "@jupyter-widgets/base",
            "overflow": null,
            "_model_module_version": "1.2.0",
            "_view_count": null,
            "flex_flow": null,
            "width": null,
            "min_width": null,
            "border": null,
            "align_items": null,
            "bottom": null,
            "_model_module": "@jupyter-widgets/base",
            "top": null,
            "grid_column": null,
            "overflow_y": null,
            "overflow_x": null,
            "grid_auto_flow": null,
            "grid_area": null,
            "grid_template_columns": null,
            "flex": null,
            "_model_name": "LayoutModel",
            "justify_items": null,
            "grid_row": null,
            "max_height": null,
            "align_content": null,
            "visibility": null,
            "align_self": null,
            "height": null,
            "min_height": null,
            "padding": null,
            "grid_auto_rows": null,
            "grid_gap": null,
            "max_width": null,
            "order": null,
            "_view_module_version": "1.2.0",
            "grid_template_areas": null,
            "object_position": null,
            "object_fit": null,
            "grid_auto_columns": null,
            "margin": null,
            "display": null,
            "left": null
          }
        },
        "2a4a3e8ab9a241818d66194f332cb192": {
          "model_module": "@jupyter-widgets/controls",
          "model_name": "DescriptionStyleModel",
          "state": {
            "_view_name": "StyleView",
            "_model_name": "DescriptionStyleModel",
            "description_width": "",
            "_view_module": "@jupyter-widgets/base",
            "_model_module_version": "1.5.0",
            "_view_count": null,
            "_view_module_version": "1.2.0",
            "_model_module": "@jupyter-widgets/controls"
          }
        },
        "e9d4fbe3517243ea9fbd3f41b38e34b6": {
          "model_module": "@jupyter-widgets/base",
          "model_name": "LayoutModel",
          "state": {
            "_view_name": "LayoutView",
            "grid_template_rows": null,
            "right": null,
            "justify_content": null,
            "_view_module": "@jupyter-widgets/base",
            "overflow": null,
            "_model_module_version": "1.2.0",
            "_view_count": null,
            "flex_flow": null,
            "width": null,
            "min_width": null,
            "border": null,
            "align_items": null,
            "bottom": null,
            "_model_module": "@jupyter-widgets/base",
            "top": null,
            "grid_column": null,
            "overflow_y": null,
            "overflow_x": null,
            "grid_auto_flow": null,
            "grid_area": null,
            "grid_template_columns": null,
            "flex": null,
            "_model_name": "LayoutModel",
            "justify_items": null,
            "grid_row": null,
            "max_height": null,
            "align_content": null,
            "visibility": null,
            "align_self": null,
            "height": null,
            "min_height": null,
            "padding": null,
            "grid_auto_rows": null,
            "grid_gap": null,
            "max_width": null,
            "order": null,
            "_view_module_version": "1.2.0",
            "grid_template_areas": null,
            "object_position": null,
            "object_fit": null,
            "grid_auto_columns": null,
            "margin": null,
            "display": null,
            "left": null
          }
        },
        "2a441ae230ff4427bad17f0974b2a57b": {
          "model_module": "@jupyter-widgets/controls",
          "model_name": "HBoxModel",
          "state": {
            "_view_name": "HBoxView",
            "_dom_classes": [],
            "_model_name": "HBoxModel",
            "_view_module": "@jupyter-widgets/controls",
            "_model_module_version": "1.5.0",
            "_view_count": null,
            "_view_module_version": "1.5.0",
            "box_style": "",
            "layout": "IPY_MODEL_a0f7af2a21a4462c9f5171e477a3d312",
            "_model_module": "@jupyter-widgets/controls",
            "children": [
              "IPY_MODEL_208866bb1c184a28bdac3a89cafa3a2d",
              "IPY_MODEL_75e15aba7d1d4a0e998dc3720f429c0d"
            ]
          }
        },
        "a0f7af2a21a4462c9f5171e477a3d312": {
          "model_module": "@jupyter-widgets/base",
          "model_name": "LayoutModel",
          "state": {
            "_view_name": "LayoutView",
            "grid_template_rows": null,
            "right": null,
            "justify_content": null,
            "_view_module": "@jupyter-widgets/base",
            "overflow": null,
            "_model_module_version": "1.2.0",
            "_view_count": null,
            "flex_flow": null,
            "width": null,
            "min_width": null,
            "border": null,
            "align_items": null,
            "bottom": null,
            "_model_module": "@jupyter-widgets/base",
            "top": null,
            "grid_column": null,
            "overflow_y": null,
            "overflow_x": null,
            "grid_auto_flow": null,
            "grid_area": null,
            "grid_template_columns": null,
            "flex": null,
            "_model_name": "LayoutModel",
            "justify_items": null,
            "grid_row": null,
            "max_height": null,
            "align_content": null,
            "visibility": null,
            "align_self": null,
            "height": null,
            "min_height": null,
            "padding": null,
            "grid_auto_rows": null,
            "grid_gap": null,
            "max_width": null,
            "order": null,
            "_view_module_version": "1.2.0",
            "grid_template_areas": null,
            "object_position": null,
            "object_fit": null,
            "grid_auto_columns": null,
            "margin": null,
            "display": null,
            "left": null
          }
        },
        "208866bb1c184a28bdac3a89cafa3a2d": {
          "model_module": "@jupyter-widgets/controls",
          "model_name": "FloatProgressModel",
          "state": {
            "_view_name": "ProgressView",
            "style": "IPY_MODEL_ff9c43a6210b4deda671185746fcec08",
            "_dom_classes": [],
            "description": "Downloading: 100%",
            "_model_name": "FloatProgressModel",
            "bar_style": "success",
            "max": 1921,
            "_view_module": "@jupyter-widgets/controls",
            "_model_module_version": "1.5.0",
            "value": 1921,
            "_view_count": null,
            "_view_module_version": "1.5.0",
            "orientation": "horizontal",
            "min": 0,
            "description_tooltip": null,
            "_model_module": "@jupyter-widgets/controls",
            "layout": "IPY_MODEL_03e0a9999a894274827200fadcf291f3"
          }
        },
        "75e15aba7d1d4a0e998dc3720f429c0d": {
          "model_module": "@jupyter-widgets/controls",
          "model_name": "HTMLModel",
          "state": {
            "_view_name": "HTMLView",
            "style": "IPY_MODEL_f9882d6fffa64ff39965b2c49c6a2a65",
            "_dom_classes": [],
            "description": "",
            "_model_name": "HTMLModel",
            "placeholder": "​",
            "_view_module": "@jupyter-widgets/controls",
            "_model_module_version": "1.5.0",
            "value": " 1.92k/1.92k [00:00&lt;00:00, 4.50kB/s]",
            "_view_count": null,
            "_view_module_version": "1.5.0",
            "description_tooltip": null,
            "_model_module": "@jupyter-widgets/controls",
            "layout": "IPY_MODEL_25af3995410347dcb6a99486a5cd992f"
          }
        },
        "ff9c43a6210b4deda671185746fcec08": {
          "model_module": "@jupyter-widgets/controls",
          "model_name": "ProgressStyleModel",
          "state": {
            "_view_name": "StyleView",
            "_model_name": "ProgressStyleModel",
            "description_width": "initial",
            "_view_module": "@jupyter-widgets/base",
            "_model_module_version": "1.5.0",
            "_view_count": null,
            "_view_module_version": "1.2.0",
            "bar_color": null,
            "_model_module": "@jupyter-widgets/controls"
          }
        },
        "03e0a9999a894274827200fadcf291f3": {
          "model_module": "@jupyter-widgets/base",
          "model_name": "LayoutModel",
          "state": {
            "_view_name": "LayoutView",
            "grid_template_rows": null,
            "right": null,
            "justify_content": null,
            "_view_module": "@jupyter-widgets/base",
            "overflow": null,
            "_model_module_version": "1.2.0",
            "_view_count": null,
            "flex_flow": null,
            "width": null,
            "min_width": null,
            "border": null,
            "align_items": null,
            "bottom": null,
            "_model_module": "@jupyter-widgets/base",
            "top": null,
            "grid_column": null,
            "overflow_y": null,
            "overflow_x": null,
            "grid_auto_flow": null,
            "grid_area": null,
            "grid_template_columns": null,
            "flex": null,
            "_model_name": "LayoutModel",
            "justify_items": null,
            "grid_row": null,
            "max_height": null,
            "align_content": null,
            "visibility": null,
            "align_self": null,
            "height": null,
            "min_height": null,
            "padding": null,
            "grid_auto_rows": null,
            "grid_gap": null,
            "max_width": null,
            "order": null,
            "_view_module_version": "1.2.0",
            "grid_template_areas": null,
            "object_position": null,
            "object_fit": null,
            "grid_auto_columns": null,
            "margin": null,
            "display": null,
            "left": null
          }
        },
        "f9882d6fffa64ff39965b2c49c6a2a65": {
          "model_module": "@jupyter-widgets/controls",
          "model_name": "DescriptionStyleModel",
          "state": {
            "_view_name": "StyleView",
            "_model_name": "DescriptionStyleModel",
            "description_width": "",
            "_view_module": "@jupyter-widgets/base",
            "_model_module_version": "1.5.0",
            "_view_count": null,
            "_view_module_version": "1.2.0",
            "_model_module": "@jupyter-widgets/controls"
          }
        },
        "25af3995410347dcb6a99486a5cd992f": {
          "model_module": "@jupyter-widgets/base",
          "model_name": "LayoutModel",
          "state": {
            "_view_name": "LayoutView",
            "grid_template_rows": null,
            "right": null,
            "justify_content": null,
            "_view_module": "@jupyter-widgets/base",
            "overflow": null,
            "_model_module_version": "1.2.0",
            "_view_count": null,
            "flex_flow": null,
            "width": null,
            "min_width": null,
            "border": null,
            "align_items": null,
            "bottom": null,
            "_model_module": "@jupyter-widgets/base",
            "top": null,
            "grid_column": null,
            "overflow_y": null,
            "overflow_x": null,
            "grid_auto_flow": null,
            "grid_area": null,
            "grid_template_columns": null,
            "flex": null,
            "_model_name": "LayoutModel",
            "justify_items": null,
            "grid_row": null,
            "max_height": null,
            "align_content": null,
            "visibility": null,
            "align_self": null,
            "height": null,
            "min_height": null,
            "padding": null,
            "grid_auto_rows": null,
            "grid_gap": null,
            "max_width": null,
            "order": null,
            "_view_module_version": "1.2.0",
            "grid_template_areas": null,
            "object_position": null,
            "object_fit": null,
            "grid_auto_columns": null,
            "margin": null,
            "display": null,
            "left": null
          }
        },
        "89b3627418cd48328808393171b83172": {
          "model_module": "@jupyter-widgets/controls",
          "model_name": "HBoxModel",
          "state": {
            "_view_name": "HBoxView",
            "_dom_classes": [],
            "_model_name": "HBoxModel",
            "_view_module": "@jupyter-widgets/controls",
            "_model_module_version": "1.5.0",
            "_view_count": null,
            "_view_module_version": "1.5.0",
            "box_style": "",
            "layout": "IPY_MODEL_7cb2a5c32e5e41be8aad82fb0ef5e5c7",
            "_model_module": "@jupyter-widgets/controls",
            "children": [
              "IPY_MODEL_663e443c11e84a92abbcef3797c97b78",
              "IPY_MODEL_536e5a5d7c1b414a94970521046390f6"
            ]
          }
        },
        "7cb2a5c32e5e41be8aad82fb0ef5e5c7": {
          "model_module": "@jupyter-widgets/base",
          "model_name": "LayoutModel",
          "state": {
            "_view_name": "LayoutView",
            "grid_template_rows": null,
            "right": null,
            "justify_content": null,
            "_view_module": "@jupyter-widgets/base",
            "overflow": null,
            "_model_module_version": "1.2.0",
            "_view_count": null,
            "flex_flow": null,
            "width": null,
            "min_width": null,
            "border": null,
            "align_items": null,
            "bottom": null,
            "_model_module": "@jupyter-widgets/base",
            "top": null,
            "grid_column": null,
            "overflow_y": null,
            "overflow_x": null,
            "grid_auto_flow": null,
            "grid_area": null,
            "grid_template_columns": null,
            "flex": null,
            "_model_name": "LayoutModel",
            "justify_items": null,
            "grid_row": null,
            "max_height": null,
            "align_content": null,
            "visibility": null,
            "align_self": null,
            "height": null,
            "min_height": null,
            "padding": null,
            "grid_auto_rows": null,
            "grid_gap": null,
            "max_width": null,
            "order": null,
            "_view_module_version": "1.2.0",
            "grid_template_areas": null,
            "object_position": null,
            "object_fit": null,
            "grid_auto_columns": null,
            "margin": null,
            "display": null,
            "left": null
          }
        },
        "663e443c11e84a92abbcef3797c97b78": {
          "model_module": "@jupyter-widgets/controls",
          "model_name": "FloatProgressModel",
          "state": {
            "_view_name": "ProgressView",
            "style": "IPY_MODEL_a7a176dcad264cfc8dc4dd4b5d4e198d",
            "_dom_classes": [],
            "description": "Downloading: 100%",
            "_model_name": "FloatProgressModel",
            "bar_style": "success",
            "max": 5534328,
            "_view_module": "@jupyter-widgets/controls",
            "_model_module_version": "1.5.0",
            "value": 5534328,
            "_view_count": null,
            "_view_module_version": "1.5.0",
            "orientation": "horizontal",
            "min": 0,
            "description_tooltip": null,
            "_model_module": "@jupyter-widgets/controls",
            "layout": "IPY_MODEL_45c0d2e1f5a9435f84293151d2f322c7"
          }
        },
        "536e5a5d7c1b414a94970521046390f6": {
          "model_module": "@jupyter-widgets/controls",
          "model_name": "HTMLModel",
          "state": {
            "_view_name": "HTMLView",
            "style": "IPY_MODEL_b0d970d31db14ac295a909d0bfb5fe20",
            "_dom_classes": [],
            "description": "",
            "_model_name": "HTMLModel",
            "placeholder": "​",
            "_view_module": "@jupyter-widgets/controls",
            "_model_module_version": "1.5.0",
            "value": " 5.53M/5.53M [00:00&lt;00:00, 16.8MB/s]",
            "_view_count": null,
            "_view_module_version": "1.5.0",
            "description_tooltip": null,
            "_model_module": "@jupyter-widgets/controls",
            "layout": "IPY_MODEL_841f5602f27a4d02ba498053c8834701"
          }
        },
        "a7a176dcad264cfc8dc4dd4b5d4e198d": {
          "model_module": "@jupyter-widgets/controls",
          "model_name": "ProgressStyleModel",
          "state": {
            "_view_name": "StyleView",
            "_model_name": "ProgressStyleModel",
            "description_width": "initial",
            "_view_module": "@jupyter-widgets/base",
            "_model_module_version": "1.5.0",
            "_view_count": null,
            "_view_module_version": "1.2.0",
            "bar_color": null,
            "_model_module": "@jupyter-widgets/controls"
          }
        },
        "45c0d2e1f5a9435f84293151d2f322c7": {
          "model_module": "@jupyter-widgets/base",
          "model_name": "LayoutModel",
          "state": {
            "_view_name": "LayoutView",
            "grid_template_rows": null,
            "right": null,
            "justify_content": null,
            "_view_module": "@jupyter-widgets/base",
            "overflow": null,
            "_model_module_version": "1.2.0",
            "_view_count": null,
            "flex_flow": null,
            "width": null,
            "min_width": null,
            "border": null,
            "align_items": null,
            "bottom": null,
            "_model_module": "@jupyter-widgets/base",
            "top": null,
            "grid_column": null,
            "overflow_y": null,
            "overflow_x": null,
            "grid_auto_flow": null,
            "grid_area": null,
            "grid_template_columns": null,
            "flex": null,
            "_model_name": "LayoutModel",
            "justify_items": null,
            "grid_row": null,
            "max_height": null,
            "align_content": null,
            "visibility": null,
            "align_self": null,
            "height": null,
            "min_height": null,
            "padding": null,
            "grid_auto_rows": null,
            "grid_gap": null,
            "max_width": null,
            "order": null,
            "_view_module_version": "1.2.0",
            "grid_template_areas": null,
            "object_position": null,
            "object_fit": null,
            "grid_auto_columns": null,
            "margin": null,
            "display": null,
            "left": null
          }
        },
        "b0d970d31db14ac295a909d0bfb5fe20": {
          "model_module": "@jupyter-widgets/controls",
          "model_name": "DescriptionStyleModel",
          "state": {
            "_view_name": "StyleView",
            "_model_name": "DescriptionStyleModel",
            "description_width": "",
            "_view_module": "@jupyter-widgets/base",
            "_model_module_version": "1.5.0",
            "_view_count": null,
            "_view_module_version": "1.2.0",
            "_model_module": "@jupyter-widgets/controls"
          }
        },
        "841f5602f27a4d02ba498053c8834701": {
          "model_module": "@jupyter-widgets/base",
          "model_name": "LayoutModel",
          "state": {
            "_view_name": "LayoutView",
            "grid_template_rows": null,
            "right": null,
            "justify_content": null,
            "_view_module": "@jupyter-widgets/base",
            "overflow": null,
            "_model_module_version": "1.2.0",
            "_view_count": null,
            "flex_flow": null,
            "width": null,
            "min_width": null,
            "border": null,
            "align_items": null,
            "bottom": null,
            "_model_module": "@jupyter-widgets/base",
            "top": null,
            "grid_column": null,
            "overflow_y": null,
            "overflow_x": null,
            "grid_auto_flow": null,
            "grid_area": null,
            "grid_template_columns": null,
            "flex": null,
            "_model_name": "LayoutModel",
            "justify_items": null,
            "grid_row": null,
            "max_height": null,
            "align_content": null,
            "visibility": null,
            "align_self": null,
            "height": null,
            "min_height": null,
            "padding": null,
            "grid_auto_rows": null,
            "grid_gap": null,
            "max_width": null,
            "order": null,
            "_view_module_version": "1.2.0",
            "grid_template_areas": null,
            "object_position": null,
            "object_fit": null,
            "grid_auto_columns": null,
            "margin": null,
            "display": null,
            "left": null
          }
        },
        "9f2dab03f34d46b5a4ffc61855e9bb9c": {
          "model_module": "@jupyter-widgets/controls",
          "model_name": "HBoxModel",
          "state": {
            "_view_name": "HBoxView",
            "_dom_classes": [],
            "_model_name": "HBoxModel",
            "_view_module": "@jupyter-widgets/controls",
            "_model_module_version": "1.5.0",
            "_view_count": null,
            "_view_module_version": "1.5.0",
            "box_style": "",
            "layout": "IPY_MODEL_de6cc0b2d31048dcb02e50c2f4b8648f",
            "_model_module": "@jupyter-widgets/controls",
            "children": [
              "IPY_MODEL_0ff106a4f58c4857a145201c438a267b",
              "IPY_MODEL_937176be114246d3b7a0c790f4263f9e"
            ]
          }
        },
        "de6cc0b2d31048dcb02e50c2f4b8648f": {
          "model_module": "@jupyter-widgets/base",
          "model_name": "LayoutModel",
          "state": {
            "_view_name": "LayoutView",
            "grid_template_rows": null,
            "right": null,
            "justify_content": null,
            "_view_module": "@jupyter-widgets/base",
            "overflow": null,
            "_model_module_version": "1.2.0",
            "_view_count": null,
            "flex_flow": null,
            "width": null,
            "min_width": null,
            "border": null,
            "align_items": null,
            "bottom": null,
            "_model_module": "@jupyter-widgets/base",
            "top": null,
            "grid_column": null,
            "overflow_y": null,
            "overflow_x": null,
            "grid_auto_flow": null,
            "grid_area": null,
            "grid_template_columns": null,
            "flex": null,
            "_model_name": "LayoutModel",
            "justify_items": null,
            "grid_row": null,
            "max_height": null,
            "align_content": null,
            "visibility": null,
            "align_self": null,
            "height": null,
            "min_height": null,
            "padding": null,
            "grid_auto_rows": null,
            "grid_gap": null,
            "max_width": null,
            "order": null,
            "_view_module_version": "1.2.0",
            "grid_template_areas": null,
            "object_position": null,
            "object_fit": null,
            "grid_auto_columns": null,
            "margin": null,
            "display": null,
            "left": null
          }
        },
        "0ff106a4f58c4857a145201c438a267b": {
          "model_module": "@jupyter-widgets/controls",
          "model_name": "FloatProgressModel",
          "state": {
            "_view_name": "ProgressView",
            "style": "IPY_MODEL_dff1046c185b4a8da45e73103c7d138e",
            "_dom_classes": [],
            "description": "Downloading: 100%",
            "_model_name": "FloatProgressModel",
            "bar_style": "success",
            "max": 128619,
            "_view_module": "@jupyter-widgets/controls",
            "_model_module_version": "1.5.0",
            "value": 128619,
            "_view_count": null,
            "_view_module_version": "1.5.0",
            "orientation": "horizontal",
            "min": 0,
            "description_tooltip": null,
            "_model_module": "@jupyter-widgets/controls",
            "layout": "IPY_MODEL_d84d4cdc3c8d4c539e2682ff48a8031d"
          }
        },
        "937176be114246d3b7a0c790f4263f9e": {
          "model_module": "@jupyter-widgets/controls",
          "model_name": "HTMLModel",
          "state": {
            "_view_name": "HTMLView",
            "style": "IPY_MODEL_e1ef0ad620344698ac7bc72e6c024d13",
            "_dom_classes": [],
            "description": "",
            "_model_name": "HTMLModel",
            "placeholder": "​",
            "_view_module": "@jupyter-widgets/controls",
            "_model_module_version": "1.5.0",
            "value": " 129k/129k [00:00&lt;00:00, 1.01MB/s]",
            "_view_count": null,
            "_view_module_version": "1.5.0",
            "description_tooltip": null,
            "_model_module": "@jupyter-widgets/controls",
            "layout": "IPY_MODEL_6e94fb25510a423c885e695c4ec38603"
          }
        },
        "dff1046c185b4a8da45e73103c7d138e": {
          "model_module": "@jupyter-widgets/controls",
          "model_name": "ProgressStyleModel",
          "state": {
            "_view_name": "StyleView",
            "_model_name": "ProgressStyleModel",
            "description_width": "initial",
            "_view_module": "@jupyter-widgets/base",
            "_model_module_version": "1.5.0",
            "_view_count": null,
            "_view_module_version": "1.2.0",
            "bar_color": null,
            "_model_module": "@jupyter-widgets/controls"
          }
        },
        "d84d4cdc3c8d4c539e2682ff48a8031d": {
          "model_module": "@jupyter-widgets/base",
          "model_name": "LayoutModel",
          "state": {
            "_view_name": "LayoutView",
            "grid_template_rows": null,
            "right": null,
            "justify_content": null,
            "_view_module": "@jupyter-widgets/base",
            "overflow": null,
            "_model_module_version": "1.2.0",
            "_view_count": null,
            "flex_flow": null,
            "width": null,
            "min_width": null,
            "border": null,
            "align_items": null,
            "bottom": null,
            "_model_module": "@jupyter-widgets/base",
            "top": null,
            "grid_column": null,
            "overflow_y": null,
            "overflow_x": null,
            "grid_auto_flow": null,
            "grid_area": null,
            "grid_template_columns": null,
            "flex": null,
            "_model_name": "LayoutModel",
            "justify_items": null,
            "grid_row": null,
            "max_height": null,
            "align_content": null,
            "visibility": null,
            "align_self": null,
            "height": null,
            "min_height": null,
            "padding": null,
            "grid_auto_rows": null,
            "grid_gap": null,
            "max_width": null,
            "order": null,
            "_view_module_version": "1.2.0",
            "grid_template_areas": null,
            "object_position": null,
            "object_fit": null,
            "grid_auto_columns": null,
            "margin": null,
            "display": null,
            "left": null
          }
        },
        "e1ef0ad620344698ac7bc72e6c024d13": {
          "model_module": "@jupyter-widgets/controls",
          "model_name": "DescriptionStyleModel",
          "state": {
            "_view_name": "StyleView",
            "_model_name": "DescriptionStyleModel",
            "description_width": "",
            "_view_module": "@jupyter-widgets/base",
            "_model_module_version": "1.5.0",
            "_view_count": null,
            "_view_module_version": "1.2.0",
            "_model_module": "@jupyter-widgets/controls"
          }
        },
        "6e94fb25510a423c885e695c4ec38603": {
          "model_module": "@jupyter-widgets/base",
          "model_name": "LayoutModel",
          "state": {
            "_view_name": "LayoutView",
            "grid_template_rows": null,
            "right": null,
            "justify_content": null,
            "_view_module": "@jupyter-widgets/base",
            "overflow": null,
            "_model_module_version": "1.2.0",
            "_view_count": null,
            "flex_flow": null,
            "width": null,
            "min_width": null,
            "border": null,
            "align_items": null,
            "bottom": null,
            "_model_module": "@jupyter-widgets/base",
            "top": null,
            "grid_column": null,
            "overflow_y": null,
            "overflow_x": null,
            "grid_auto_flow": null,
            "grid_area": null,
            "grid_template_columns": null,
            "flex": null,
            "_model_name": "LayoutModel",
            "justify_items": null,
            "grid_row": null,
            "max_height": null,
            "align_content": null,
            "visibility": null,
            "align_self": null,
            "height": null,
            "min_height": null,
            "padding": null,
            "grid_auto_rows": null,
            "grid_gap": null,
            "max_width": null,
            "order": null,
            "_view_module_version": "1.2.0",
            "grid_template_areas": null,
            "object_position": null,
            "object_fit": null,
            "grid_auto_columns": null,
            "margin": null,
            "display": null,
            "left": null
          }
        },
        "8bdca39960584b2da8b7c5148e8ab3bb": {
          "model_module": "@jupyter-widgets/controls",
          "model_name": "HBoxModel",
          "state": {
            "_view_name": "HBoxView",
            "_dom_classes": [],
            "_model_name": "HBoxModel",
            "_view_module": "@jupyter-widgets/controls",
            "_model_module_version": "1.5.0",
            "_view_count": null,
            "_view_module_version": "1.5.0",
            "box_style": "",
            "layout": "IPY_MODEL_940086a89bee4321a0496ecd4cdfa99c",
            "_model_module": "@jupyter-widgets/controls",
            "children": [
              "IPY_MODEL_afbd8c08b0b84b93837ca82767ef9068",
              "IPY_MODEL_1b65441e19824e87b607de338e51ba07"
            ]
          }
        },
        "940086a89bee4321a0496ecd4cdfa99c": {
          "model_module": "@jupyter-widgets/base",
          "model_name": "LayoutModel",
          "state": {
            "_view_name": "LayoutView",
            "grid_template_rows": null,
            "right": null,
            "justify_content": null,
            "_view_module": "@jupyter-widgets/base",
            "overflow": null,
            "_model_module_version": "1.2.0",
            "_view_count": null,
            "flex_flow": null,
            "width": null,
            "min_width": null,
            "border": null,
            "align_items": null,
            "bottom": null,
            "_model_module": "@jupyter-widgets/base",
            "top": null,
            "grid_column": null,
            "overflow_y": null,
            "overflow_x": null,
            "grid_auto_flow": null,
            "grid_area": null,
            "grid_template_columns": null,
            "flex": null,
            "_model_name": "LayoutModel",
            "justify_items": null,
            "grid_row": null,
            "max_height": null,
            "align_content": null,
            "visibility": null,
            "align_self": null,
            "height": null,
            "min_height": null,
            "padding": null,
            "grid_auto_rows": null,
            "grid_gap": null,
            "max_width": null,
            "order": null,
            "_view_module_version": "1.2.0",
            "grid_template_areas": null,
            "object_position": null,
            "object_fit": null,
            "grid_auto_columns": null,
            "margin": null,
            "display": null,
            "left": null
          }
        },
        "afbd8c08b0b84b93837ca82767ef9068": {
          "model_module": "@jupyter-widgets/controls",
          "model_name": "FloatProgressModel",
          "state": {
            "_view_name": "ProgressView",
            "style": "IPY_MODEL_f87c6c5fbb6d4d31ae112a712c30d335",
            "_dom_classes": [],
            "description": "Downloading: 100%",
            "_model_name": "FloatProgressModel",
            "bar_style": "success",
            "max": 4365,
            "_view_module": "@jupyter-widgets/controls",
            "_model_module_version": "1.5.0",
            "value": 4365,
            "_view_count": null,
            "_view_module_version": "1.5.0",
            "orientation": "horizontal",
            "min": 0,
            "description_tooltip": null,
            "_model_module": "@jupyter-widgets/controls",
            "layout": "IPY_MODEL_ca70a38d66974b2c8494a1ea2095f5e2"
          }
        },
        "1b65441e19824e87b607de338e51ba07": {
          "model_module": "@jupyter-widgets/controls",
          "model_name": "HTMLModel",
          "state": {
            "_view_name": "HTMLView",
            "style": "IPY_MODEL_6ff63013aa5646d5b71077b34fca3b38",
            "_dom_classes": [],
            "description": "",
            "_model_name": "HTMLModel",
            "placeholder": "​",
            "_view_module": "@jupyter-widgets/controls",
            "_model_module_version": "1.5.0",
            "value": " 4.37k/4.37k [00:00&lt;00:00, 17.3kB/s]",
            "_view_count": null,
            "_view_module_version": "1.5.0",
            "description_tooltip": null,
            "_model_module": "@jupyter-widgets/controls",
            "layout": "IPY_MODEL_e52701aac9164c1789a87ccdbc43dc38"
          }
        },
        "f87c6c5fbb6d4d31ae112a712c30d335": {
          "model_module": "@jupyter-widgets/controls",
          "model_name": "ProgressStyleModel",
          "state": {
            "_view_name": "StyleView",
            "_model_name": "ProgressStyleModel",
            "description_width": "initial",
            "_view_module": "@jupyter-widgets/base",
            "_model_module_version": "1.5.0",
            "_view_count": null,
            "_view_module_version": "1.2.0",
            "bar_color": null,
            "_model_module": "@jupyter-widgets/controls"
          }
        },
        "ca70a38d66974b2c8494a1ea2095f5e2": {
          "model_module": "@jupyter-widgets/base",
          "model_name": "LayoutModel",
          "state": {
            "_view_name": "LayoutView",
            "grid_template_rows": null,
            "right": null,
            "justify_content": null,
            "_view_module": "@jupyter-widgets/base",
            "overflow": null,
            "_model_module_version": "1.2.0",
            "_view_count": null,
            "flex_flow": null,
            "width": null,
            "min_width": null,
            "border": null,
            "align_items": null,
            "bottom": null,
            "_model_module": "@jupyter-widgets/base",
            "top": null,
            "grid_column": null,
            "overflow_y": null,
            "overflow_x": null,
            "grid_auto_flow": null,
            "grid_area": null,
            "grid_template_columns": null,
            "flex": null,
            "_model_name": "LayoutModel",
            "justify_items": null,
            "grid_row": null,
            "max_height": null,
            "align_content": null,
            "visibility": null,
            "align_self": null,
            "height": null,
            "min_height": null,
            "padding": null,
            "grid_auto_rows": null,
            "grid_gap": null,
            "max_width": null,
            "order": null,
            "_view_module_version": "1.2.0",
            "grid_template_areas": null,
            "object_position": null,
            "object_fit": null,
            "grid_auto_columns": null,
            "margin": null,
            "display": null,
            "left": null
          }
        },
        "6ff63013aa5646d5b71077b34fca3b38": {
          "model_module": "@jupyter-widgets/controls",
          "model_name": "DescriptionStyleModel",
          "state": {
            "_view_name": "StyleView",
            "_model_name": "DescriptionStyleModel",
            "description_width": "",
            "_view_module": "@jupyter-widgets/base",
            "_model_module_version": "1.5.0",
            "_view_count": null,
            "_view_module_version": "1.2.0",
            "_model_module": "@jupyter-widgets/controls"
          }
        },
        "e52701aac9164c1789a87ccdbc43dc38": {
          "model_module": "@jupyter-widgets/base",
          "model_name": "LayoutModel",
          "state": {
            "_view_name": "LayoutView",
            "grid_template_rows": null,
            "right": null,
            "justify_content": null,
            "_view_module": "@jupyter-widgets/base",
            "overflow": null,
            "_model_module_version": "1.2.0",
            "_view_count": null,
            "flex_flow": null,
            "width": null,
            "min_width": null,
            "border": null,
            "align_items": null,
            "bottom": null,
            "_model_module": "@jupyter-widgets/base",
            "top": null,
            "grid_column": null,
            "overflow_y": null,
            "overflow_x": null,
            "grid_auto_flow": null,
            "grid_area": null,
            "grid_template_columns": null,
            "flex": null,
            "_model_name": "LayoutModel",
            "justify_items": null,
            "grid_row": null,
            "max_height": null,
            "align_content": null,
            "visibility": null,
            "align_self": null,
            "height": null,
            "min_height": null,
            "padding": null,
            "grid_auto_rows": null,
            "grid_gap": null,
            "max_width": null,
            "order": null,
            "_view_module_version": "1.2.0",
            "grid_template_areas": null,
            "object_position": null,
            "object_fit": null,
            "grid_auto_columns": null,
            "margin": null,
            "display": null,
            "left": null
          }
        },
        "688725507e9a4d99930ba1905658d58d": {
          "model_module": "@jupyter-widgets/controls",
          "model_name": "HBoxModel",
          "state": {
            "_view_name": "HBoxView",
            "_dom_classes": [],
            "_model_name": "HBoxModel",
            "_view_module": "@jupyter-widgets/controls",
            "_model_module_version": "1.5.0",
            "_view_count": null,
            "_view_module_version": "1.5.0",
            "box_style": "",
            "layout": "IPY_MODEL_3fde7941b6ab4bd89d701c98adebff35",
            "_model_module": "@jupyter-widgets/controls",
            "children": [
              "IPY_MODEL_17ec1df5fbea416794dfd842344a96eb",
              "IPY_MODEL_c26aee51be7b4069a83e53fe3e148ed7"
            ]
          }
        },
        "3fde7941b6ab4bd89d701c98adebff35": {
          "model_module": "@jupyter-widgets/base",
          "model_name": "LayoutModel",
          "state": {
            "_view_name": "LayoutView",
            "grid_template_rows": null,
            "right": null,
            "justify_content": null,
            "_view_module": "@jupyter-widgets/base",
            "overflow": null,
            "_model_module_version": "1.2.0",
            "_view_count": null,
            "flex_flow": null,
            "width": null,
            "min_width": null,
            "border": null,
            "align_items": null,
            "bottom": null,
            "_model_module": "@jupyter-widgets/base",
            "top": null,
            "grid_column": null,
            "overflow_y": null,
            "overflow_x": null,
            "grid_auto_flow": null,
            "grid_area": null,
            "grid_template_columns": null,
            "flex": null,
            "_model_name": "LayoutModel",
            "justify_items": null,
            "grid_row": null,
            "max_height": null,
            "align_content": null,
            "visibility": null,
            "align_self": null,
            "height": null,
            "min_height": null,
            "padding": null,
            "grid_auto_rows": null,
            "grid_gap": null,
            "max_width": null,
            "order": null,
            "_view_module_version": "1.2.0",
            "grid_template_areas": null,
            "object_position": null,
            "object_fit": null,
            "grid_auto_columns": null,
            "margin": null,
            "display": null,
            "left": null
          }
        },
        "17ec1df5fbea416794dfd842344a96eb": {
          "model_module": "@jupyter-widgets/controls",
          "model_name": "FloatProgressModel",
          "state": {
            "_view_name": "ProgressView",
            "style": "IPY_MODEL_6a323ed8b1c34b5897c652424cb7bd2f",
            "_dom_classes": [],
            "description": "Downloading: 100%",
            "_model_name": "FloatProgressModel",
            "bar_style": "success",
            "max": 113108458,
            "_view_module": "@jupyter-widgets/controls",
            "_model_module_version": "1.5.0",
            "value": 113108458,
            "_view_count": null,
            "_view_module_version": "1.5.0",
            "orientation": "horizontal",
            "min": 0,
            "description_tooltip": null,
            "_model_module": "@jupyter-widgets/controls",
            "layout": "IPY_MODEL_4b40a4a6c877413ca1a307788f6b86f9"
          }
        },
        "c26aee51be7b4069a83e53fe3e148ed7": {
          "model_module": "@jupyter-widgets/controls",
          "model_name": "HTMLModel",
          "state": {
            "_view_name": "HTMLView",
            "style": "IPY_MODEL_ea77aad58bf948d3bfa7d26e620546df",
            "_dom_classes": [],
            "description": "",
            "_model_name": "HTMLModel",
            "placeholder": "​",
            "_view_module": "@jupyter-widgets/controls",
            "_model_module_version": "1.5.0",
            "value": " 113M/113M [00:20&lt;00:00, 5.56MB/s]",
            "_view_count": null,
            "_view_module_version": "1.5.0",
            "description_tooltip": null,
            "_model_module": "@jupyter-widgets/controls",
            "layout": "IPY_MODEL_6c3f08eb405f4f67af857479fbfab96a"
          }
        },
        "6a323ed8b1c34b5897c652424cb7bd2f": {
          "model_module": "@jupyter-widgets/controls",
          "model_name": "ProgressStyleModel",
          "state": {
            "_view_name": "StyleView",
            "_model_name": "ProgressStyleModel",
            "description_width": "initial",
            "_view_module": "@jupyter-widgets/base",
            "_model_module_version": "1.5.0",
            "_view_count": null,
            "_view_module_version": "1.2.0",
            "bar_color": null,
            "_model_module": "@jupyter-widgets/controls"
          }
        },
        "4b40a4a6c877413ca1a307788f6b86f9": {
          "model_module": "@jupyter-widgets/base",
          "model_name": "LayoutModel",
          "state": {
            "_view_name": "LayoutView",
            "grid_template_rows": null,
            "right": null,
            "justify_content": null,
            "_view_module": "@jupyter-widgets/base",
            "overflow": null,
            "_model_module_version": "1.2.0",
            "_view_count": null,
            "flex_flow": null,
            "width": null,
            "min_width": null,
            "border": null,
            "align_items": null,
            "bottom": null,
            "_model_module": "@jupyter-widgets/base",
            "top": null,
            "grid_column": null,
            "overflow_y": null,
            "overflow_x": null,
            "grid_auto_flow": null,
            "grid_area": null,
            "grid_template_columns": null,
            "flex": null,
            "_model_name": "LayoutModel",
            "justify_items": null,
            "grid_row": null,
            "max_height": null,
            "align_content": null,
            "visibility": null,
            "align_self": null,
            "height": null,
            "min_height": null,
            "padding": null,
            "grid_auto_rows": null,
            "grid_gap": null,
            "max_width": null,
            "order": null,
            "_view_module_version": "1.2.0",
            "grid_template_areas": null,
            "object_position": null,
            "object_fit": null,
            "grid_auto_columns": null,
            "margin": null,
            "display": null,
            "left": null
          }
        },
        "ea77aad58bf948d3bfa7d26e620546df": {
          "model_module": "@jupyter-widgets/controls",
          "model_name": "DescriptionStyleModel",
          "state": {
            "_view_name": "StyleView",
            "_model_name": "DescriptionStyleModel",
            "description_width": "",
            "_view_module": "@jupyter-widgets/base",
            "_model_module_version": "1.5.0",
            "_view_count": null,
            "_view_module_version": "1.2.0",
            "_model_module": "@jupyter-widgets/controls"
          }
        },
        "6c3f08eb405f4f67af857479fbfab96a": {
          "model_module": "@jupyter-widgets/base",
          "model_name": "LayoutModel",
          "state": {
            "_view_name": "LayoutView",
            "grid_template_rows": null,
            "right": null,
            "justify_content": null,
            "_view_module": "@jupyter-widgets/base",
            "overflow": null,
            "_model_module_version": "1.2.0",
            "_view_count": null,
            "flex_flow": null,
            "width": null,
            "min_width": null,
            "border": null,
            "align_items": null,
            "bottom": null,
            "_model_module": "@jupyter-widgets/base",
            "top": null,
            "grid_column": null,
            "overflow_y": null,
            "overflow_x": null,
            "grid_auto_flow": null,
            "grid_area": null,
            "grid_template_columns": null,
            "flex": null,
            "_model_name": "LayoutModel",
            "justify_items": null,
            "grid_row": null,
            "max_height": null,
            "align_content": null,
            "visibility": null,
            "align_self": null,
            "height": null,
            "min_height": null,
            "padding": null,
            "grid_auto_rows": null,
            "grid_gap": null,
            "max_width": null,
            "order": null,
            "_view_module_version": "1.2.0",
            "grid_template_areas": null,
            "object_position": null,
            "object_fit": null,
            "grid_auto_columns": null,
            "margin": null,
            "display": null,
            "left": null
          }
        },
        "03aa57e97aaa402283f9b06a244a36ac": {
          "model_module": "@jupyter-widgets/controls",
          "model_name": "HBoxModel",
          "state": {
            "_view_name": "HBoxView",
            "_dom_classes": [],
            "_model_name": "HBoxModel",
            "_view_module": "@jupyter-widgets/controls",
            "_model_module_version": "1.5.0",
            "_view_count": null,
            "_view_module_version": "1.5.0",
            "box_style": "",
            "layout": "IPY_MODEL_5a71039edf9c4417a6396188ab519adb",
            "_model_module": "@jupyter-widgets/controls",
            "children": [
              "IPY_MODEL_ccd764d627a647239d481e85f964abd0",
              "IPY_MODEL_c884f1def5754f64b12c02a133eb7e4c"
            ]
          }
        },
        "5a71039edf9c4417a6396188ab519adb": {
          "model_module": "@jupyter-widgets/base",
          "model_name": "LayoutModel",
          "state": {
            "_view_name": "LayoutView",
            "grid_template_rows": null,
            "right": null,
            "justify_content": null,
            "_view_module": "@jupyter-widgets/base",
            "overflow": null,
            "_model_module_version": "1.2.0",
            "_view_count": null,
            "flex_flow": null,
            "width": null,
            "min_width": null,
            "border": null,
            "align_items": null,
            "bottom": null,
            "_model_module": "@jupyter-widgets/base",
            "top": null,
            "grid_column": null,
            "overflow_y": null,
            "overflow_x": null,
            "grid_auto_flow": null,
            "grid_area": null,
            "grid_template_columns": null,
            "flex": null,
            "_model_name": "LayoutModel",
            "justify_items": null,
            "grid_row": null,
            "max_height": null,
            "align_content": null,
            "visibility": null,
            "align_self": null,
            "height": null,
            "min_height": null,
            "padding": null,
            "grid_auto_rows": null,
            "grid_gap": null,
            "max_width": null,
            "order": null,
            "_view_module_version": "1.2.0",
            "grid_template_areas": null,
            "object_position": null,
            "object_fit": null,
            "grid_auto_columns": null,
            "margin": null,
            "display": null,
            "left": null
          }
        },
        "ccd764d627a647239d481e85f964abd0": {
          "model_module": "@jupyter-widgets/controls",
          "model_name": "FloatProgressModel",
          "state": {
            "_view_name": "ProgressView",
            "style": "IPY_MODEL_f0e90492896e435b8a5a833c03b27ffd",
            "_dom_classes": [],
            "description": "Downloading: 100%",
            "_model_name": "FloatProgressModel",
            "bar_style": "success",
            "max": 17267,
            "_view_module": "@jupyter-widgets/controls",
            "_model_module_version": "1.5.0",
            "value": 17267,
            "_view_count": null,
            "_view_module_version": "1.5.0",
            "orientation": "horizontal",
            "min": 0,
            "description_tooltip": null,
            "_model_module": "@jupyter-widgets/controls",
            "layout": "IPY_MODEL_308f9b83f09044289144d6422158be25"
          }
        },
        "c884f1def5754f64b12c02a133eb7e4c": {
          "model_module": "@jupyter-widgets/controls",
          "model_name": "HTMLModel",
          "state": {
            "_view_name": "HTMLView",
            "style": "IPY_MODEL_6978fe08cc12452da4d4f87c2d5b64bc",
            "_dom_classes": [],
            "description": "",
            "_model_name": "HTMLModel",
            "placeholder": "​",
            "_view_module": "@jupyter-widgets/controls",
            "_model_module_version": "1.5.0",
            "value": " 17.3k/17.3k [00:00&lt;00:00, 74.3kB/s]",
            "_view_count": null,
            "_view_module_version": "1.5.0",
            "description_tooltip": null,
            "_model_module": "@jupyter-widgets/controls",
            "layout": "IPY_MODEL_5db373a299844956862e0f2cb39d7155"
          }
        },
        "f0e90492896e435b8a5a833c03b27ffd": {
          "model_module": "@jupyter-widgets/controls",
          "model_name": "ProgressStyleModel",
          "state": {
            "_view_name": "StyleView",
            "_model_name": "ProgressStyleModel",
            "description_width": "initial",
            "_view_module": "@jupyter-widgets/base",
            "_model_module_version": "1.5.0",
            "_view_count": null,
            "_view_module_version": "1.2.0",
            "bar_color": null,
            "_model_module": "@jupyter-widgets/controls"
          }
        },
        "308f9b83f09044289144d6422158be25": {
          "model_module": "@jupyter-widgets/base",
          "model_name": "LayoutModel",
          "state": {
            "_view_name": "LayoutView",
            "grid_template_rows": null,
            "right": null,
            "justify_content": null,
            "_view_module": "@jupyter-widgets/base",
            "overflow": null,
            "_model_module_version": "1.2.0",
            "_view_count": null,
            "flex_flow": null,
            "width": null,
            "min_width": null,
            "border": null,
            "align_items": null,
            "bottom": null,
            "_model_module": "@jupyter-widgets/base",
            "top": null,
            "grid_column": null,
            "overflow_y": null,
            "overflow_x": null,
            "grid_auto_flow": null,
            "grid_area": null,
            "grid_template_columns": null,
            "flex": null,
            "_model_name": "LayoutModel",
            "justify_items": null,
            "grid_row": null,
            "max_height": null,
            "align_content": null,
            "visibility": null,
            "align_self": null,
            "height": null,
            "min_height": null,
            "padding": null,
            "grid_auto_rows": null,
            "grid_gap": null,
            "max_width": null,
            "order": null,
            "_view_module_version": "1.2.0",
            "grid_template_areas": null,
            "object_position": null,
            "object_fit": null,
            "grid_auto_columns": null,
            "margin": null,
            "display": null,
            "left": null
          }
        },
        "6978fe08cc12452da4d4f87c2d5b64bc": {
          "model_module": "@jupyter-widgets/controls",
          "model_name": "DescriptionStyleModel",
          "state": {
            "_view_name": "StyleView",
            "_model_name": "DescriptionStyleModel",
            "description_width": "",
            "_view_module": "@jupyter-widgets/base",
            "_model_module_version": "1.5.0",
            "_view_count": null,
            "_view_module_version": "1.2.0",
            "_model_module": "@jupyter-widgets/controls"
          }
        },
        "5db373a299844956862e0f2cb39d7155": {
          "model_module": "@jupyter-widgets/base",
          "model_name": "LayoutModel",
          "state": {
            "_view_name": "LayoutView",
            "grid_template_rows": null,
            "right": null,
            "justify_content": null,
            "_view_module": "@jupyter-widgets/base",
            "overflow": null,
            "_model_module_version": "1.2.0",
            "_view_count": null,
            "flex_flow": null,
            "width": null,
            "min_width": null,
            "border": null,
            "align_items": null,
            "bottom": null,
            "_model_module": "@jupyter-widgets/base",
            "top": null,
            "grid_column": null,
            "overflow_y": null,
            "overflow_x": null,
            "grid_auto_flow": null,
            "grid_area": null,
            "grid_template_columns": null,
            "flex": null,
            "_model_name": "LayoutModel",
            "justify_items": null,
            "grid_row": null,
            "max_height": null,
            "align_content": null,
            "visibility": null,
            "align_self": null,
            "height": null,
            "min_height": null,
            "padding": null,
            "grid_auto_rows": null,
            "grid_gap": null,
            "max_width": null,
            "order": null,
            "_view_module_version": "1.2.0",
            "grid_template_areas": null,
            "object_position": null,
            "object_fit": null,
            "grid_auto_columns": null,
            "margin": null,
            "display": null,
            "left": null
          }
        },
        "79a137b4643a4ce6b25cdc3bd8fb0919": {
          "model_module": "@jupyter-widgets/controls",
          "model_name": "HBoxModel",
          "state": {
            "_view_name": "HBoxView",
            "_dom_classes": [],
            "_model_name": "HBoxModel",
            "_view_module": "@jupyter-widgets/controls",
            "_model_module_version": "1.5.0",
            "_view_count": null,
            "_view_module_version": "1.5.0",
            "box_style": "",
            "layout": "IPY_MODEL_70bc5b7ff6db4850bcc949f643c5bf5b",
            "_model_module": "@jupyter-widgets/controls",
            "children": [
              "IPY_MODEL_1b0bce3b9cfd4fb2b99b5cf17de38f4d",
              "IPY_MODEL_8d8fac0541a04cc3b097fad2a32f9700"
            ]
          }
        },
        "70bc5b7ff6db4850bcc949f643c5bf5b": {
          "model_module": "@jupyter-widgets/base",
          "model_name": "LayoutModel",
          "state": {
            "_view_name": "LayoutView",
            "grid_template_rows": null,
            "right": null,
            "justify_content": null,
            "_view_module": "@jupyter-widgets/base",
            "overflow": null,
            "_model_module_version": "1.2.0",
            "_view_count": null,
            "flex_flow": null,
            "width": null,
            "min_width": null,
            "border": null,
            "align_items": null,
            "bottom": null,
            "_model_module": "@jupyter-widgets/base",
            "top": null,
            "grid_column": null,
            "overflow_y": null,
            "overflow_x": null,
            "grid_auto_flow": null,
            "grid_area": null,
            "grid_template_columns": null,
            "flex": null,
            "_model_name": "LayoutModel",
            "justify_items": null,
            "grid_row": null,
            "max_height": null,
            "align_content": null,
            "visibility": null,
            "align_self": null,
            "height": null,
            "min_height": null,
            "padding": null,
            "grid_auto_rows": null,
            "grid_gap": null,
            "max_width": null,
            "order": null,
            "_view_module_version": "1.2.0",
            "grid_template_areas": null,
            "object_position": null,
            "object_fit": null,
            "grid_auto_columns": null,
            "margin": null,
            "display": null,
            "left": null
          }
        },
        "1b0bce3b9cfd4fb2b99b5cf17de38f4d": {
          "model_module": "@jupyter-widgets/controls",
          "model_name": "FloatProgressModel",
          "state": {
            "_view_name": "ProgressView",
            "style": "IPY_MODEL_72f3b9f155d04cd7b94564f8cfb12a88",
            "_dom_classes": [],
            "description": "Downloading: 100%",
            "_model_name": "FloatProgressModel",
            "bar_style": "success",
            "max": 17202,
            "_view_module": "@jupyter-widgets/controls",
            "_model_module_version": "1.5.0",
            "value": 17202,
            "_view_count": null,
            "_view_module_version": "1.5.0",
            "orientation": "horizontal",
            "min": 0,
            "description_tooltip": null,
            "_model_module": "@jupyter-widgets/controls",
            "layout": "IPY_MODEL_6251308f04164dde9b3461622c1ee66b"
          }
        },
        "8d8fac0541a04cc3b097fad2a32f9700": {
          "model_module": "@jupyter-widgets/controls",
          "model_name": "HTMLModel",
          "state": {
            "_view_name": "HTMLView",
            "style": "IPY_MODEL_e12d9f2449184d3b81c21ab702ce0015",
            "_dom_classes": [],
            "description": "",
            "_model_name": "HTMLModel",
            "placeholder": "​",
            "_view_module": "@jupyter-widgets/controls",
            "_model_module_version": "1.5.0",
            "value": " 17.2k/17.2k [00:00&lt;00:00, 260kB/s]",
            "_view_count": null,
            "_view_module_version": "1.5.0",
            "description_tooltip": null,
            "_model_module": "@jupyter-widgets/controls",
            "layout": "IPY_MODEL_3783dda04641425b8df2aaf035c119df"
          }
        },
        "72f3b9f155d04cd7b94564f8cfb12a88": {
          "model_module": "@jupyter-widgets/controls",
          "model_name": "ProgressStyleModel",
          "state": {
            "_view_name": "StyleView",
            "_model_name": "ProgressStyleModel",
            "description_width": "initial",
            "_view_module": "@jupyter-widgets/base",
            "_model_module_version": "1.5.0",
            "_view_count": null,
            "_view_module_version": "1.2.0",
            "bar_color": null,
            "_model_module": "@jupyter-widgets/controls"
          }
        },
        "6251308f04164dde9b3461622c1ee66b": {
          "model_module": "@jupyter-widgets/base",
          "model_name": "LayoutModel",
          "state": {
            "_view_name": "LayoutView",
            "grid_template_rows": null,
            "right": null,
            "justify_content": null,
            "_view_module": "@jupyter-widgets/base",
            "overflow": null,
            "_model_module_version": "1.2.0",
            "_view_count": null,
            "flex_flow": null,
            "width": null,
            "min_width": null,
            "border": null,
            "align_items": null,
            "bottom": null,
            "_model_module": "@jupyter-widgets/base",
            "top": null,
            "grid_column": null,
            "overflow_y": null,
            "overflow_x": null,
            "grid_auto_flow": null,
            "grid_area": null,
            "grid_template_columns": null,
            "flex": null,
            "_model_name": "LayoutModel",
            "justify_items": null,
            "grid_row": null,
            "max_height": null,
            "align_content": null,
            "visibility": null,
            "align_self": null,
            "height": null,
            "min_height": null,
            "padding": null,
            "grid_auto_rows": null,
            "grid_gap": null,
            "max_width": null,
            "order": null,
            "_view_module_version": "1.2.0",
            "grid_template_areas": null,
            "object_position": null,
            "object_fit": null,
            "grid_auto_columns": null,
            "margin": null,
            "display": null,
            "left": null
          }
        },
        "e12d9f2449184d3b81c21ab702ce0015": {
          "model_module": "@jupyter-widgets/controls",
          "model_name": "DescriptionStyleModel",
          "state": {
            "_view_name": "StyleView",
            "_model_name": "DescriptionStyleModel",
            "description_width": "",
            "_view_module": "@jupyter-widgets/base",
            "_model_module_version": "1.5.0",
            "_view_count": null,
            "_view_module_version": "1.2.0",
            "_model_module": "@jupyter-widgets/controls"
          }
        },
        "3783dda04641425b8df2aaf035c119df": {
          "model_module": "@jupyter-widgets/base",
          "model_name": "LayoutModel",
          "state": {
            "_view_name": "LayoutView",
            "grid_template_rows": null,
            "right": null,
            "justify_content": null,
            "_view_module": "@jupyter-widgets/base",
            "overflow": null,
            "_model_module_version": "1.2.0",
            "_view_count": null,
            "flex_flow": null,
            "width": null,
            "min_width": null,
            "border": null,
            "align_items": null,
            "bottom": null,
            "_model_module": "@jupyter-widgets/base",
            "top": null,
            "grid_column": null,
            "overflow_y": null,
            "overflow_x": null,
            "grid_auto_flow": null,
            "grid_area": null,
            "grid_template_columns": null,
            "flex": null,
            "_model_name": "LayoutModel",
            "justify_items": null,
            "grid_row": null,
            "max_height": null,
            "align_content": null,
            "visibility": null,
            "align_self": null,
            "height": null,
            "min_height": null,
            "padding": null,
            "grid_auto_rows": null,
            "grid_gap": null,
            "max_width": null,
            "order": null,
            "_view_module_version": "1.2.0",
            "grid_template_areas": null,
            "object_position": null,
            "object_fit": null,
            "grid_auto_columns": null,
            "margin": null,
            "display": null,
            "left": null
          }
        }
      }
    },
    "accelerator": "GPU"
  },
  "cells": [
    {
      "cell_type": "markdown",
      "metadata": {
        "id": "79ryKiGHinQ3"
      },
      "source": [
        "# Pretrained Models and Fine-Tuning with <img src=\"https://huggingface.co/front/assets/huggingface_logo.svg\" alt=\"drawing\" width=\"40\"/>\n",
        "\n",
        "Training DNN models is often very time-consuming and expensive. \n",
        "For this reason, whenever it is possible, using off-the-shelf pretrained models can be convenient in various scenarios. \n",
        "\n",
        "In SpeechBrain we provide pre-trained models and we also encourage users to share their own using <img src=\"https://huggingface.co/front/assets/huggingface_logo.svg\" alt=\"drawing\" width=\"20\"/>[HuggingFace Hub](https://huggingface.co/models)<img src=\"https://huggingface.co/front/assets/huggingface_logo.svg\" alt=\"drawing\" width=\"20\"/> as we strongly believe that sharing models can help research. \n",
        "\n",
        "You can browse our official pre-trained models [here](https://huggingface.co/speechbrain). \n",
        "\n",
        "If you have a pre-trained model and want to include it among the official ones, please consider opening a pull request on [GitHub](https://github.com/speechbrain/speechbrain/blob/develop/README.md) with all the details of your model!\n",
        "\n",
        "We provide a simple and straightforward way to download and instantiate a state-of-the-art pretrained-model and use it either for direct inference or for fine-tuning/knowledge distillation or whatever new fancy technique you can come up with!\n",
        "\n",
        "With this tutorial, you will learn how to:\n",
        "\n",
        "1. Use pretrained models to infer on your data.\n",
        "2. Use pretrained models as a component of a new pipeline (e.g language models, finetuning, speaker embeddings extraction ...).\n",
        "\n",
        "## Prerequisites\n",
        "- [SpeechBrain Introduction](https://colab.research.google.com/drive/12bg3aUdr9mTfOGqcB5pSMABoIKPgiwcM?usp=sharing)\n",
        "- [YAML tutorial](https://colab.research.google.com/drive/1Pg9by4b6-8QD2iC0U7Ic3Vxq4GEwEdDz?usp=sharing)\n",
        "- [Brain Class tutorial](https://colab.research.google.com/drive/1fdqTk4CTXNcrcSVFvaOKzRfLmj4fJfwa?usp=sharing)\n",
        "- [DataIOBasics](https://colab.research.google.com/drive/1AiVJZhZKwEI4nFGANKXEe-ffZFfvXKwH)\n"
      ]
    },
    {
      "cell_type": "markdown",
      "metadata": {
        "id": "HND7bB_1S07R"
      },
      "source": [
        "## Installing Dependencies"
      ]
    },
    {
      "cell_type": "code",
      "metadata": {
        "id": "_pC-98RDOqPq"
      },
      "source": [
        "%%capture\n",
        "!pip install speechbrain\n",
        "import speechbrain \n",
        "# here we download the material needed for this tutorial: images and an example based on mini-librispeech\n",
        "!wget https://www.dropbox.com/s/b61lo6gkpuplanq/MiniLibriSpeechTutorial.tar.gz?dl=0\n",
        "!tar -xvzf MiniLibriSpeechTutorial.tar.gz?dl=0\n",
        "# downloading mini_librispeech dev data\n",
        "!wget https://www.openslr.org/resources/31/dev-clean-2.tar.gz\n",
        "!tar -xvzf dev-clean-2.tar.gz"
      ],
      "execution_count": null,
      "outputs": []
    },
    {
      "cell_type": "markdown",
      "metadata": {
        "id": "_KCk7uODNgNB"
      },
      "source": [
        "## Using PreTrained models to perform inference on your data\n",
        "\n",
        "In this section, we will provide examples on using pretrained models with various tasks including:\n",
        "1. Automatic Speech Recognition.\n",
        "2. Speaker Recognition, Verification and Diarization.\n",
        "3. Source Separation\n",
        "\n",
        "**Many more can be found in our <img src=\"https://huggingface.co/front/assets/huggingface_logo.svg\" alt=\"drawing\" width=\"20\"/>[HuggingFace Hub](https://huggingface.co/models)<img src=\"https://huggingface.co/front/assets/huggingface_logo.svg\" alt=\"drawing\" width=\"20\"/>!**"
      ]
    },
    {
      "cell_type": "markdown",
      "metadata": {
        "id": "m0xCb38O6kFM"
      },
      "source": [
        "### Automatic Speech Recognition"
      ]
    },
    {
      "cell_type": "markdown",
      "metadata": {
        "id": "PaWLPvJ2Nrxm"
      },
      "source": [
        "Suppose we want to try out a pretrained ASR model on your data. \n",
        "\n",
        "Maybe we want to see if our new speech enhancement algorithm is able to also improve Word Error Rate or maybe we just want to transcribe a lecture recording. \n",
        "\n",
        "After browsing models on <img src=\"https://huggingface.co/front/assets/huggingface_logo.svg\" alt=\"drawing\" width=\"20\"/>[HuggingFace](https://huggingface.co/models)<img src=\"https://huggingface.co/front/assets/huggingface_logo.svg\" alt=\"drawing\" width=\"20\"/>, we choose the following ASR pipeline: [super cool and SOTA ASR pipeline](https://huggingface.co/speechbrain/asr-crdnn-rnnlm-librispeech), trained on LibriSpeech. \n",
        "\n",
        "This ASR pipeline is made of three components as detailed [here](https://huggingface.co/speechbrain/asr-crdnn-rnnlm-librispeech):\n",
        "\n",
        "\n",
        "1.   a CRDNN-based seq2seq E2E ASR model trained following this [recipe](https://github.com/speechbrain/speechbrain/tree/develop/recipes/LibriSpeech/ASR/seq2seq). \n",
        "2.   a RNN-based LM.\n",
        "3.   a SentencePiece Tokenizer object needed transforms words into subword units. \n",
        "\n",
        "**Now, we can transcribe any audio file in solely 3 lines of code!**\n"
      ]
    },
    {
      "cell_type": "code",
      "metadata": {
        "colab": {
          "base_uri": "https://localhost:8080/",
          "height": 231,
          "referenced_widgets": [
            "c44033a2f9ff4e449524bd79292fee08",
            "82d5b15495c34ab6a7f949f6c7cc1e47",
            "bb313eb112cf42a7a35acd1cab61a9c0",
            "0acda1e0d8cd40ab8234693caefd46d4",
            "a565a7ac0e574cc598b54db4b24133a1",
            "8bd0f8102a98421d808bcf7d11a83139",
            "d915e972f4de4ce5bafeb850f69b193e",
            "be4e95561fe9426bb669614e98c4e6c8",
            "65891f1e92e845c08442a3e655748967",
            "f9917737960146b7900833d846b30f16",
            "328050846f6140bbb2a9a146f099b947",
            "93b04b14b6804869a58971fd658b1e09",
            "e769cd0dfdbc42f482886fcc653aae60",
            "1e636c119276489381f25bc7061fa749",
            "987e2d2c1f584f34b7bf1099bccb762c",
            "4379ef5f56b04cdb971bb2e5e846c548",
            "6dc8fe59b6ae467c808e68814941889d",
            "64fa9dd676904c83833c97e63657b61f",
            "37d0a54ab49243a7ad6dc3a901097320",
            "29e3cc8b453644579f97fdc726d483df",
            "ed1888b99c9f4429a39fcf2b74e4b720",
            "20a8b03060594c2492a9c268ae76ac68",
            "257fc5adaedb496b97eda7c7ddafa82d",
            "8bfdb121ca354b7cb1db0fad00dfa823",
            "574f0691cad54ce0880769ad04d686f6",
            "decdd867d62d49919eb5fb7c6e04d2a2",
            "e916ad922fde4d80ab6607e7a743dc78",
            "2d3be46dddee41f2acd8e0eb7a32efaa",
            "1d9365600aef4b84865575d04e936d75",
            "443ee59a209b4d5f996a0d38b803ad03",
            "a71588a0b8234eba8383d82596c6ca67",
            "462dbc469f0a4698bf9fd4c993b2885c"
          ]
        },
        "id": "GIJgefQpNnVO",
        "outputId": "361c1215-b9ed-44d7-d7be-0a00758a9946"
      },
      "source": [
        "from speechbrain.pretrained import EncoderDecoderASR\n",
        "asr_model = EncoderDecoderASR.from_hparams(source=\"speechbrain/asr-crdnn-rnnlm-librispeech\", savedir=\"./pretrained_ASR\")\n",
        "asr_model.transcribe_file(\"./LibriSpeech/dev-clean-2/1272/135031/1272-135031-0003.flac\")\n"
      ],
      "execution_count": null,
      "outputs": [
        {
          "output_type": "display_data",
          "data": {
            "application/vnd.jupyter.widget-view+json": {
              "model_id": "c44033a2f9ff4e449524bd79292fee08",
              "version_minor": 0,
              "version_major": 2
            },
            "text/plain": [
              "HBox(children=(FloatProgress(value=0.0, description='Downloading', max=4420.0, style=ProgressStyle(description…"
            ]
          },
          "metadata": {
            "tags": []
          }
        },
        {
          "output_type": "stream",
          "text": [
            "\n"
          ],
          "name": "stdout"
        },
        {
          "output_type": "display_data",
          "data": {
            "application/vnd.jupyter.widget-view+json": {
              "model_id": "65891f1e92e845c08442a3e655748967",
              "version_minor": 0,
              "version_major": 2
            },
            "text/plain": [
              "HBox(children=(FloatProgress(value=0.0, description='Downloading', max=479555971.0, style=ProgressStyle(descri…"
            ]
          },
          "metadata": {
            "tags": []
          }
        },
        {
          "output_type": "stream",
          "text": [
            "\n"
          ],
          "name": "stdout"
        },
        {
          "output_type": "display_data",
          "data": {
            "application/vnd.jupyter.widget-view+json": {
              "model_id": "6dc8fe59b6ae467c808e68814941889d",
              "version_minor": 0,
              "version_major": 2
            },
            "text/plain": [
              "HBox(children=(FloatProgress(value=0.0, description='Downloading', max=212420087.0, style=ProgressStyle(descri…"
            ]
          },
          "metadata": {
            "tags": []
          }
        },
        {
          "output_type": "stream",
          "text": [
            "\n"
          ],
          "name": "stdout"
        },
        {
          "output_type": "display_data",
          "data": {
            "application/vnd.jupyter.widget-view+json": {
              "model_id": "574f0691cad54ce0880769ad04d686f6",
              "version_minor": 0,
              "version_major": 2
            },
            "text/plain": [
              "HBox(children=(FloatProgress(value=0.0, description='Downloading', max=253217.0, style=ProgressStyle(descripti…"
            ]
          },
          "metadata": {
            "tags": []
          }
        },
        {
          "output_type": "stream",
          "text": [
            "\n"
          ],
          "name": "stdout"
        },
        {
          "output_type": "execute_result",
          "data": {
            "application/vnd.google.colaboratory.intrinsic+json": {
              "type": "string"
            },
            "text/plain": [
              "'THE LITTLE GIRL HAD BEEN ASLEEP BUT SHE HEARD THE RAPS AND OPENED THE DOOR'"
            ]
          },
          "metadata": {
            "tags": []
          },
          "execution_count": 2
        }
      ]
    },
    {
      "cell_type": "markdown",
      "metadata": {
        "id": "JuULuuACaPfl"
      },
      "source": [
        "We can validate this result by looking at the oracle transcription for this utterance."
      ]
    },
    {
      "cell_type": "code",
      "metadata": {
        "colab": {
          "base_uri": "https://localhost:8080/"
        },
        "id": "JQ4IIIS8Z_ld",
        "outputId": "a55585fc-8c01-426d-ead3-11120d763679"
      },
      "source": [
        "!head ./LibriSpeech/dev-clean-2/1272/135031/1272-135031.trans.txt"
      ],
      "execution_count": null,
      "outputs": [
        {
          "output_type": "stream",
          "text": [
            "1272-135031-0000 BECAUSE YOU WERE SLEEPING INSTEAD OF CONQUERING THE LOVELY ROSE PRINCESS HAS BECOME A FIDDLE WITHOUT A BOW WHILE POOR SHAGGY SITS THERE A COOING DOVE\n",
            "1272-135031-0001 HE HAS GONE AND GONE FOR GOOD ANSWERED POLYCHROME WHO HAD MANAGED TO SQUEEZE INTO THE ROOM BESIDE THE DRAGON AND HAD WITNESSED THE OCCURRENCES WITH MUCH INTEREST\n",
            "1272-135031-0002 I HAVE REMAINED A PRISONER ONLY BECAUSE I WISHED TO BE ONE AND WITH THIS HE STEPPED FORWARD AND BURST THE STOUT CHAINS AS EASILY AS IF THEY HAD BEEN THREADS\n",
            "1272-135031-0003 THE LITTLE GIRL HAD BEEN ASLEEP BUT SHE HEARD THE RAPS AND OPENED THE DOOR\n",
            "1272-135031-0004 THE KING HAS FLED IN DISGRACE AND YOUR FRIENDS ARE ASKING FOR YOU\n",
            "1272-135031-0005 I BEGGED RUGGEDO LONG AGO TO SEND HIM AWAY BUT HE WOULD NOT DO SO\n",
            "1272-135031-0006 I ALSO OFFERED TO HELP YOUR BROTHER TO ESCAPE BUT HE WOULD NOT GO\n",
            "1272-135031-0007 HE EATS AND SLEEPS VERY STEADILY REPLIED THE NEW KING\n",
            "1272-135031-0008 I HOPE HE DOESN'T WORK TOO HARD SAID SHAGGY\n",
            "1272-135031-0009 HE DOESN'T WORK AT ALL\n"
          ],
          "name": "stdout"
        }
      ]
    },
    {
      "cell_type": "markdown",
      "metadata": {
        "id": "UHtw-fAJaX0A"
      },
      "source": [
        "See, easy!"
      ]
    },
    {
      "cell_type": "markdown",
      "metadata": {
        "id": "yWcM9NSNE_uX"
      },
      "source": [
        "**NOTE**\n",
        "\n",
        "This syntax can be used also to load models which are in the local filesystem. \n",
        "In fact, the model is not re-downloaded a second time if it is already found in the local `savedir`. "
      ]
    },
    {
      "cell_type": "code",
      "metadata": {
        "id": "M8k-O63qE-j6"
      },
      "source": [
        "from speechbrain.pretrained import EncoderDecoderASR\n",
        "asr_model = EncoderDecoderASR.from_hparams(source=\"speechbrain/asr-crdnn-rnnlm-librispeech\", savedir=\"./pretrained_ASR\")"
      ],
      "execution_count": null,
      "outputs": []
    },
    {
      "cell_type": "markdown",
      "metadata": {
        "id": "pVy5l-QT6qT3"
      },
      "source": [
        "### Speaker Verification, Recognition and Diarization"
      ]
    },
    {
      "cell_type": "markdown",
      "metadata": {
        "id": "KQS7Sv4rUAwh"
      },
      "source": [
        "Now suppose we want to perform another task such as diarization and we need a speaker embedding extractor. \n",
        "\n",
        "Fortunately, we can use directly the pretrained ECAPA TDNN model available [here](https://huggingface.co/speechbrain/spkrec-ecapa-voxceleb). The model is trained with [Voxceleb 2](https://www.robots.ox.ac.uk/~vgg/data/voxceleb/) and we can use it to extract speaker embeddings for each utterance: \n"
      ]
    },
    {
      "cell_type": "code",
      "metadata": {
        "colab": {
          "base_uri": "https://localhost:8080/",
          "height": 279,
          "referenced_widgets": [
            "4c68a283802c4b1e9a110df418bfa3a9",
            "a5d20838adc148069b707ec936d079dd",
            "6419df7189a240ea949834c9974f285d",
            "c48e6c03cbb543a69aef5c8e9680ace5",
            "6fb21f3aaa7f47f08d87e07fed3444c3",
            "d1d155e571a2496fba42f4783a70c314",
            "1edc684d550a4917b3b09381ca303234",
            "af24a7c94d70408cbcb15d8549df6c86",
            "dd3e294c3f894909945ffd5acd8703b9",
            "fb06bf9a526a4eb39248762c89868017",
            "965f16f7c7f84d58a9697141dc93695b",
            "a0c8d5496f3d4ed8af5e80962ee8956c",
            "e67334c71bc84998a93b60a848d4a42c",
            "85a51a9e01074b72ba8911a0f1f3c600",
            "2a4a3e8ab9a241818d66194f332cb192",
            "e9d4fbe3517243ea9fbd3f41b38e34b6",
            "2a441ae230ff4427bad17f0974b2a57b",
            "a0f7af2a21a4462c9f5171e477a3d312",
            "208866bb1c184a28bdac3a89cafa3a2d",
            "75e15aba7d1d4a0e998dc3720f429c0d",
            "ff9c43a6210b4deda671185746fcec08",
            "03e0a9999a894274827200fadcf291f3",
            "f9882d6fffa64ff39965b2c49c6a2a65",
            "25af3995410347dcb6a99486a5cd992f",
            "89b3627418cd48328808393171b83172",
            "7cb2a5c32e5e41be8aad82fb0ef5e5c7",
            "663e443c11e84a92abbcef3797c97b78",
            "536e5a5d7c1b414a94970521046390f6",
            "a7a176dcad264cfc8dc4dd4b5d4e198d",
            "45c0d2e1f5a9435f84293151d2f322c7",
            "b0d970d31db14ac295a909d0bfb5fe20",
            "841f5602f27a4d02ba498053c8834701",
            "9f2dab03f34d46b5a4ffc61855e9bb9c",
            "de6cc0b2d31048dcb02e50c2f4b8648f",
            "0ff106a4f58c4857a145201c438a267b",
            "937176be114246d3b7a0c790f4263f9e",
            "dff1046c185b4a8da45e73103c7d138e",
            "d84d4cdc3c8d4c539e2682ff48a8031d",
            "e1ef0ad620344698ac7bc72e6c024d13",
            "6e94fb25510a423c885e695c4ec38603"
          ]
        },
        "id": "sNO_28zyT5OS",
        "outputId": "9172b4fc-59ea-4545-d88c-1894959ff126"
      },
      "source": [
        "from speechbrain.pretrained import SpeakerRecognition\n",
        "import torchaudio\n",
        "verification = SpeakerRecognition.from_hparams(source=\"speechbrain/spkrec-ecapa-voxceleb\", savedir=\"./pretrained_ecapa\")\n",
        "signal, fs = torchaudio.load('./LibriSpeech/dev-clean-2/1272/135031/1272-135031-0003.flac')\n",
        "embedding = verification.encode_batch(signal)\n",
        "embedding.shape"
      ],
      "execution_count": null,
      "outputs": [
        {
          "output_type": "display_data",
          "data": {
            "application/vnd.jupyter.widget-view+json": {
              "model_id": "4c68a283802c4b1e9a110df418bfa3a9",
              "version_minor": 0,
              "version_major": 2
            },
            "text/plain": [
              "HBox(children=(FloatProgress(value=0.0, description='Downloading', max=1920.0, style=ProgressStyle(description…"
            ]
          },
          "metadata": {
            "tags": []
          }
        },
        {
          "output_type": "stream",
          "text": [
            "\n"
          ],
          "name": "stdout"
        },
        {
          "output_type": "display_data",
          "data": {
            "application/vnd.jupyter.widget-view+json": {
              "model_id": "dd3e294c3f894909945ffd5acd8703b9",
              "version_minor": 0,
              "version_major": 2
            },
            "text/plain": [
              "HBox(children=(FloatProgress(value=0.0, description='Downloading', max=83316686.0, style=ProgressStyle(descrip…"
            ]
          },
          "metadata": {
            "tags": []
          }
        },
        {
          "output_type": "stream",
          "text": [
            "\n"
          ],
          "name": "stdout"
        },
        {
          "output_type": "display_data",
          "data": {
            "application/vnd.jupyter.widget-view+json": {
              "model_id": "2a441ae230ff4427bad17f0974b2a57b",
              "version_minor": 0,
              "version_major": 2
            },
            "text/plain": [
              "HBox(children=(FloatProgress(value=0.0, description='Downloading', max=1921.0, style=ProgressStyle(description…"
            ]
          },
          "metadata": {
            "tags": []
          }
        },
        {
          "output_type": "stream",
          "text": [
            "\n"
          ],
          "name": "stdout"
        },
        {
          "output_type": "display_data",
          "data": {
            "application/vnd.jupyter.widget-view+json": {
              "model_id": "89b3627418cd48328808393171b83172",
              "version_minor": 0,
              "version_major": 2
            },
            "text/plain": [
              "HBox(children=(FloatProgress(value=0.0, description='Downloading', max=5534328.0, style=ProgressStyle(descript…"
            ]
          },
          "metadata": {
            "tags": []
          }
        },
        {
          "output_type": "stream",
          "text": [
            "\n"
          ],
          "name": "stdout"
        },
        {
          "output_type": "display_data",
          "data": {
            "application/vnd.jupyter.widget-view+json": {
              "model_id": "9f2dab03f34d46b5a4ffc61855e9bb9c",
              "version_minor": 0,
              "version_major": 2
            },
            "text/plain": [
              "HBox(children=(FloatProgress(value=0.0, description='Downloading', max=128619.0, style=ProgressStyle(descripti…"
            ]
          },
          "metadata": {
            "tags": []
          }
        },
        {
          "output_type": "stream",
          "text": [
            "\n"
          ],
          "name": "stdout"
        },
        {
          "output_type": "execute_result",
          "data": {
            "text/plain": [
              "torch.Size([1, 1, 192])"
            ]
          },
          "metadata": {
            "tags": []
          },
          "execution_count": 5
        }
      ]
    },
    {
      "cell_type": "markdown",
      "metadata": {
        "id": "k7AKrsLECPE2"
      },
      "source": [
        "We can visualize how this DNN is able to extract embeddings which are representative of the speaker identity with a **PCA**. "
      ]
    },
    {
      "cell_type": "markdown",
      "metadata": {
        "id": "lnC6v3-9Cak8"
      },
      "source": [
        "We select 20 random utterances from MiniLibriSpeech corpus:"
      ]
    },
    {
      "cell_type": "code",
      "metadata": {
        "id": "54P7K8bOljwB"
      },
      "source": [
        "import glob \n",
        "import numpy as np\n",
        "utterances = glob.glob(\"./LibriSpeech/dev-clean-2/**/*.flac\", recursive=True)"
      ],
      "execution_count": null,
      "outputs": []
    },
    {
      "cell_type": "code",
      "metadata": {
        "id": "YLA8puMW_xOF"
      },
      "source": [
        "np.random.shuffle(utterances)\n",
        "utterances = utterances[:20]"
      ],
      "execution_count": null,
      "outputs": []
    },
    {
      "cell_type": "markdown",
      "metadata": {
        "id": "yUsg7YgZCgVs"
      },
      "source": [
        "We extract embeddings on the whole utterances and put corresponding oracle speaker IDs on a list."
      ]
    },
    {
      "cell_type": "code",
      "metadata": {
        "id": "WAK74neqmryW"
      },
      "source": [
        "from pathlib import Path\n",
        "\n",
        "embeddings = []\n",
        "labels = []\n",
        "for u in utterances:\n",
        "    tmp, fs = torchaudio.load(u)\n",
        "    e = verification.encode_batch(tmp)\n",
        "    embeddings.append(e[0, 0].numpy())\n",
        "    spk_label = Path(u).parent.parent.stem\n",
        "    labels.append(spk_label)"
      ],
      "execution_count": null,
      "outputs": []
    },
    {
      "cell_type": "markdown",
      "metadata": {
        "id": "ozhSGKS_CuRF"
      },
      "source": [
        "We can use sklearn PCA for visualization."
      ]
    },
    {
      "cell_type": "code",
      "metadata": {
        "id": "bfssZX_k_1VW"
      },
      "source": [
        "from sklearn.decomposition import PCA\n",
        "\n",
        "embeddings = np.array(embeddings)\n",
        "\n",
        "pca = PCA(n_components=2)\n",
        "principalComponents = pca.fit_transform(embeddings)"
      ],
      "execution_count": null,
      "outputs": []
    },
    {
      "cell_type": "markdown",
      "metadata": {
        "id": "grjNqihhCykb"
      },
      "source": [
        "Finally we can plot the results. It can be seen that some speakers are clustered well even when visualizing only two components with PCA:"
      ]
    },
    {
      "cell_type": "code",
      "metadata": {
        "colab": {
          "base_uri": "https://localhost:8080/",
          "height": 296
        },
        "id": "j1U0N9b2ABG2",
        "outputId": "455f3282-758b-4841-f435-081ae1cba6ed"
      },
      "source": [
        "import matplotlib.pyplot as plt\n",
        "fig, ax = plt.subplots()\n",
        "ax.scatter(principalComponents[:, 0], principalComponents[:, 1])\n",
        "\n",
        "for i, spkid in enumerate(labels):\n",
        "    ax.annotate(spkid, (principalComponents[i, 0], principalComponents[i, 1]))\n",
        "plt.xlabel(\"Principal Component 1\")\n",
        "plt.ylabel(\"Principal Component 2\")"
      ],
      "execution_count": null,
      "outputs": [
        {
          "output_type": "execute_result",
          "data": {
            "text/plain": [
              "Text(0, 0.5, 'Principal Component 2')"
            ]
          },
          "metadata": {
            "tags": []
          },
          "execution_count": 10
        },
        {
          "output_type": "display_data",
          "data": {
            "image/png": "[encoded data removed]",
            "text/plain": [
              "<Figure size 432x288 with 1 Axes>"
            ]
          },
          "metadata": {
            "tags": [],
            "needs_background": "light"
          }
        }
      ]
    },
    {
      "cell_type": "markdown",
      "metadata": {
        "id": "rDfkPAUA_JUk"
      },
      "source": [
        "Given the embeddings computed with the ECAPA-TDNN model, we can perform speaker verification in this way:"
      ]
    },
    {
      "cell_type": "code",
      "metadata": {
        "colab": {
          "base_uri": "https://localhost:8080/"
        },
        "id": "KuWnaG-j_Tr3",
        "outputId": "9f8130c2-208c-46d1-fefe-cd060b644b18"
      },
      "source": [
        "# Different files from the same speaker\n",
        "file1 = './LibriSpeech/dev-clean-2/1272/135031/1272-135031-0000.flac' # Same speaker\n",
        "file2 = './LibriSpeech/dev-clean-2/1272/141231/1272-141231-0004.flac' # Same speaker\n",
        "file3 = './LibriSpeech/dev-clean-2/1462/170142/1462-170142-0000.flac'  # Different speaker\n",
        "\n",
        "# Test with 2 files from the same speaker\n",
        "score, prediction = verification.verify_files(file1, file2)\n",
        "print(score, prediction)\n",
        "\n",
        "# Test with 2 files from  different speakers\n",
        "score, prediction = verification.verify_files(file1, file3)\n",
        "print(score, prediction)"
      ],
      "execution_count": null,
      "outputs": [
        {
          "output_type": "stream",
          "text": [
            "tensor([0.6902]) tensor([True])\n",
            "tensor([-9.0540e-05]) tensor([False])\n"
          ],
          "name": "stdout"
        }
      ]
    },
    {
      "cell_type": "markdown",
      "metadata": {
        "id": "VSax2FUVBiRu"
      },
      "source": [
        "LibriSpeech is a very easy task for speaker verification. However, the ECAPA model works very well on other types of data. With voxceleb, we achieved an Equal Error Rate of 0.69%. Feel free to record yourself  (with a sampling rate of 16 kHz) and play with that!"
      ]
    },
    {
      "cell_type": "markdown",
      "metadata": {
        "id": "2AV_AknNQebh"
      },
      "source": [
        "### Source Separation"
      ]
    },
    {
      "cell_type": "markdown",
      "metadata": {
        "id": "OFiEZitTaxcx"
      },
      "source": [
        "What about Source Separation ?\n",
        "A pretrained SepFormer model is available [here]:(https://huggingface.co/speechbrain/sepformer-wsj02mix). It can be used right out off the box to perform separation on clean speech mixtures. \n"
      ]
    },
    {
      "cell_type": "markdown",
      "metadata": {
        "id": "08KQG5rVQkaA"
      },
      "source": [
        "We create an artificial mixture here by mixing together two utterances from MiniLibriSpeech. "
      ]
    },
    {
      "cell_type": "code",
      "metadata": {
        "id": "SyEQ3QmmQR3H"
      },
      "source": [
        "import torchaudio\n",
        "s1, fs = torchaudio.load('./LibriSpeech/dev-clean-2/1272/135031/1272-135031-0003.flac')\n",
        "s2, fs = torchaudio.load('./LibriSpeech/dev-clean-2/1462/170142/1462-170142-0001.flac')\n",
        "\n",
        "# we resample because we will use a model trained on 8KHz data. \n",
        "resampler = torchaudio.transforms.Resample(fs, 8000) \n",
        "s1 = resampler(s1)\n",
        "s2 = resampler(s2)\n",
        "fs= 8000\n",
        "\n",
        "min_len = min(s1.shape[-1], s2.shape[-1])\n",
        "s1 = s1[:, :min_len]\n",
        "s2 = s2[:, :min_len]\n",
        "mix = s1 + s2"
      ],
      "execution_count": null,
      "outputs": []
    },
    {
      "cell_type": "code",
      "metadata": {
        "id": "1jBzCNMtRbdJ"
      },
      "source": [
        "import IPython.display as ipd"
      ],
      "execution_count": null,
      "outputs": []
    },
    {
      "cell_type": "markdown",
      "metadata": {
        "id": "d6MI6Xb5-9nu"
      },
      "source": [
        "We can listen to this artificial mixture. "
      ]
    },
    {
      "cell_type": "code",
      "metadata": {
        "colab": {
          "base_uri": "https://localhost:8080/",
          "height": 75
        },
        "id": "FzJXPO9LXIKy",
        "outputId": "9a24c921-e169-48c8-8e36-36f744598e7c"
      },
      "source": [
        "ipd.Audio(mix[0], rate=fs)"
      ],
      "execution_count": null,
      "outputs": [
        {
          "output_type": "execute_result",
          "data": {
            "text/html": [
              "\n",
              "                <audio controls=\"controls\" >\n",
              "                    <source src=\"data:audio/wav;base64,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\" type=\"audio/wav\" />\n",
              "                    Your browser does not support the audio element.\n",
              "                </audio>\n",
              "              "
            ],
            "text/plain": [
              "<IPython.lib.display.Audio object>"
            ]
          },
          "metadata": {
            "tags": []
          },
          "execution_count": 14
        }
      ]
    },
    {
      "cell_type": "markdown",
      "metadata": {
        "id": "LTuaNzcG_DGX"
      },
      "source": [
        "Now, we can instantiate the pretrained SepFormer from <img src=\"https://huggingface.co/front/assets/huggingface_logo.svg\" alt=\"drawing\" width=\"20\"/>[HuggingFace](https://huggingface.co/models)<img src=\"https://huggingface.co/front/assets/huggingface_logo.svg\" alt=\"drawing\" width=\"20\"/>. "
      ]
    },
    {
      "cell_type": "code",
      "metadata": {
        "colab": {
          "base_uri": "https://localhost:8080/",
          "height": 213,
          "referenced_widgets": [
            "8bdca39960584b2da8b7c5148e8ab3bb",
            "940086a89bee4321a0496ecd4cdfa99c",
            "afbd8c08b0b84b93837ca82767ef9068",
            "1b65441e19824e87b607de338e51ba07",
            "f87c6c5fbb6d4d31ae112a712c30d335",
            "ca70a38d66974b2c8494a1ea2095f5e2",
            "6ff63013aa5646d5b71077b34fca3b38",
            "e52701aac9164c1789a87ccdbc43dc38",
            "688725507e9a4d99930ba1905658d58d",
            "3fde7941b6ab4bd89d701c98adebff35",
            "17ec1df5fbea416794dfd842344a96eb",
            "c26aee51be7b4069a83e53fe3e148ed7",
            "6a323ed8b1c34b5897c652424cb7bd2f",
            "4b40a4a6c877413ca1a307788f6b86f9",
            "ea77aad58bf948d3bfa7d26e620546df",
            "6c3f08eb405f4f67af857479fbfab96a",
            "03aa57e97aaa402283f9b06a244a36ac",
            "5a71039edf9c4417a6396188ab519adb",
            "ccd764d627a647239d481e85f964abd0",
            "c884f1def5754f64b12c02a133eb7e4c",
            "f0e90492896e435b8a5a833c03b27ffd",
            "308f9b83f09044289144d6422158be25",
            "6978fe08cc12452da4d4f87c2d5b64bc",
            "5db373a299844956862e0f2cb39d7155",
            "79a137b4643a4ce6b25cdc3bd8fb0919",
            "70bc5b7ff6db4850bcc949f643c5bf5b",
            "1b0bce3b9cfd4fb2b99b5cf17de38f4d",
            "8d8fac0541a04cc3b097fad2a32f9700",
            "72f3b9f155d04cd7b94564f8cfb12a88",
            "6251308f04164dde9b3461622c1ee66b",
            "e12d9f2449184d3b81c21ab702ce0015",
            "3783dda04641425b8df2aaf035c119df"
          ]
        },
        "id": "8Fmt65bJS1X4",
        "outputId": "fe9d474f-e917-49f8-e0ad-8a9005ee641f"
      },
      "source": [
        "from speechbrain.pretrained import SepformerSeparation\n",
        "separator = SepformerSeparation.from_hparams(source=\"speechbrain/sepformer-wsj02mix\", savedir=\"./pretrained_sepformer\")"
      ],
      "execution_count": null,
      "outputs": [
        {
          "output_type": "display_data",
          "data": {
            "application/vnd.jupyter.widget-view+json": {
              "model_id": "8bdca39960584b2da8b7c5148e8ab3bb",
              "version_minor": 0,
              "version_major": 2
            },
            "text/plain": [
              "HBox(children=(FloatProgress(value=0.0, description='Downloading', max=4365.0, style=ProgressStyle(description…"
            ]
          },
          "metadata": {
            "tags": []
          }
        },
        {
          "output_type": "stream",
          "text": [
            "\n"
          ],
          "name": "stdout"
        },
        {
          "output_type": "display_data",
          "data": {
            "application/vnd.jupyter.widget-view+json": {
              "model_id": "688725507e9a4d99930ba1905658d58d",
              "version_minor": 0,
              "version_major": 2
            },
            "text/plain": [
              "HBox(children=(FloatProgress(value=0.0, description='Downloading', max=113108458.0, style=ProgressStyle(descri…"
            ]
          },
          "metadata": {
            "tags": []
          }
        },
        {
          "output_type": "stream",
          "text": [
            "\n"
          ],
          "name": "stdout"
        },
        {
          "output_type": "display_data",
          "data": {
            "application/vnd.jupyter.widget-view+json": {
              "model_id": "03aa57e97aaa402283f9b06a244a36ac",
              "version_minor": 0,
              "version_major": 2
            },
            "text/plain": [
              "HBox(children=(FloatProgress(value=0.0, description='Downloading', max=17267.0, style=ProgressStyle(descriptio…"
            ]
          },
          "metadata": {
            "tags": []
          }
        },
        {
          "output_type": "stream",
          "text": [
            "\n"
          ],
          "name": "stdout"
        },
        {
          "output_type": "display_data",
          "data": {
            "application/vnd.jupyter.widget-view+json": {
              "model_id": "79a137b4643a4ce6b25cdc3bd8fb0919",
              "version_minor": 0,
              "version_major": 2
            },
            "text/plain": [
              "HBox(children=(FloatProgress(value=0.0, description='Downloading', max=17202.0, style=ProgressStyle(descriptio…"
            ]
          },
          "metadata": {
            "tags": []
          }
        },
        {
          "output_type": "stream",
          "text": [
            "\n"
          ],
          "name": "stdout"
        }
      ]
    },
    {
      "cell_type": "markdown",
      "metadata": {
        "id": "UfLzNQuhAh9A"
      },
      "source": [
        "and we use it to separate the mixture"
      ]
    },
    {
      "cell_type": "code",
      "metadata": {
        "id": "4CHfWcBTTJhZ"
      },
      "source": [
        "est_sources = separator.separate_batch(mix)"
      ],
      "execution_count": null,
      "outputs": []
    },
    {
      "cell_type": "code",
      "metadata": {
        "id": "E-IfDAtiWUcp"
      },
      "source": [
        "est_sources = est_sources[0] # strip batch dimension"
      ],
      "execution_count": null,
      "outputs": []
    },
    {
      "cell_type": "markdown",
      "metadata": {
        "id": "rvI-xbleAvSj"
      },
      "source": [
        "You can listen at the results here:"
      ]
    },
    {
      "cell_type": "code",
      "metadata": {
        "colab": {
          "base_uri": "https://localhost:8080/",
          "height": 75
        },
        "id": "H6W0qE5OX_v4",
        "outputId": "9cd10235-7b16-4bea-c129-d306ae0478bc"
      },
      "source": [
        "ipd.Audio(est_sources[:, 0], rate=fs)"
      ],
      "execution_count": null,
      "outputs": [
        {
          "output_type": "execute_result",
          "data": {
            "text/html": [
              "\n",
              "                <audio controls=\"controls\" >\n",
              "                    <source src=\"data:audio/wav;base64,UklGRlQpAQBXQVZFZm10IBAAAAABAAEAQB8AAIA+AAACABAAZGF0YTApAQBCAGgA0ADLAHoAlgACAfsAmAB+AK4ApQCjALwAlgCiAOAA5gDtANsA5gDYAOUA1wDHALEArwClAIgAcQB1AJoAqwCGAH0AiABqAHgAUgBSAFkAZQBlAE4AVQBxAHwAdgCZAI0ApQCaAJYAbQBzAHwAdgBbAD4AWgB1AIUAXwB0AGwAZABZAGkATABaAG8AZwBRACsALQBDAEgAXQBqAHcAawBtAFEAawBZAGgARQAhAAoA9/8RACkAMAAXAAMA/P/3/wsA8f/h/8b/yf/c//D/5v/q//X/+P8FABEACgAFAPH/2P/k//b/9v/l/+D/3P/j//T/6f/j//T/BgACAP7/7f/Z/9f/2P/z//T/8P/Y/9P/6/8FABQAAADh/+H/6P8NAOz/3v/X/9z//P8UABQA7/8AAAkAFwADAPf/3v/V/9b/0P+5/9D/z//n/wMAAAAaABIAKAAWAAIAAAAxACsAHAAEAOz/AQAYABIA2P/u/xkAMQAIAPH/6//q/wAAAwAIAAQAGgAQAP7/2v/g//L/CwAlABEAFwAXABoADADy/9X/x//T/9f/zP/r/9//2P/H/7X/nv+L/6X/ev+G/5H/ov+8/6H/nP+D/5D/af9G/13/V/9q/1D/Nf/Q/gX/Tv91/0L/J/9f/1j/oP8A//f+Gv+a/4T/Xv9R/0z/nP9u/5r/hP+u/8v/vP/K/7b/8f/1/83/gf96/6n/yf/J/1n/aP96/7L/yP+u/+X/2v/w/9D/r/+S/6b/tf/A/9n/tf/z/83/2f/W//T/uv+1/7r/z//h/73/1f/g//L/xf+s/8z/jv+Y/7b/rv/H/57/yv/K/8f/q//M/4H/Tv+F/0n/Wf9D/57/lP+t/1n/Sv92/5//u/9l/3X/Tf+7/+P/1P+t/47/xf/i/+z/sv+5/6//BgDx/8b/m//R/ykAIADW/6T/qf/V/wcAx/96/1L/nP8YAC4Ac//8/jD/n/+x/zX/LP8j/2z/eP8y/2X/Pv9S/yb/Uv9d/8j//f+6/2z/QP+g/3L/cv9l/4P/1P+v/6X/iv+l/4D/tP/E/wAA6/+y/4f/Yf95/5j/ev9O/2P/nf8oAP3/lf+N/6L/rv/D/7P/1v+o/2X/lP/x/wUApf8w/2X/wP8NAOv/ff+p/4n/3P++/5P/Xv9p/7n/2f/2/1D/rP8PAGIA9//F/7D/1f8GABYADwDq/w8ADgAEAIP/hP87AIcArwAEABIAagAtAQoB2gCCAJMAswBXAA8Ac/+1/wkALwAtAN//zv/s/2MAZgA6AAEAQgDCAKIAOwDH/+L/NQBnACIAvv/+/y0AUgAVAAcAKABbAEsA5P+Z/2z/iv/6//7/+//9/zcAWAAyABUADwAjAAQAPAA4AJ4A0wDVAKsAqgCsAOkA2gCHAG0AVgCeAFoAigBIAKUApgBmAD0AKwBOAEwAIQCw/+P/fwAHAT8BmwB5AMsAOwEPAaUAHAAVABgAWQAiABIAGwBVAEQALQBEADIAMwDA/7P/pv8AABgA3f/t/wgAhQBvABUA0f/M/9L/yv/T/6z/z/8jAI0AxACLAGsAdwCmANcAtACRAJEAxQDjAMwAbQBrAJUAjACpAGEAYgCCAMoAdAAlAA0AEwBjADcAJwDd/yoALwArAHj/Sv+z/08AjACKAJcAdwBLACoA7//H/9//YgCrAIwAdgBbAFcAJgBGACYAEwA3AMMA6wCuAKoAiQCUAKgA2gDWALkAvwAYAeUAswBfAFgAtQADAdYAgACgAOgAAQHIAGgATgAoAEEAXABzAHsAdgCSAHUALgD+/yoASwBpAGcAewBtAFgAJwBaAGAAYAB4AF4APgBSAGUATQAPAM3/z//Y/w0AQAA0ACMAQABoAEEAEQDY/9//5v/n/9v/3f/t/xQAPwAmAAMA3f8AACoAOgBXAD8AcgCsAK4AVwAKAMr/FQAyAEwASwBYAGIAWABEACMAEwAOAPv/5v8TAC0ANwA1AFIAfABnAG0AZQCuAL0A/gDiALsAugDhAO4AxwB+AEcAaAB4AKsAmABYAF0AsgCNACwA7v/R/+n/wv/J/43/tf/+/ygAKgAfAFcAaABsAEMALQAZADgARwBCADsAVQCcAIsAfgBjAE4AVgCAAFsALAAfAEsAWwBeAGgAWAAfADIAJAAuABYA6f/Y/4v/vv++/+z/xv/e/+P//v/O/5b/p/+N/6n/nv/V/+j/7//2/x8ADADr//L/1P+h/4b/q//X/5z/s/+v/8v/q/+o/27/fP+M/4T/av9i/6r/rv+f/3//gP+o/+L/7v/v/9r/6f8SAPz/+v/0/xIAJgA9ADIASgBFAGIAggBtAH4AWgBGADsAKgAsAB8ATwA3AD8AGAD1//3/9P/j/9v//P/i//H/6//O/8z/q/+F/1L/Nv80/1X/fP99/3r/gv+1/7f/r/+8/8f/vP/e/97/3P/G/9H/AAARABAA6//w/wMAAADq/9b/2f/5/yoAOQAeAA0A3P/m/6T/r/+g/+3/FgAfAPf/3v/2/wMACADf/wMACwAtAPz/zf+W/4v/vf/m////wf/M/5T/n/94/0r/Of9M/2v/bf94/07/Qv8h/zT/SP9U/2z/bv+W/67/tf+o/63/qv/E/+D/8P/g/9P/8P/5//T/GwAfADMARQB3AEkA3/+m/8z/4/8AAA0A9v/z/+3/2//B/5T/if+R/8L/0P/N/63/l/+T/4r/eP9U/3f/nv/j/+D/wv+V/5z/pv++/73/xP/u/wQAHwAQAAsA//8QAAgACgD9/xgAJgAjAA4AFAAjAGMASQAqAB4AFwBAADoADgDd/+r/GQAwAPv/zv/K/wUALAA4AAYA5v8TACgATAAxAEsASgBUAHwAawBQACAALQA/ABgA9//0/xAAPABoAE0AYABCAGEAXQA2ANv/+v8FAOH/vf+t/+X/7P/7/9z/1//i/w4A9P+0/5r/rf/K/7P/u/+1/wAALwAYAOr/5v/Q//r/+v/9/+f/pv+R/47/t//Y/9z/2P/z/xAAHQAEANf/1f/t/xoAMQBRADMASgAtACkA/v8EAAkAIABMAFAAOAAfAPH/3v/i////JwBaAIwApQB7AFoAOABGAF8AcQCAAHUAjwClAIgASQAMADEAaABzAC4AWABrAI0AnwBgAP7/9P8vAG0AWgAzADAAVABkAF0ASAATACsAOQBiADUA+f/X//D/FwAQAAAA4v8bAAMA/f/i/xAAJAAwABsAxv+z/9v/DwDf/7b/0f8tADMABAC2/5j/1f8fACkAAwC9/8T/3v/f/+T/3v/H/+n/8//b/+D/uf/N/8v//P/w/9n/9f8RAPj/q/+t/7j/xP/B/7j/w/+5/6n/n//G/83/zP+b/8r/x//j/9z/ov/K/9D/9P/F/8P/qP/g/x4AHQAMAMT/IwAmAFAAXwCZAIgAeQA7AAYA//8YAFQAFQAhACsAdwCXAHUAUAAjAPL/DADw/9D/ov+q/73/AgDh/9z/2//c/wAACADl/+j/xP/Z/+//8f8BAPv/UABoAIkATwAGAND/0v/w/wkAIAA1AFUASwBDABEA2v+c/7//7f8tAAwA+P/z/yIAFgDf/8r/0f/n/+//FQD7/+X/6f8KAAAAtv97/5n/wv+//6//nv/H/xsAIQArAMr/tf/J/8f/ov9t/5j/+v8nACEAGQD4/w4AOQA/ABwAHABPAIwAhQBwAGsAbQCgAJoAcgAwAFEAhgCEAD8ADwAOAIAAmQCNAF8AQwBjAHoAVgAQABkAMAB5AGwAZQB/AJEAxgCZAD0AFgAqAEkAYQBoAIYApAC1AI8AJADf/8P/2v/x/wQACAAtAFEATwAqAPf/7v8GAEYAagBsAE8AagBzAHwAYQBjAMEA/ADhAIIATwBfAJkAjABXADYATwCJAHoANADt//7/QwBwAFEAKAAlAEIAVQBBACwAGwAoAFsARAAZAO3/8//k/9r/5f8jAD8APwAcAPT/FAAvACsABwDs/xQAUgBIABoAx/+r/87/7//3/9b/tP+0/7f/mf+A/27/lf+9/8r/0f/R/9b/9//o/97/3f/p/wIAFAAMAAEADQAqAE4AWQBoAF4AUQBVAGIAhQCVAKIAwgDyAOgAvQCpAJAAkwCQAKYAtgDEALkAqQCPAIUAfABkAFQAUgBlAFAAUgBLAG8AggCXAJ4AjwCDAH0AigCLAJAAigCRAIsAmgCcAI0AdQB0AHQAgQCPAI4AhgB8AHgAhgB+AGoAfQCTAJ0AfwBvAGMAawBoAFAAKgAjACwASABmAGoAXgBhAF8AQQAYAOj/yf/p/x0AVABJAC8AHAAbABYAAwDn/+b/8v8VACEAFQAEAPb/5v/n/9P/tv+n/6//zf+8/5//h/98/4L/lP+f/8f/7P///xsAFgAUAA8AFgA5AFMAWgBMADUANwA0ACcAJgAkAC4AOwAxAB4ABQDs//D/6/8FAAoAGQAYACAADQADAPD/2P/U/8X/1v/2/woAJQAWAP3/+//6/wMA/f/4/xEATgBbAIMAdwBkADkAFgAIAAsAHAA0AD0ASAAmAA8AAQADAPP/+P/y/wYAJAAqABUADAACAAYA///z//L/8P/9/wAA+f/i/9X/1P/t//H/9v/j/9j/7//s/+j/x/+6/7//wP/S/+H/wf+l/6v/qv+W/2f/Q/9K/2L/ef90/1j/N/8d/xH/MP8Y/wb/Hv8p/2n/U/9M/zf/Nf8c/x3/C/8D/wL/EP83/z3/Uf9a/3P/fv+G/3v/gP+E/4//lP+T/47/jP98/4P/g/+F/4//pf+6/8P/wP/A/7n/u/+4/73/yP/S/9j/4f/i/+P/3f/g//D/9//2//3/AwAHAA4AFwAhABkAFAAfACIAIwAmADMAPwBMAEsASwA1ACwAJwAqAC0AJgAUAP//+P/+/wcACgASABAAEQAkAC0AMQAvADEANwBEAEsATwBKAE0AWgBnAHAAfABtAHMAegCBAHkAegCAAIYAhwCXAJsAlACIAIcAlgCgAJIAgABtAGgAVgA9ACIAKQAmADMAMQA1ACsAIgAnACcAHQATAA8ABQAIAAkACwApADMAPQAnACYAHgAQAP7//v/u/9n/xv/K/8b/xv/F/8X/r/+r/6v/sP+r/6X/mP+a/6j/uv+4/7f/zP/s////+f/m//P/8f/z/+//+f8PABMAEQATABoAFAALAAAA9f/v/+j/+/8AAAQAAQAEABcALQAsAEQASgBTAEoAQQA7AEQATABTAEkATQBOAEwAVABgAGUAcwBzAGcAYgBmAFwAVABNAFwAXABjAGYAagBqAHAAagByAF8ASQApAB4ACQAFAPf/7f/o/+b/5P/n/+T/2P/B/8j/xP/M/9z/8P8GAAgA/P8AAPr/7P/i/+H/6v/u/+z/+/8JAAgA/v/4//H/4f/K/8z/0f/V/9D/0f/U/9b/2P/W/9b/zP++/6X/o/+k/57/kf+M/5T/mv+W/5f/oP+W/5n/m/+Y/47/hv+T/5//mP+d/6P/tP/D/87/1//q/+T/4P/N/8j/x//D/6//n/+N/5H/oP+y/8D/yf/F/8P/qv+f/4v/e/95/33/jP+V/5b/mf+Y/5P/iv+X/6P/pf+g/7T/xP/T/+b//v8NAA0AAAAIAAgAAADt//b/CAAPAAwAEQARABkAGgAlADUAPAArACkAIgAnADgATgBZAFkATgBSAEkAQQA/ADwAPAA2ADQAPABAAEsAUgBIAEUALQAUAPz/7v/r/+//8//z//z/6P/b/9r/yf/J/7z/p/+R/4L/fv9Y/0L/Pf80/zz/Pf80/1H/Yv9g/1z/ef+Q/5T/hP+T/6L/rP+v/7v/0v/u//j//v8EAAQAAgD5//3////1/+z/6//1//b///8PABgAFwAaABgAIQAkABwAEAAYAAIACQAMAAcACQAMABAAGQAiACUAMQA1ADoAPQA4AD4ANQAjABQAIgA3ADcAUQBcAGsAeQB+AI4AiwCKAJoArACRAJkAqQC8AM4ArACtAK0AngCWAIYAiQCLAKQAsgDBANQA1QDMAL8ArgCRAJcAlQCRAJ4AlACYAKEAnQCKAJAAkgCaAIwAeQCAAIEAdABeAGMAbwB0AGsAXQBHADsAMQAeACoAJAAXAA0A/v/0//P/9P/t/+T/0P/N/83/2P/l/+f/6f/o//D/8P/t//v/AwD///T/8v/p/9f/zf/M/8n/wv+8/7X/tP+q/5f/h/99/2z/bv9n/3D/dP99/4L/fP95/3v/dv9z/3b/gf+R/5P/m/+v/7z/y//T/+H/6v/0/+n//P8TADsATABXAGcAhACEAJAAiQCAAHEAWgBXAF8AWwBlAGIAeAB9AH8AgQCAAHUAaABWAEoATQBYAG0AYgBSAF8AbQB6AHcAfQCGAJIAjgCGAHgAbABrAGMAVABPAEYALwARAAYA9v/s/+L/3P/I/6L/kv+F/4L/d/99/3z/Y/9h/1P/SP9B/0T/Rf9W/0X/Sf9K/1b/Vf9a/2P/cP9n/2v/X/9b/0r/Qv9S/1z/cv+k/7L/oP+Q/47/iP+D/37/rP+9/7n/rv+u/7b/pf9s/4r/if+S/43/nP+0/8j/vv/L/8j/vv+x/5r/hf9x/13/T/9F/03/SP9H/2H/b/9a/1X/UP9S/1b/ZP9u/2T/Yf+P/6P/mf+k/6T/s/+6/7//2f/R/9j/8P8CAAcAEAAZAEAAVQBtAIQAlAC+AM0A2QDxAPAA4gDQAMkA1QDXAOkA5gDiAN4AvgCtAJEAigBzAGgAaQBIAGoAWgB9AH8AgACRAGkAQABJAIYAdQB6AGUAeAB2AGwAYABZAFkAXQBiAEMAOgAoAB0AAQDX/9n/xP/D/7f/o/+v/5z/qf+w/63/wv+u/73/tf/N/7z/r/+b/5P/kv+D/5P/o/+8/9T/yv/L/8D/xP+r/6H/xf/A/7//y//e/+X/6P/t/zEAcQByACwAGAAJANz/7/8GAEUAQQAtAE4ATgBVAE4ASwBIAE0ATgBOAFIAUgBaAFUAVABkAG8AfQB5AHIAgQCQAJsAiQCfAMYAtAD6AMAAmwAGAcEAEwEMARQABgCfAVr/dAAdAXoAMwGCALoADAHuAIsAigBtAG8AbwBnAG4AigB9AHAAlgB8AFgAWABxAKUAhAD//w8APQBfAG8AaQCvAM8A3ACpAIEAYABSAHsAUwAqABEAIAAvACoA3/8MAFEAUwABALj//v9TAM3/jP/h/9f/zP9M/yj/QP+B/9D/5P/m//X/BADK/83/3v/X/8//1f/r//b/8P/s/+H/xf+1/8P/uv+1/87/0v/Q/6z/nP+g/+L/xP/P/8j/5P/y//7/7f/3/wIA7v/W/9r/1//k/9b/4//1//f/8f8AAAIAFQAVACQAKgBHADQASQBZAFYAXQBhAJAAdQBvAG0AdQB6AGYAaABnAHAAggCOAJAAjACSAJQAvAC9AM0A1gDXANMA0AC9AL0AmwCPAHQAhQB6AIMAfACJAHkAaQBSAFkAUgBWAFMAVwA4ADcAOQAwACAABAD3//3/CwAKAAQAAwAAAAYA+f/6/+7/7P/l/9//yP+2/63/tP+3/7P/nv+N/4v/hv+G/3//a/9a/1T/SP88/zb/LP8f/xf/H/8j/yP/JP8h/x//FP8O/xT/Dv8f/xX/D//+/vH+6P74/gX/B//6/gj/FP9O/zv/Nv8z/0T/U/9i/1v/iv+V/5r/mP+J/47/rP+w/7z/wv/G/73/sP+a/67/0f/V/8X/xf/a/9r/5v/Q/9f/0v/w//D/5f/U/9b/1v/N/97/2v/n/+3/6v/x/+//8f////r//f/8//n/8f/+//H/8v/1//X/7P/u/+b/3f/V/+n/4//p/+n/9//u/+P/2v/y/+f/6f/m//L//v/u/9X/3f/3/93/wv+6/8//0f/S/8j/xf/E/8X/vP++/7T/wv/L/8r/u//B/7H/wf/C/8b/zP/W/9T/2P/G/8r/vP+9/6n/t/+0/7b/sP+x/6j/p/+c/43/hf+M/43/iv9+/3f/j/+W/5//n/+f/6r/wf+9/9X/3P/l//D/+//3//n/AAARACQACwAeAB4ASAAuAEkAAQA0AI8A8f/DABwATgCoACEAxAAxAFYAagBtAHsAXgBdAFsAWwBXAFcAVABGAEYARgBUAEkAUQBFAE0AQABCAFcASgBHAE8AXABfAFYATgBpAHkAcwBvAHkAjgCTAIAAgACRAIoAbwBgAF4AaQBSADcANgBKAD4AQQArACoAIAAnAB0AGgAYABAAEwARAAQABAAAAAAABwAGAP//AwD8/woACwALAAYACgATABcAEgASABoAKgAcACAAKgAtACIAIQAYACIAIwAhABkAFgAaACEAIwAIABsADQAuABkAGgAHACUAFwAaABIADQAfAAUACQD9/xUAEAAZAAsAGwAPAB4AAgADABAAEQAeABIAEAAPAAUACQAFAAgADwAYAA8AEwAFABEABAAQAAMAFAAGABAAEwAXABIAFgAmABsAFQApADQANAAuACwAMgA1AB4AHgAiAC8AIwAlACIAJwALABQAAQAOAAwAFAAPABoAAwAVAAEADQD6/xIADAAZAAgAFgAVACYAGwAaABQAJwAfABoAAgADAPf/AQD1//r/+v/5/+P/2P/e/9n/0v+3/9r/0//F/7P/u//E/8L/tP+x/7r/v/+q/5z/nP+i/5H/if91/4f/i/+M/43/mf+Q/4D/ZP9r/27/X/9V/2j/d/+A/2P/Y/9n/3z/cf95/3r/iP+X/4j/hv+J/5//hf+Q/4v/r/+b/5j/nv+i/5b/mv+K/67/tP+y/6r/sv+0/77/u//F/8v/1P/c/+D/5//u//b//P/3/wYA/v8IAA0ABgAMAB8AKAAxACcAJAAyACoAGQAcACAANAA5ADwAOAA0AC8AMQA0ACwAOQA3AEcAMQAfABQAIQAiACcAIgAvADIAIAAYAAsAGwAaACYAHwAeABcAFgAHAAkABwAUAAsACgAGAA8AEAAUAAMAAAAJAPv//P/1//H//P/5////+//6//j/+//u/+v/7v/w/wIA+f/x//f//P/1//H/6f/2//X/6//2//T/7//6//b/CAAEAAQA+/8MAAEAEAAAAAQAAgD7//3/BAD//wIAAwALAP//CAAJABYAGwAcACcAJAAvADAAOwA6ADYAMgAxAD0AOAA6AEIATQBQAFIASABRAEgASQBSAFIAUQBcAGEAXgBSAEYASgBIADsAPAA/AEkAQgA4AEIAUABPAFAATQBVAGwAdgB3AHEAgQB+AH8AXgBlAF8AWABaAFoATgBQAFkAOAA4ACwAOwA5AC8AMQAyADIANgAvACsAKwAxAC0AKQAlACUAGgAOAA4ACAANAAcABgD+/wAA/v/4//f/+f/z/+//7v/2/+n/4v/j/+L/6v/o/9z/0//U/9r/0f/Z/9n/4v/V/9n/4//o/+3/6f/k/+b/8//3/+n/6f/x//7/7v/v/+b/4P/e/9//3//f/+H/4P/j/9//3P/e/+P/5v/l/93/5//o//L/8f/0//3/CgAKAA0ADAAQABQAGQAZABkAFQAVABMAFAAWAB4AGAAbABgAEAAZABkAFAAcAB0AHQAhABoAFAAQABIAEAAVABQAGQARAA4ACwALABAAEAALAAgADgAJAAUAAAAHAAwACAACAAYACQAFAAYACAAPAA8ABAD+//3/+//0//j//f8AAAIA///4//j//P/5//X/AgABAP3/9f/z//f//f/6//j/+/8AAPz//f/+/wMAAAAAAAAA/f////3//v///wAA/P/9/wAAAAAAAPj/+//5/////f/9/wAAAAAAAAAABgAKAA0ADAASABUAEwAVABUAGwAWABgAHgAYABkAHQAcACIAHQATABgAHAAZABkAHQAhACIAIgAkACUAIgAiACYAKgApACcAIwAlACUAJAAiACMAIAAjACUAJwApAC4AKQAsACoALAAlACMAHwArACoAKQAAACkALwBAAD4AJAAuADcAPgAyACgAMAAsACcAKQAkAC0AKAAeABoAGwAeAB4AIgAeABwAEQAOABAAEQAVABcAFgAWABIAEwAUABUAFwAWABYAFwASABEAEAATABoAFwASABUAFgAVABQAFAAVABgAGgAWAAsADQARABAACgAMABAAEgAWABQAFQAVABkAFgARAAoADQAMAAwACAAJAAkAFAATABcAEgASAA0ADwAJABMACgAQAAsAFgAXABsAGgAcAB4AIgAcABoAGAAWAA8AEQAKAAUAAwACAAgACQAQAA0ADAAIAAkABQACAAAAAwAAAAQABAAAAAAAAAAAAAcACAAEAAMAAAAFAAYABgAMAAoABAAJAAkAAwD+////+v////j/9f/n/+n/6f/r//H/8v/2//X/+//1//T/7f/4//j/AAABAAEAAgACAAgABgAHAAUA/f/4//T/8v/w//L/4P/t/9T/2//e/9v/2f/X/9j/2//U/9H/0//V/9r/3//k/+f/5f/f/+L/3v/d/+H/3P/Y/9r/2P/a/93/4P/c/+D/3f/c/9T/0//R/9X/1//U/9f/2f/Y/9P/0f/N/9L/0P/Y/93/4P/k/+H/6f/v//D/9f/0//P/8f/t/+7/6v/j/+H/3//h/+f/6f/q/+z/7v/1//X/7//w//L/8//3//r/+f/3//T/9//3//j/AAAAAP3//v/7//n/9v/4//T/9v/v/+v/6P/r/+v/7P/x/+7/6//z//n/+v/x//X/8P/w/+//7//3//b/9//2//r//P/7//j/8//x/+3/6//s/+X/4f/c/93/3f/i/+H/5P/g/97/5P/g/9n/3//i/+r/7//s/+7/8f/1//D/7//y//L/8P/s/+z/7P/s/+r/7P/q/+f/4f/c/9z/2P/g/+P/5P/o/+//+f/x//L/9v/z//v/9v////3/+P/9//z/+v/8//j///////////8EAAcACgAJAAkACQAMAAQACQAJAAMABwANAAAABgALABMAGQATABUAIgAnACUAIAAbACAAIAAMABUAFQATABQAGAASABoAFgAVAA8ACgAHAAUACgALAA4AGQAdACEAHAAiACwAMQA6AEAAQQA/ADUANQAzADEAIQAZABMAEwAQABIAEgALAAYABgAGAP//CwD7////DAALAAYAAgATAAcAEwAGAA8AEAAOAA0AAwAKAAwABgD///j/EAD7//n/6//2//n/9//3//H/9v/t/+n/7//t//v/8P/4//f/+/8CAAQABgAHAAcAFAARABIACAARAAMABAD+//f/8//y//H/8P/1//D/9v/x/+3/6v/0//j/AAAIAAkADQATABwAJwArAC8ALQAgAB4AHAAbABEADQADAAYA///6/+r/6//n/+r/6//o//D/+P/0//f/+v8IAAwAGAAhACUAPgBEAEwASQBJAFAATABJAD8ARgA4ADMAMQAqACkAEwAhAB4AJQAgAB0AJQAhABYAFwANABQADAAeACsAKwAqACwAPgBQAFAAVQBQAEYAPgArAB8ADwAFAPr/7P/g/8r/vP+2/6n/rP+k/7D/uf/A/8T/y//c//j/+/8SADAAPABhAEkAYABFAEkAWgAmAB0ACADf/+f/zv+7/9//yf+r/6//r//A/8P/3P/0////IwBKAGIAegCHAIAAigCVALEAswC3AI8AmgCSAHMARgD1/4//eP96/3D/W/87/yv/Nf8N/8X+kf5z/m7+Yv48/ir+PP54/vT+SP/4/3UA3gDUAU4C2AI0A3YDpAO1A6oDYAPXAn8CwwEoAVIATv/Z/eL7bfpq+Wn4WvdW9r31jPUS9pn2Q/hf+v4AjQPuBQ0IcQtpDCIMpgvLDD8N0QxZDBAOew1sCyoJYgfwAkH8r/a48WHubu+o5azcnt3F4erk7+vG7vrzMfuhBFARrRfXFB8UpBbXGLgYQhbrFsQYQhhkFlkUpxGpC9wC0Pt6733iZ+Cq3UvdHdyC2IPc9uAO53D0YfpTAPYHtwyUEP4QThFDF50YURijGY0b6h2eHioeSR3IGBcSSwk4/8P0euuX5Mnf3dhw0xPSdtGx0q/V9+J58K31PPtfBRANIw8PDtMPrBXIGOUYUhy0InwnKCoMKSYh2RxwHwYdfhIyAzX27fHj7I7grdRwzJzLHczTxyvEcswU4QfuPvLc93wGqxMqFm0TwRYxHbsgLx3kGT8ihy2pLdQlmB7CIP8ishkADpYBXviR8d3m/tvK1erR0c+gy+DHRcf1ylrVnt836AXvZvjQA9gMIBTsGBYe1CM3J0MoGCggKV4q0CdhJdsiGR0vGEAUgBBcCeoASPp082fr6+KN24PVfc4wyZPG3sYMzv7SydTP2kfmAuor9OAGVRO0GIEhOSy1NP429jk1PUI8yTnSNewwACs7JBAc5xEZB/z7lPBG54XcatIryIq7orXOs7qzMrafue7AiswE1w/pB/v7AyAQGyC3LK405z4PR8JIlEfGSbdHrEA7OdkyeCkuHBcRyQWI+BbtreFE1WjJ4b89uI+uLqgErVWywbSvugPKjdne59j5uwlvFAciMTHtOpdCkUhTS5FK/kmwR5lASzjcMLAnqh04E+AH1/u270DkqNhfzb/CQriErsCnTqkFsMGzorj8xiHWw+QR94QGfhIjH6Quczn2PwxGO0qeSoxLYkppRG482jNbK50iWBjLDLkAW/SY6EDdWNFSxdS6wrCBqI+lXqycsc6zLL2kz4vev+8dAh4QZxthK304qkC7RqNKm0tkSx5LXkaFPjk2Wi7gJWAcyRHPBoj6Fe4D4l/WpcpcvxO0tqn0olanGa2Urwm208Y318PmTvnXCdkVnSNQMq07MENXSLBJcEpYTClJ5kLMOxkzuSpaI14Z3A3lAQz1mej83CTRcMQpubmu86SlpHiry60csY++FdGf3//xagMEDzwb7SvJN0pA4EdESg9J/0k9S2NG+T59N2kvCiayHjkVdQkE/VjwS+OP1xvLZ78ps+Gn6KL8qHut766htnLJ79mY6VX7vgojGP4knzDPOWZCm0bOR9FImkpuR+5BGTshMycrOSNeGawOEQXe99XpUd3g0QLFdrl1rRmjt6UErjqvS7HywVLTSOGp9OgHKxHDGxErEzVXPdlFN0dQQ7hFeUeIQv47fTWvLLokGh5iFEkJif1O8ETiINcAzLq+eLBhpPSlNa0br1+wyL5vzrHc+/AyBE4OyBjAKGMzeTywRd1HT0RxRu5IQEQBPig3Ai5qJvgfXRWXCcb/VPRr5TTZEs8ZwvSzf6eyp2uugbCxsCS+Gs9t3CLwrgO8DZkWDyZeL9E1Sz/uQ0ZA4j/PQhlA0TuwN9sv2iZhISoZ5wveAab3fOc/2EnPAcLnssqnaqq6rjatVbLjw1bQd9758oADIwxkGDUn3i2kNUY/GkMhQO5AJUORQLQ7DTe7LrUlyB8kGOML8/8G9c7laNjry1y/Rq92qZWtCK/trGa4T8kl1K/ko/ktBnUMeBwzKYkuFjZbPlY+szw3QCVAEDwMOSQ0+Sm3ItscihIEBX75wuzM3WHPX8IRtBisp61jr5CuTbZvxpnSI+E29DMDWwphF8kkiCtjMe04BTzRO8Q+6j79PAg6mzY3LvIl6x7CFYEIF/yp8NzhHNNBxBW4grLpsPKubq6puBfG3NJq4hP0a/9kCFUWeCFBKIMv7TWcN5E5Dj1fPBs7mzl0NaMtiyd8HzsVZAlY/VjwVOF40mXCBbnytFqy866jskS+F8kk15Png/ZB/4UL4xeoIFIo8i9BNN411TknPDE7PTqSOG4zEyxNJigd1RGuBGv4mOln2vnJwr6zuvy1x7Fwsby7O8UU0oDimvHX+nYF3hKkG5Aj2CsRMdQxzDVkObA4Hzh+OF40fS2HKJggOxXlCPH8YO5M383PA8PjvRa6mrW2syi8Z8XA0JTfVO97+EgBnA64F/8dqiXkLEsu+zDcNcw2zjWTNqQ1/S4yKJ8hZRb4CMT8du9y39zPBMdxwy++kbjQuJ3A+shu1L/iS+7Q9nEB/AxcFSscFSQ9KdcrsS7mNAE5ojlcO9s4CzIlKRUaEAKA5gbPArf/oFGm0r8w1SveLukm/WILUBaZGbMO2Pe16yrswey/7A30WACUFkc501IPWV9NIUXSOwcugxfg+zDf08bRtL6obZsSn/DLiP1vFX4UphqzIgUfOw4e8c/RZcIQ0bbmkPNuAjwl8k9cZXZfgEZALWge2xPFACzrnt8D2n7PMsOZuaOzOdSVB6wamgmvA0MWmxnWBefo5NJPycvapfM7+wMA4iPqU1xfWUnKLFYdiherEaz/J+1u55Dnhtolx1W3xrYh4nMQxhf6AEIHaiI6I3IDMeFk0irSU+M38ufzQQBMNRBj11pTN3EiWCDKGBwGD+995vDo6OH5yri2rK5e0pULEB93CWkBHCDRLhcTTuWD0PLQz93t6HPq+/ZUKM9fX2FcPhklJSPmGncEUOt64eDm8OOazEO2OK5xzjgKaSHODL0AsCDUM1YZZ+lj0wrXW+KJ6ATn4PTLJXpdgl74OmYjLyTrGm4A4+ct4s/n+uHwyWW1GK2w0rcSGyXpCs8CJykxN3MTnuNJ1qbbwuJO5RTlyflzMs1l1Fd0Mv8jiig3FF3youCx46jmXNfvv+av/LFT6VwhDB97AI4P4Tm2L2n7Vtgi3Nnh8uHA32zo1A1BThhqMEpHKwUtTSkzA6vhQdyl48DbosOrsv6rBMptD5Ioqw0uA/8x0EKVEsTemtv15pLeG9dS3aD6NDCiZIVayTlpMm03EhXC5jvZJOK83DLAC60iqr685P2dJxkVowEjLkdPFSH74nLdJe9f35/M/dLR8Kcf31plYVZBZjd6Q6oldOwN1pPgptyeuqekMKf9uOP1Fyd2G2MEiCyjWIYsBeWT22L3y+NowY3FEO9hGq1K5FhsRqtDl02YL9jxk9rF5JTbvbDQmJifoLPI7mMgShq7CXY3V2KBMuHp+OOkAIzktLlvvMTrUBj7QJJMSUZSTOpSoDG99w7kRemx1rSmIJBklsmvU/BVGvURNxHSTOptiDFo8hb4YQlY3kCzGb2c6yIS5zJcOx1EAFSDWNksG/7k8DvtCczBm5KMhYxfszvzVgvtApQiymk6aIQjjwELHHUOm9B7rgfFzujBB4Ucwi+0SjJe1E1wIwUNHARB6LWyQZABgHCM7MQa7gvxpQaSUgB1i0pqI/Ey4ixE8JjAv8if47TvwPelDKQtB0YzRcMwhyMUGl38PsOxmvOFXpSCwGLTdthr/3dNBWOFQO8tl0f2OTH+LNSy3iXxPOZk5vsE3SZuK3YnQSgdKeUV9u4fxcqmqJvPujzGB8IN37gkXUNjLVwwGU4USPwRGfU9+04DEO8l4173vxarHPcPPxTgJNwfn/a+ziO8o7NbxnDKy7+T0jgTPjOjGoEaI0R5TvMZMvoWBs4SAQEa7Xb5NxQDGY0L6wxeGuwWFvpH23/Ja7VBvFzTWc+azo34uCoWIesUGy+URy0n1QO+CPYX6QpB8Tb5NBRiFfwCqwe3GxAVy/bc3JDSnb66uH/SG9Ri0DzviiEKHxMRLSqwQ+AopwbnDaMdnBPn9jr+RxMyFPwB5wR0FFUQ7fYX3k7S8cAcvDHT7NTPz23scBv1HLEPwyXkPrErBA1lEKYeYhpN/FQAlRZiFPv8xgFvFeMLTPAz3q/Y0cRxu1nSgNeu0Q7pFBPCF64O5iSMOn4qPhGfGb4pLxd5/8gM1hc2CFT8egj2DKr9zu9j5JDUJsHSwTXXZNNG0OHq/g+ZE1wOTSQvNmgrfBjYI/0texc9BiwTNxQGAD/9PguFCGb1v+s+4lbTQsPhxlfY7tN21Mfu2wwdDoAMQyTwMjQoERvRKCYqRhbzDjEXOxGIAmwEhwiHAcn0X+8W493V38mPy8DZLdYf17vpSwOkBmwGqhrDJ5Qi+ByPKfsodBwCGXUa8RLEB6oGuwVOALH4tfOS6cng19rV1U/c/NzA29LjpfHm+dD56wS6EMoT9xAyFwIejxehE1IXCxmOEz0PhhIuEfQJjQUsBJ393fSA7zvri+iA5dziy+Rn6B/q6Op275T2tfgu+v/+7gT7BgoJbRKIGfcamR5rJOYigBv0GAEXIQ8VBroBqv7Z9irv5+xO7P/niOTa5hrqh+nC6ajtiPEL8jH0ffrx/s0BhgjOEU8XARqVH1Ik/iF2HF4agBcOEQgKNQYCAsn7cPXx8LnsP+je5qnn8ufe55bp0+xn7oLwo/T4+XD+6AL/CK4QfBUrGSIdOx9DHgsbVxgRFYwQ4gsQCDMDQP0a+Af0gO936q3o5ujJ5y3nROkb7BHuKu+f8mv3z/oL/ikDAgkZD28SuBa8GlobYxpJGmsYHhOzDlQL6AWn/xL7fffJ8lHu4uvu6hPptegf6vTrL+0o7jLxrvTJ9wH7Af8FA/YGHQxBEBIUqxYbGGMYCxe6E+oQvw0mCukF8gAh/W35IfS079/s1OoL6d3ohOrf623tUfBd8431qfgh/YoAVQM8B2gMjA/tEaUUoxbcFY4VIhStEZ4OOguwB/sCef69+eP1tvKs75vtjO2Q7X7tSO7r777yhvSL9nb6fv0MAO0Duwd8C5oNihAHFNUT9hJnEjAQbw3RCFsFKgKy/K75pffE817yZPG/8HnxWvFi8kfzu/Mc9ZX20/iO+l388/9TA74Eygn3DWINWxD3EL0PiRBzC6cJBwmpAi0AtP5W+YX49ffV9GT2dvQ09KX1k/PA85/1A/Yu+Qf7Ifu0ACQBfQNsBnUGOQnhCkkJkAojDVgIUAcjCGkDZgOb/3X9lv1b+df3ovn59VX11PaN9Z32WfZl9lj5F/vf+mH/gAFPAg0FmAdFCMYJsglZCZsMEgYHCbIHpgKDBA7/WP8f/qz66vlJ+o/4kPj1+GP5lfg++6X7X/33/pH/lP+kA1cBDgMvB08G5APEC2wFUgeXCiEE+wYVBjACvAHG/7L9Qfon/Jj61vfn+nv64vkJ+8z6UPyW/zX8owFqAfsBrwJsBZAEvgfjBjEHfAffBlUDWgUKAjgAsAC4/MT+hvpw+Qn8SPhw+tz4KPsR/ML6OP02/67+tP8GAtgCogH3BdcFUgWvBl4F0gNiBV4B8wAhAVX+I/3x/Az5W/qh+VL2nPvX9t76JvjX+nf7m/3f/h8BRQMRA+AFxAa0BAoJ1QdHBQEILQZnAkwESABs/RIBWPlw+pX6pfR5+U/zy/dJ90f30/mc+1r+uf8FAmAF9wVyCAYL+AmoCjgNmQfmCJoJOARdAyMDmf7W/Qf7pvdM+RDzY/P39VrwDPRp+On0NfzP/ev+FwZaBgwIJA3fCxcMOw5kDP8KMQyFCLQFfwbc/Tv/v/s69pP0wPPR7pztqewz7ynt6fX29On67wE/BHcJJg5GEF8TRxP6FEcS3hDJDWMLrQeBAxMBLv2x95Lz/PAA7kTquOgF6enreuvA8aX3sfm6ApEHSAw0EIUVhxZgF34V9RJkEc4MXQh1BvABA/6w+v/zn/LT7Sfln+fc51fjGekn7NHwzvpS/XwFAw7EDiwVOBftGR4YthU9FuEQjA0/CtkJKQb4AbEACPmh83XxW+iG5MHnUuaZ45TuxvI39roARAX7DfISDRdvG0QdqRzIGUwWCRMKDskJrgVVA6P+pvxt9MvwRO3E4azgAeZZ3UznkOoz8gP7CQBcDOESfBYdHZIegCCoHqAZwRfRD9gK3AbxAgL/1/oQ+h/wz/Fy6zrcxujO4DreN+rq6j31hPvhA4UPghL4GpcduCNhH6geVh3lE+gPjAphBUQAdvoY+c/xfugi5CLZWt2X2t3ZK+LQ6fjzTvwqBg0SjBaQG1oemCJnHdAanBsnE5QPgwnCBu4CP/wL+mf0MOpd4qLaadoU3vHZZuIY7Hr1Y//tB8AT8xYWHOUcHiAsIVAXDxu3FBAQvwtcBlMH7v/+/Y352e6B4rHVYNWP3JfUfNwl6eP2Fv8FCB4ZLxyGHUQgJR8OIfITWBSOE3sI3QlwBMkFVwHU/mv+E/Pp6LHbftR34CbXu9x06Ff2I/+TA74WQx3mGyIf1R73G1cXIxEiFVsLXwwJCl8IMQYgAtEBTfcQ6Ynbis9h3DjUtNX25Lf00/66BR8XTSHxHIQfdx5TGssVYAkPD6YIGwMaB04GEgmbAxkE4/sx6/7fA81Z28PXedHM4v302/6vApkS7yGZHYEdjx5LF1gNyQ2MDIEFrQUfDMYJPQkqC1oJEgJ58jPkdtLQzNPZEM5q2X3sOvvUBY8QJyNrJP8eviAYGrQPNww6CPgDsQQwBoIKKwl+DngONQtAAL/w794JyeLXO9RozXjg7/aw/34G9RmIJ2EfUCBXIEgV8QYICaMGRABIAp0L7gwpDRMSEBS4B5L81OuR0kbIVdYAyzrS5eg3/UsEXBK0JRMpwyAQIGYaGAxtA2IHmfwUADwIUQlsDQ8S1RT5EDMHEvqP5jTOBsae1MrIoNF57OX/UwXFFL0nqib5HrwhCBr1Bg0AjQVw+wj+awTcDjUNsxGPGGwTaAhF/MrnZM2CwbTOrsWYzSfpbv5zB24XCSqLKgIhYyGFGNkGrQIKAjP6twGqA0wLwA8WFC8XcxXXCuf8fOmJ0dy9cM5+x5DLeuUf/R8HJRaJKI0s1iJ8JFkbpwra/2n///9d/GQEgA53EkcTPxnCF1QMrQCL7WbUr7/ix+rIm8ie3jL8PQa6FZsn5yzFJMwiYhsyDpUDHgR7/M0AoQXCCH0Q8BStFsUXAxGpBCXyld3pw7DCnszIx+jX9fNdAt8OnyHPK90mIiWjHgUR4QWVBQ3+b/6hA0YJhAywE7YWkReiEy0JS/kC57TNR8AQzD7FyM026Pv6PwcLGjYmPCjOJI4hSBkgDWYJtAE1ALcDFwPDCLUQIhHJFIET0Aoh/1btAdrExPnG4Mr2yS7cafPh/tkQMB9UJswlwyJCHKYS7wg8B1oDLQDZBUgISwuyEQAUqxTTEYkJoPl45wzVw8P2yUPIJs3/4XD0YAENFJQfSCVzJTsjOxycE5ENOAUiBf0DrQMJCaMMig36EuQRMA5wBWn1EuaQ04rGr83kyIfQlORJ84ACFRTsHW0j7iTIHwMbmxPZDOII1weZBCIH4gjCC2oQ1xLCEh4NGAO+9HrlmtMfyLbNz8oh0pbkk/GJAFMPdRnpIIEjAh+pGiUULA7JCRoHxQVdCAYKJg2fEjUVoRRsEncK8fzp65DdGMtFxZDFvcdc2LfqrPePCp4TXBnaHHQW9xAEDsoHTQX6CSYJlg17EwUV3RvsGzYcTxxBFLIKA/9469repMufwojFjMRM0vTkJvHOA2sMpRCVE6AOLgm7CJ4EJgePDR8RtRcvHi4fGCMJI4Qf5R3NFZELOf/d7tLghNBCxF7GB8VNz2zfiuqy+bkDtQmODRgLwQcQCWQGSQnKEPAUUh26IT0jfyYlJJgi4x+YF00ObQKt83Dm89WbyrHItcWBz97apeRO8bv5Kv+cBE4EGwXIB+cIqA6HFQYbHyMLJrYmpycJJZgifh7PFxoQfQVZ+XXsON4D0W3KRshdyYXSH97o5dHwT/VH+xwAewBzBrAKZhCMGHYe1CUAKaUp9ipUKKok2h+zGJIQ3gYl+hzuwuDq1UbMjMjhyEXNHdUH3TrluOzd8jL55P1BAhQJiA/DFmkeOCWnKTIrDSsaKxYpZCWoIG8Z0w92BcP5de3r4MbUucq5xrvFf8s201TaA+TO68nzSPuBAGkHAg6YFPMclSMrKrUtWC8IMOAtqytAJpAfLxgSDpQC9PWN6JjcAdCbxjvEk8QKy5TTNtyi5kfuU/Yh/bABuggwDwQX/R27JHkr/y25LzMw3y2rKycmNB5HFqsLg/+u8tTkLNl0zU7EB8M7xO7KZNPP2wbne+5e9vX80wEmCVoQuRcEIM4lgyxWLzMw5TBnLigrSSZmHvcVxgvY//ny6+RG2UnOUMR7wwPDOMp+0yjb1OZM7832Vv5bAfcIzA/7F1cfOyWxLbcvmjDNMPkt1iuAJTMeORfpCtv/S/J849jX5MuqwvXBr8JbynnTT9yE5+nu7vVM/asAhwdhDmAWqx8YJlQuaDJeMmAz1i/ZLGMndR8nGGENpwFf9JTm4dnAzoXEHsFhwwTHV9L62y3lX++o9Db8dAAzBfAMyhM6HUQlZysUMuAyYzMyMTUtNCnGIJMZUhBsBDj4g+qM3cfQjcadvvHC/8SgzjTabeOP7Sr0QPoWAUcC5gp+EboZlCNBKMAx2DOWMvw0nC4hK78ktxuWFH8JMvzv72PicNT5ySLASb2JxBzIh9V24B/pX/MN+Pj9FgJiBfUO/xRrHlon4yv2M001xDKJM8gs3Sd/If0XwQ9xA+X3tOiI3EPQS8Qpu7y/dsQZzlba/OVr8FT3nvrCAZACCAhpDysXCiDsKCgwYzS4NV4zpzDGK7UjRxv+E3YJ/f2R8bnj2NdXzBzBxbjUw/vG8dL44UjrU/ea+0f9JgPQAqsG9A/TFH8ggClEM/k22jewNhAviyoeIgoY3hO+CKb98fCM4FTWAcnSvm625cSDynHU+OSy7/74jfxH/E4BCgJBBYkPFhe8IngqbjXPNxU2BzTyLk0nOB09FygRFQZS/BXvZuCD1U7IAL8YtPPFA8sw1jfn0/Eu+1v94PuBAYkB8AOaDeUWxyGPK6EzwTcjN60yci0OJXQdkBiHD0sIDf5j8BHipNbsyJy/i7RzxNLOZdcA52T0rPw7/fv69/5kAZ0CIQwDFnggey1BMTQ5IDjJL2Ut3iOiHIQWyRBpCtn/rPV85I7Xv8tQvhC0mr/GztDVDecF9XP9sQDh+rr9jQG+/9sG8RO0HOYnkTHKOes1wDOlLFklrR9IFXsRNgxeArn5pOnY2pPQW8IGuL22ctCo1pfklfOO/RICI/21+ncAw/8FBIQMWR1EI7MsHjZGN0o1aCvhJGYhJBdyE3oP7wlcAVTzxeQi1o/Hg76dsXO/idX125PuRPrvAo4D//ji+UD9lv1uA2MNpx4hJm8wyDlHN14yASq5IrcdIBX0EN0OAgkF/zzwceJo0WXFLbtAsEjHFNkd42by4PxCBeABlfft+fT83f4PBHkOWiEvKq8wvzkONdwxXyZiHYwcPBPHEJkO9Qh2AEfxH+FY0WnFWLmuryLL9tr75mr3ev/VB/sB5vbY+Fj6Vv3eAT8PJB2dLH0xNzVROHwsxSQCHt4ZwxRxEgkPGg0fA8/yt+V00e3ExLmprXLFp9kM6Gb4EgDyCIoBK/Ym9jf3hPv8/zUKCxzEJLEvoDNSNQYvuyPJH2cXcRPyEjsQ3xBeCKj8A++X2AvJi76ssGC2x9fW5Sv5WAFEC9QKI/zm9JL0W/al+Tf/QBEkHg8mEjRtMC8yfiX2HDYbYhEvE9oTKRH6EfIF+fxp6VnSScTEtjus88Rf4XDvXQDoCJ4OYQVy9XTx+/Hz8qf2dgGuFGgg4CYoL0oyriq6IDEafxbJEmkQvhQrFi8SBgur/rLtMtgSwL216qhyybPkRPK2BaEOixKmBiLx0fBe7wvvafPz/m0TlB9cJt8trTLAJ2IesRhlEQ0QTw6YEm4XfxR+D8gDIvGa3aTDrrblqTG8ZOQT8qUGxBAEFk8O5/bL7HTvi+ro70/5Pw6OH/wlxSwjLXEpgh6fFJoPiAwNDX0QJhWDGiEUug3d/jfrLtZIvlSwUqYX1NTvcvu4Dl0YpxmuBlrt4+2m6nPnBe69/qQYGCKlJoQvQyo9IXsUCQviDIMHdgokFW0XAxphFA0OAwDX6sPV6r6rslujds9a9zH/KhPwHpMgSQvG6hrpheiF4nfovPrCGNUl3CgxMpEt7x1aCEwCnQYOA4sFxBTmHKIgwhhYEEMHgvYC4RfO27ebr+Gj7OLQB9kGDBwEKDUh5AR84nrmPuVo3nnqtAQ5IyIppCiiNDsofQ8J/2P0bfXz+EkCzBmAJogkNiXYGjEMVvhf53XhftELwFq+fbb/4o0aIAbpHVMi9Br9A+jivOMU7iHis/GmBX4htiqMIRspcyJWB+75ZfGN8lzz7fPACp8VHSAFJLEbShWWCkL8WvdL8Wzu1exo6wHrJ9381YPJwv2LBRD2twvVE1sToAIx7U4B9PqN63/3jgYoEaQPShAWH3oWyQSK//v8JvmX8WPysAA5Bh4H5g71EpoQBhLCC/UEagIr+rb8Pf/H/7MGUwmuC3gKoAOF+w3wzOHz2j/OstVX+fr1tQcOFoUYRBL3Acf4M/gd6gzqLfMoAa4MdBGtG7Mhahc5D1oH/vyG9DfvNfQT/CX/3wbfD3ERWQ1RBuUAIvwuBgH3Pf9pAx0FCAjABqkI6Ajn/Kf98PeK8/XsI+Zv5/fmTfGq/54BrQkqD4wOeQiV/WP6UPj28gT1vPtCBCwJNg4BFPMSmgvjBfMAZPvM9qP2GPmn/Jf/cwScCKEH9wUpBFwBHv04+Qf54vvQ/Oz+iwL9BYcGagUhBQAEqwBh/pb8pfyX/N/81f71AIcCLgMeA2IFdwEHCAINqgCXCrsEigAYAMD7Lv4Q/hH6o/57+O/zHvBK7Kn4XvVd95kCkgR6BcEFugSeBkb+5ftH/WD7UvuB/ssCgAfLBm8JuQvyBzQE5gHb/pn77fjo+uX91/6OAe8EbgasBfADFQKq/5z8R/sy++v6ivzG/ngBpgMzBKgEKgQoAp8Bjf+I/TT9s/0//hz/7P+2CuUMyQc3DbkMCgtTBtUAawGW9+vvDO4Z5JDqg/Lh8s39BAb4CbAN6ApzCosEb/wT+i72GPQj96P6KAHxBt0K7A4mD/gLUAnSAz/+tflr9mj26vap+IP9fQEuBW0HUggDCOgFPwKN/oP7Oflm9z/4TPqL/DQAZAPEBiQILQdzBukDMwHJ/vX7Ovsj+3f7L/79/gYB+QJ5A+kDIAPTAVoB4/8K/+j9R/2c/fL8cP1F/k7+qv/VAD0BGgKCAvYBtQHHACgA5P4s/h/+2f3W/f7+aACNAXoC8wJzA4QCWAELAP/+5f2f/ZD9U/4f/2oAbAEKAokCNAKtAakA7//X/sb9x/0o/lz+aP4U/9T/AAB+AJ8AzAD/AK8AewB7ABIAcP+G/67/of+k/xsAxAC6AFsA3gACAbUAowDbAOYAvQAiACYAtP+b/if+Rf7y/Tn+av5L//L/FAB7ANkAowBlAB4Aof+G/1X/Rf9p/3//AABYALQAGwFCAewAUQD8/5z/wP6T/uT+RP/D//3/4P/q/1H/1v7W/kn+Jf6U/ur+FAC/AL0BdgJ9As4B1QDu//n+BP7Z/fP9g/4y/0cALAEMAiMCAQJMAVkAZ/93/gP+if7h/o7/PQDNAB4BNQERAaIAs////p/+Wv6v/kX/zP+bAL4AowCLADYAvf9g/5r/4P8DAKAAIgESAQwByABMAL7/V/8Z/x//Zf/f/1MA0QD9AAUB/ABkAOH/a//H/m/+rf4F/33/AACjAPIAAAHwANYAcgARAOv/vv+0/+X/HQBpAH4AggCdAGMABADD/37/Zf86/0P/dv+4/+L/NgBWAHMAVABWAFMAJwABABcA6v/I/83/of+b/8b/0v8PACMAWgB4ADkAMAD6/7L/wf+S/6//3v/c//b/AADR/6n/ev9l/37/gv/I/wwAAAAbACUAKAAoACIAHAAyAOX/5v/j/7r/wP/a/9j/HQAWADAAJADS/6f/f/9V/1T/Vf9t/6L/sP/c/8v/uv+E/27/QP8m/xT/UP93/zgA9P8nAuwBHwGtBEMCFARoBKcEGQSfBPIDlwFJAnr/UP4q/TT8wPpa+h36zfiK+UP5svlO+lL7Pfx7/Xz/VQCdAkUEPQUaB+8HWgiCCFQIBgdyBjgFvANgAh0BtP8w/jH94Pus+jr5F/h59h/25vRJ9dH1uPZ5+I/65Pz4/n0BagMpBdoGAggLCVcKQgu4C8sMuAyBDCYMAgt2CY0HPwXJAsH/GPxx+LTycPTY6jztwOqf6Z3qMe5377nx6PhN+Bj+rAHZA1UGcApPC2UMsw9uDjcPKA/ZDsYLYAynCWYGrQVdAiT/+P07/PX5Qfpw+q346PrE+qX66PtL/Q39EP8+AKQAwQITBEkErQVLBncFBwZVBREEvQPBAqIBugA7AJD+3v2i/Pf6PfkM+A72V/NI9D/xaPEs8vXxRPPu9ef3BPqP/mkAmgPZBpgJxwoSDvAOsA/BERASNBL8EocSIxEgEf4O1wwTC+AHNgQaAZv8sfcC9JHteO1+5UPmcuPG4/Xj9+fj6bjtEvRj9mP8DgHmBGQI5wwgDzIRBBSTFDMVfxWKFQIUXBPSEfsP1g01DKAJXQddBRIDpgAl/m37RfhG9e3xIO7I6zHn5OcA5UfmrOa46pLrzvHm9dv5cwCEBEoImQzeDyARdxT0FVsVnBezFzoWpxbUFWIStRHJDg4LGglsBY0Bjv5z+lz1+fH+7HHoO+UO5K7eAOJ+4DbjSeYC68juu/Rm+vD+OgXtCU8NPRHPFMkVthg9GVgZ/hkhGQkYLhcDFeESRRGFDTsLPwg5BVwBav6V+Q719++86g/klOLT3S7bxt0k3IjgBeTx6crtAfd3+/IBMAmMDH4RVRUbGHoZSB3SG2sdthyTGyYanRiFFZMSThB+CxEJawXxAI79z/iV82nuFOlE4S7fLtm51tTX0Nak2h/euuVQ6pT0g/v0AWkKCxChFCoZWhymHOEfQx/7HlAfsB0pG/YZ0Rb9ErkQEQycCKQFhQGm/d/5LfUh8BjrbOVf3tTdqNRy1wjUmteb2SLhDuZI7r/34/0dB2kNJBMzGDIcfh5iH2siQB8LIfwfQxwsHIcY3RRdErUO9wmDByAD9f49++T1B/GN627mud7A27/YzdEh1/zSVNlF3NTk6ulA9Bj98AO1DVkTjhjBHEcgISFYIs4j+SAbIu8fYRzaG6YWAxR6D2QNOAdMBWEAzPvB+FPycu2956XieNrR2bbUvdAg1ajSUdnY3nLm9u21+NIBKAh3EoAWVhy9H60ioSNhJBkj2iKhIDweuxuTGLMUwRH3DdIJ/AUMAy79SvqJ9H7v/Ol0407f1da72ADPwtJ60qzUDdst4rvp2/NF/aAF4A0/Fu0ZbCCJIgAlNyUmJtkkViKsIiYdDRugGDAS7g/jC0IH8wI7AC76bfWJ8ezpJ+Sj32jXTdT20TTNxdHt0U/X995H5zDvP/sKBE4MfRVvG70f1yMIJk0l1ia4JqIgsSSTG7Ia0RnHEEAR8wzLB14FJQKy+2/4ufJO7FzljuF612vUitIzyxHRh9C01DPdReVi7an5bQM4DOYU1RwGINokoidtJiMnwSV1JIkfdCCNGuoWCxYREBsMywtTBLQBV/6v9xHy8e2w5JDfWNcH1dbNTMz9z7XNntUd36LjNfEy/IgEWA+nGHgdiCMGJ0UosCfPKFglaiJCIIMdTRc4F7sSnA1xDA8J5gKCAsz8J/ZJ8XzroeL62+/TWNTIyQvOxtD5zjfZ3eN+55n3zwGYCewULx3IIPslbChxKJYmOCZMI4MexxxjGaMT1BJRD6sLCws/CIAEcAIs/cj4C/Gd6pbiotai1jvQVciy0KjOWtGz34Xlq+11/sEFBA99Gqcf9CMMKPQnKidOJUgiBx/LGbgYrRMfD4MQFQuMCCIKpgR3AhQBifkU9NfsFOVl2t/V9NT9yI/ObNJ00HrcYOg/7Cj8UAinDvYYYSH4IgwnDiiGJscjeiDrHecXARQ5ExANbAxNDA8IVAiHB2IDpQFi/XD25u3Z6NXbMNV31yTJRcwL1MXQd9oV6vzsz/vQCU0QOBlWIs4jLScSJ7gl8SJFHc4aWxeDD3oQQAwaCJUKQAiWBuMHmAQEAv/9UPhW76Hpbtum1wvYZcn8zl3V49AK3eTr5+2Q/eMKlRCgGWIiHiPKJjwlIiRvIeEaERkdFUsNcw9lClsHKwo3B2gGNAhCBLEC3v449jvuX+ls10nbi9TayVPTQtfK0svlwO5D868ENg98E+keEiP1I3kmkSPPIZ8duhbvFUgPNAtKC6oGega9Bx4GVgcIBqUDoQE1+x7yte3h30XYmd0gzkjPqtr/1r7cgfBD8sb9Ag1aE0cZgCItIsAkECJEIB0dzhZZE8QQLgnrCTIGAgWzBiMGDwbQB2gEcgJK/uHzy+6k5c7XqN+y0kzPlNoo2wjb9O9c8978OAs3E7QXYCGqHzgjSCH5HEwbChZ0D8EPsgjqB58GWwW4BkQHMwePCNcEewIe/qnzS+1j5LbWsd7L0k3Pftvg3aHde/IL+IkAFQ8JFtIa4iKlIBkkOCLaG0Aa3BWPDrsMyghFBuAE5gSABdMFQgbIBloEyAAB/PPx6uuA4E3ZRd5o0pnUw94b34Hk3/V5+lMGjhDoF+AdxSHcH70jrx62GQQYexMeDLgKeAg+BbcEFQcyBuUHaQgmBi8DZf5s9cjs/eU91rLasNbkzZDXJ+HW39vvgvz8Ay8QFhg9HiEkXSLpIk4j5xzzFjkWxQ4dCeQIGAY5BOcEcgW8BcIFJgRIAhX84vRz7Gbl3NWj1yjXUs4K1UThoOGO7vb88gTiEKYYZh5QJXckVCKlJCgelRcRFloO2wqcCGsEwAWqBGcDhQfVBAAD5wFW+7Ty7up548jU/NWm1O3N+tX23xLjr/Dk/UsHwRMTGwghTiguJm4lVyZVHmoZrBV2DswL0AZ4BM0FbgKPA0kF+gEsAXr9Gvco7snnUt/t0ZbWKNHZzi7Xvt/k5BH14f3gClcWHB00JP4pbyi/KAonmyERG/kWchCMC9QHDAVZA7MCmgEBAZb/z/vQ91zxu+hz42DYitJ01rbQrNIu3NXhS+tV+JUBQg9rF14eNCj3KfMmeSwYJycfex7GFt0PKQ1IBvIEBAKT/sL/ify7+Lb5He0F7S/pu9wb2wjVGNZ41U7Yw+A36B/vNvtgBA0P1hZjHi8lPCfrKBEnOiQ7IGwZyhWQEG0LnQgbBfYCXAFF/mz9IvuF9hDzUe/36j/kA+G63STZn9sh2/PdpeWp6szy7PzxA6oNmhX0GmQgNyORJPck8CEaH60a+BU5ESUMzwcZBHsAk/4r+6D5uPcr9Cnz4u7O7BjqR+dg49ThKeH949bjF+k070H0X/o5AscIPxCOFPsZJR7bH5EeER+iHN8YdxTbELMMDgg3BHYCDv+H/HT7jfkJ+I/1lfR28oDwde147QXrgOkM6c7qg+rU7W7wGPbW+XP9mAPyB4sLchDGEkYWMBc9Fj0X7RRREgYQcwwoCu4HUQMdAur/T/29+8X6NflQ+O/39vUa9TrzHfMQ8rPyXfF28X7zM/Qa9NP2mvpq+w/9RwI3BD8GlwiRCoYMrQwtDB8PiwybC6YKEQknCE0FVAW9BPgBOwK6/xsBRf76/GH8/PvR90j6G/nN98j2hfcF+Of2tfbB+Uv6hfiZ+178z/wZ/rb+xf+bAS0BagLzBM0EMQQcBukH6QZIBPoHXgdRBBIEYwYUBI4CS//KBPj+h/7p/ZP+Tfxd+0r7e/7X+Sj6l/nc+9X5OPgv/Vb8svlk/HD9Dv4//lv9OwBnAPIAzwAMAugCBQU0Ao0ENQWIBfoEmAP8BDsECgKJA70DAAAPAu7+ff/I/Vj8yP4v+zD7E/vY+qf87Pkk/HP+y/o//iz9P/5u/eb9pv4SAZz+lQGu/7EEWAEqASQESAONAkMAxwTKAfMCY/+bA7ACkgBG/EkDbwBv+qD/5wBQ/mj70f+M/8T9rP1+/wcBsfsK/6IB+gCJ/i4DxQFDAmn+kwSgAu//iwMtAXoBOgKi/3gA1wHV/w0AsQAwAGH/vv/s/zX/Yf+9AKX+Hv/oAUT+h//lAOP80/+X/0H/cgF1AAkChwBn/7kDWABeAaP/vQCxAND8GAPHADD9AwL6ABQAggBNAOYCIf8jAUcB2/+n/qL/9ABx/0f/egFx/9gBIP6nAgABPQAUAW7/CAH0ALT9FAKuAakAHf8HAksDav07AM//1v5V/REAcADe/07/bv4YAT4AEv1G/7YAj/3S/UoBRf+k//j+vf9o/sT+yf30AI0BAgJ5AJT9ZwGN/lP8SAA+AS/+pAKp/1YBo/5x/20AL/+O/roA6ADnAln8QgKm/yn/IwEc//T/h/8j/akC7/5d/aoAaf+mAMr/QP+cA9EA5f7v/ekBuvwrAKT/jQKXALL/EgFfAS/+4v/9AFkA9v5S/34BWAAuAEcAHwHZAX4ApwEK/9wCMf/4/j8D4P93/j8CYQEN/nkBHf/mAYj+ZQBP/z8Ad/57AEoAFQErACEBKgH//Z3/QwF6//3/MQCDANUASP9bAdsB3f+A/qsD4fx/APP+TwGI/ooArQB2AJ0AIgBjAOcBfP8iAMkAY/+1/3MAgv/IAXb+KwLH/igCNP8NAaoAKP8WAAUBff+3Ap//of64A+38/P/vAP/+WAHk/iYAuf/i/jMAi/8bAOz//f5AAO3/+P/LAJkAH/8kAdf/EQGo/vIAvv92Aej/KwHAAfn+If95ANwAkP/YAPkAEQASAkL9uAFNAQ8AwP5lA4z+GwGuAJEAZgFY/wD/MgJe/08ARv9uAVIA2f9HACkCVwArAE4BxQAYAMQBfADU/1AAtgAj/xEDaP7vAOgAPgLd/toBfP7HADL/8ADn/+sAJQCf/1cC0/9f/w4CKAAFADEC5v8GAYYBVf/mAHQBAgBGACIBPgDy/0wBvgD+AX0ANwGu/+oA0/5SAM3/cwC9/s3/qwHn/qkAGACE/4r/3QGw/vgA7wDA/X0Axf8WAFwA+P8EAMgAcP8XATsALP9NAH8AzP+0/5wB/P2gAaX/eAC8ACoAPv8VAUn+twHV/ykA8v7DAe4AT/6XAXP/jQAcAev/JwDyAHX/1ACS//oAGf/HAFEBNf/m/gABsf7TAcr+xf+wAbT/Cv6cAnz/vf7aAGgAHP9aAGEAHv9fAYX+xACqAVQAIf5OAzwAlP6CAiP/mgD1AAr+KQDCAhr+7//qAQD/9gCzAD//iQDDAA3+ogI7/yH+HgEp/1r/YgAy/wEAMwGs/SYCvACn/1AAtABr/80ACwBP/10C5/4/ADEBCf/j/74AzgD//xQAmwDeAGr/Ev+hAHH+///3/ucA/f9MAEL/uwGT/qgAKP6TAJ/+zgCl/i0AYQAy/h8Bff/x//X/RAAo/6QAh/5VAFL/4v+C//MAp/2UAeX/4f+F/9IAnf0wAhT/OACL/9T/8v67AP7+vQDX/wMBvv9yAO/+vQCi/ncAjv9tAIz+LQHv/nYAQP+B/77/HgFA/t8AHgAC/68A4QC9/nsBIQAw/0AC+/5KAI4A+/+o/9YAXQCs/2oA3f+wAMj/8f/Z/wQB1gBCACsAQwAYAPL/YAANAH7/nQAUAG4AUABBAAYABQA2AAAAQgARAGEAxf9TAKf/+P/W/+P/IwA7AMv/dQC//z0A4P/x/+3/ZABx/yQA9/+U/3QAmv+4/wQBYP/C//oA2f5rAOUAk/4jAJIA0/44Aar/PP8eAdn/r/+MAMT/mf+/AEb/DgDr/4f/IQC//1D/JQALAGv/6//N/y8AxP/g/9j/9f+z/4EAi/8ZAAsAXgCE/1IA2P8PACgAcP8nAMP/6P9r//n/mv8wAFj/HAA4AHn/JwDK/2f/mwCp/8n/9//4/6n/jwBh////SgDn/3v/TACLAJ0AVgDf/3sADwAVABYAKgBxAAIArwAIAJ7/pQB7/+r/YgBhAHv/WgCm/0AAMwBDAKf/BwHC/7X/HACcALv/aACO/9//ZQC8/30APgA2ADcA6/9SAAoAWv/7/0sA6P8WAOcAyv+BAG3/bQAXAPwAhf+tAGwAGQC+/3oAmP+OAP3/4f+LAIwAtf+nAJL/cQA//0EAzf/NAJ3/igBw/8T/If8tACYA7/4GACL/MP+U/zsAGwD9/uf/9v9L/7D/ngBj/zoAy/+N/+7/Uv+3/0oAMP+s/3wAov+2/9L/sv+4/6T/IACJ/3YAI/+SAB//nv85/+T/w/7ZAA7/sP+2AAwARP/r/y4A0v9nAXT/pQBSAHj/ZwBZAJsAf//bAPP/kADX/qkAvf/1/4YA9v+2ABz/EQBj/xgBwv5jALf/cACG/1EA+v6DAAX/dQBT/8//6AC3/wMAeQAFAPv/mgA2/zcAdABt/g8A7P9mAPL/IwBE/6QAa//z/xkAJABj/xcAaP/c/3T/8P/0/5r/k/9WAH3/vP8lAPj/IADL/+3+1/8IABP/IwDN/kYAEwBy/zcAIQD+/2gAJf/P/1kAKv90/9v/J/+AAFT/gP/S/uH/4v7F/+X/gQAu/w4A4//F/3QA3f8b/2MAev9q/xwAKgA5/+z//P8SAKb/zP+5/o0Avv+i/7v+dwA2/7f/7P+7/uj/TQDN/ikAqv8lAHn/aQDC/4b/4f/p/+X/dABE/yb/7AAPANX+kABG/3L/igB2/4n/b/+O/6L/yQCW//v/kQARAbr/kADIAF//gQDL//3+WQBY/4P/d//K/+7/dwHj/6QBjv/VAFoAyf+N/y0Cl/8QAff/uAD+/xL/1wCkAM3/mQF6AGz+jwJQ/okAif8vAKH+/QAm/1kBI/+Y/3MAf/2kAHz/Pf68ASoAUf05AT3+QP4BAlT+vP8WAdv9+gBCAYv/CADM/mcAggFbAJoAbf/7//X/3v7l/2ABWv8xAGIB4P7W/2j/kP/SAAYBcQDv/5T/Lv+vAEQACwHC/un+Gv9B/ykASQE1/3H/MAH7/7X+wQDz/gUAqf7n/+7/BAFVAbD/GQL2BW0ErAP5AzwAQgAF/rz7nv3Y/bD8BAHn//YAIgBBAgEBogO/AWABgACgADz/VAAYALz+5P/U/0T/vv/6/+UAhQDNAYYA8gDx/yQBLwFSAHcAjwB2ARcA0wHX//kCyf/TAZQAYgIeAXsCzgAVAvcClwEaAE8BGwGkAEwAEAGT/0MAswAhAf4AZwEDAtsARQElAE4BEwGWAPf/FAI+AI8Bk/9LAuH/SwCa/9MBwv/8AJf/5gGfAK0AUAGsAQkBwQC/AJUBQwGAABEC/AETAyMALQFaALYA0f2kACT/GQDj/jcA4f6x/9j/nf9sARMAdwDx/1IBp/7dAMT/OwDh/3IB8f93AYEAeQF6AUYBaQBLAS8BsAAoAdwB7gGuAYACigIpAk8BYQFtAI8Cs/+J/SYBAwP//JH3xPmx/ob/QfwC/L//S/9d/CT9AP9K/cf7f/sW/pv9ov44AL0BFQJsBWgIKQrcCXoLxwtJCg0Jlwh7B0EGkwRlAi0AnP2x+d72MPSf8cTt0+qQ6TromeZC58rpW+539fL7oQQrDM0SfBffGXQaQxqIF5UUNhGHDgoM1wlLCacJUwmeCYsKFgobCJYEfP/0+LjxNutX4/Hcu9gr1abSb9Sy4XrpifMuA6wNBBZ5HJkc0B3/GOsQ2wtZA2D8D/nX9WX26flY/HICLwcfEPMeEhl7IWMm3BsnGboRCAp+Bfj5PflO9TPscezb5h/jHuCb2+DaFdbI0dvkjeoC7jwAogrhEdMXeRfvHNMYiA7HDPMFHv32+d/2Ifn2+m37HAPwCC0Mew+rGAYfBh0ZHgQa7xecDjQG+AQr/y34xPd38hbv5ulN5MLhdNti1qfV1s6n3pfq9Oxq/x4N8BMLHHcbBh1vG3oOFwpKBEv6Q/Y69ND1mPlS/PMDcgyGDWwTuBaEG0gdQhdUGRQT0QwQCTMDrwFr/zj8rP6a+Fr0r/H36Yrka9xD1ejUF8zD0VLo1ejw97oJMBNAHbse+Rx4IYgT9AmhBej6WPUe8gbyv/mM+24BwQy2EOEU5hjFG2MdzBbzFe8SuArMBaUERwK8ABkAxwEK/0P5V/Wa8GnnTt6a13rSnMxbyBTe4unw7rQDIhO4HLYgXh1xIc8axAlbBGP9KPRJ8BbwXPdl/en/GQtcFEcVLxizF9IZQRl8DlsRSg7oBTEGewQ0BvUFewIdB8gBQfnW9WTsvuPZ2snQ8c4OzMzE6d0x7O7xwghRFUcgayQWHIAeTxiQBaz/aPiU8ufw/+8Q+S8DVAV/Dg4XlRhgF34U9xMXFEkJmgyCD4YFWAm3CsMJHAseCKUIUwYq+p72lO7/4pPbLtOdzR7M3cePzvnq/+6n/Q4RcRtGIgEfthn0GwQM7v67+7j1wPI48vT3BwPNBxMMRhYjGR4XdhWlEmcUHQ72CG8PKQoXCGMKqAuUDOQIsgcuCdj+mfaN8ZXoCt+s1f7QQc5jzMzJDtWT8fDxdgJUEqkbmx8FGZsUKxf9BUP8VPsF+BP3K/jk/iUKYQwvDy8XphfoE/YOpQ0DEJgHqQpMEC8MuQ1uDjAQeBCZCRwK2gcN/Q32me6q5zfegdTk0cjOQMymzKnQ/+2V8tD7lw82GMUbnxhSEsAVyQmJ/Dr+Q/tl+jH80wHjCgoPUQ+eFrMWYxL1D6UMlgqXDLcJZw3MDjQN5A/AED0OqgyeCUYGFAA092Xxs+oL4WvaPNX10J7O/84Xzp3fl/Kc824F2g82Fz4ZbBIqEvURfAMLAcX/c/6B/0YBrQdtD60PYhI8FVwTRRGqC4YNKBHbB5AQHQ+MDcIP1QsND1YM4gVQCNIBKvuO9VrueekQ35nXmtT1z1vNuMzGz8np3O9Q9+kIJBK9FzwVOhACFE8NNQL0AosCJQM9BDEHtQ9NE24SBha/FWkSRQ+PCwUNQg0lCF0OUg2pDNsNTgsFDqYKYAV2BcP/uvdD8sHqO+UD3HzVXtNg0IjOr83x2HHtCO+n/KUISBGRFbAR/A+iE3wJ4QQqB3IH0QkYC6cPGhZWFZMUFRVTEtENTQiICWYK5waWCqALTw0XDFoKnA0cC5UGCAXiAML7J/QT7grqIeHF2qvWtdQu0+rQQNI45Y3ufvMNAGsHxg+qDSoK8A/wDVsIlwk2CzEQJxCMEdkX+hdJFaEURRJQD14J9gVRB50I1gVIDFsLMw5eDaQKbA1wCWcEHgNn/ff4tfHZ6zjpMeEk3AbZeNdR1rfTgtnI6ULtPfWF/I8FdwwnCLMJKBB+DfEL1AwmEZAUyhJqFYYZVBhyFKMSSRFVDZMI1wU2B/kHWQUVCs4K3gwoCv4IfQurBooCHAHy/JH4pfH37A/qWOKU3VTc2NhN2HDVv9ly50jr7PEJ+dwBzwiLBnYJzw6HDqcNkg3XEpMVdBNVFnMY9xfFFTESUxFEDukJggcqByQJnAfbB3sJpgmPCa0FJQepBa0ADP8X/OT34fLl7LDpEuUF4GTd19zq26LaP9wG5qvtCPE+9sIAcwZqBlwIDA73D/EOLA9TEz8VuhOUFN4XhBdGFoUULRSMEl8OvgqNCq0JywY4BvkGhQbUBEcEVQXtA8AB0ACH/2/8//d89KbwPezx51zkFuIS4NreZN3e4Fnnq+st72z01PyJAcsCuAcVDMAO0A+KEDoTPRVhFJ0UqxXYFaUVERSIE0YTkRA0Ds4N2A1mCkEIbgg5ByAEygK6Am0BpP59/XH8x/mb9fbxu+616oHm0OJz38rcQ9o72QXeA+LX4nrqCPT/+Ib9OgTGCmMP1BD5EvsW5BdbF7kXuBjhGC4XKRYYFr8UZhFMD54O/As7CfcH4Aa1BEYCcAFqALn+u/2p/Ej7Q/g19QXyre5q6jTmROO434fd/9ql2njhbuQe5tPvzvjd/N4BTAjCDigSzhKZFsIYoRjZGNsYHxl5GN0W9hW0FB8T0RAtDhgNhgsaCecH5AbrBMsCxQEVAVD/2f3a/HL7K/lb9tDzvvA37VTqpObF4+bg+93S3IDgk+SO5f7rCPX6+Yz9ewQkC50OiBA4FIQX0RdgF/QXlRi4F+QWIhY9FZMTEhEMD/cMDAsnCQ4HmAbyBC0DMQK4AG3/MP5R/Xv8efrb94L1//Ku7yfsFemy5WziB+BE3T3ddOE041nlgO1r9IH49v39Ay0KFg5REDEUpBZjF3gYlRhiGOgXAxdVFUMUbRI2EFYOYgxNCmkIAwcvBTsDDALVAGz/cv5t/bP8YvtM+RP3wvQD8rnu1uvc6MHlRuMA4Xze+t5r5D/kweii8Sn3OPtqAfMHpw31D6MSvxZTGC4YQhgdGNsXwhYnFZkUWBNuESwQrw4NDY8LwgkACDQGFwS0AjABTP8j/nb8xPoT+fP2OPRW8YHueesc6CDlheOh4cze1t5M45zmCugc7sn2tfrH/yoF6gp+EH4SchQjF1IYXRi+F+0WdRbbFV8UAxOvERIQeA05Cw4K/gdpBfYDgALZAPj+Zf0d/Pj6d/nF9xj27PM/8e7ubuy76UvnV+Wh4/ThI+A45Ovnrejq7f71JvtR/5AE6wqVDyYSeBOTFVEXLRcaFtEVzxWFFQ0UhhIyErcQ9A03DKoKHwnyBpQE4gJUAY3/qP3S+436GPkH9/D0xfJ98DrueOvu6CfnIuVv4xjiFeEX5I3n2OmT79/2Qvx2AWcGNwx2ESQUNxZHGL0Z5hnPGNgX2xdbFncUORMUEo0QPQ7YDPAKpQh0BgMEFgJwAHf+J/1I+9f5Kfim9arzY/Fp7hTs5+mt56Hlc+Ot4cXhc+OY5pPoc+328zv57P1LAzAJGg5zEeET2RYyGKQYzBhBGLMX2BZxFRgUpRI+ET8P3gyKCm0ILAbiA4QBu//N/ff7W/ri+DT3TfVT807xTu/W7EnqNOgz5h3kNeKf4cLjq+ad6bTt7vOj+Wb+cgM1CYEOOxI5FcQXexnLGfwZhxl9GKEXcRanFCwToxE+D9sMcgp6CG0GBAQFAhMAJ/5t/M76L/lQ91L1QfNB8frupOxC6lrojOZo5Bvjh+OP5WXo3Opd79P15fof/9AEvwoED30SXRWrF48ZpRo6GgsauxluGAEXmRV/E54RUw/BDDwKfwcqBdkClgBU/n784fo1+Zb3v/Xf80DyJvDk7cXreel45+zlZ+SM4lbjZuZS6KjqHPAH9r76cf91BNsJMw5sEToVLBiAGdYZ/hm+Gd8YBhgDF/8UNBNNEZIOKgy9CQoHLAQ+AuH/pv3P+yX6i/jq9jX1u/Pg8brvee1r60HpSufB5fnjL+Mm5Uzn1uhK7WbyIfcI/OoAJAZfC5EP9RIqFqMY/Bl2GmIaGRpJGT0YExeJFW4TUREeD6EMIgq9Bx0F4QLFAKH+oPzv+kX5h/ec9ePzRvJa8GLuQ+wV6jfon+YR5ZLkTeY/6E/qA+5k89z3HfxSAVcGXgupDzsTWBbAGOMZNRpEGuIZyxh4F1AW1BRxEjwQIQ7QCx8JzAZCBB4CjP+S/a/7AvoB+Cr2evTk8hrxcu887d7qrujx5irlweMt5Onlkue56ljvSfTW+KD96ALyB1QMPhCDE24WeBhYGesZwBkmGVAYkxblFBgT4BAVDrIL+AiHBiME0gHC/xH+WPzI+iv5f/fO9VT0ovKl8J7up+wx6jfoeOa95Krkw+U+53zpqe0C8nL2W/tOACQF4AnGDaAR6hRXFwYZnBnLGYYZ8xi1FzgWaxQjEq8PIg1aChEIbgUUAx0B+/4v/bH7OPoQ+YX32/UB9CfyQPDs7ZDrp+lg547lJOXF5Vnn7ulj7QDxqPVa+kD/7QOKCAINHBHeEwMWzBfcGCYZghibF1wWsRS9Er8QgA5PDO4Jmgc1BUkDLAFJ/1j9g/u++Vj4n/bv9ILzjfF+76vteuud6ennweaA517oTul+7EjwjfNv9xv8xgBOBQwJywwuEBITRRVXFtIWIhcGFrwUnhO7ETAPew0rC+oIqAZkBK4CaAHO/5z+dP3++4H6DPll9+T1/fPG8dzvGu7D6+LpCOk26f7pOOo87OzvC/Ns9rX6qP/KA64GRwrADZkQTxKZE38U0RRXFMUTpxJGEcQP1g3aC9YJ3weaBcwDKgJ3AOz+4/3b/Nj7ivp8+TH4xPZq9YTzU/GM72HtjuuM633rBewI7lrwDfMG9p750v1jAbMEFwjsCkcNXg9zEDIR+BEiEpYRpxCPDxsO/wvuCT0IGQYvBCwCVgDr/tD9Cf1a/Ov77vu4++T71vtw+0H7u/rV+S35ffjj9yf3wfbe9g73SPf29yD5EPvL/AH/RgFnA2QFRgcnCb8KhwsCDC0MJwzLC9cKhwnJBwMGwgNmARL/q/wM+mf33vS78hvwUO477oTu1+6z8DPzZPXZ94/6sv2aAJwCuATsBnYI1wm4CmALEAxjDF4M5QwSDRENoAyQC54KXQlGB2gFYANvAYf/h/0R/NT6y/kg+Xz4afhl+Gv4C/mk+T76xvt7/GD9Sv5o/3kAZAFQAmwDKwTPBFIFqAWeBUYFfwQoA0sCLAH6/6D+kf2v/LL7ivuC+7H7AfxM/Bv9/v2f/q//WwBRAQcCPALiAm8D5AMwBK8E4QTyBHcEIwSrA+gCGgJhAZcA5P/y/kv+B/6I/Sb9+Pwk/Ub9Qv15/fT9Lf5L/n3+GP95/6D/DgCYAOcAEQFSAY8BjQFmAWkBVwEcAc0AtgC0AJYAXwBHAEkAAgDB/6n/lf96/2f/b/+V/47/rP+p/8v/+P/q/wgAJQAxAC0ALAAAAOr/of+Q/3f/aP95/8P/0f/5/ygAKgBgAGMAcAB2AI4AnQChAK0A2wDpAMIAuACyAKUAhABiAEgAGQD2/9L/rf+h/4X/cf9j/3H/i/+C/5L/tf/D/+r/0P/m/+f/w//N/8v/tf9WAF3/1AWdB0YEjAXBBNYDdgB4/Kr/0f79/Kn+YP9zAKD/6P16/479Efs6/Lz9+f1M/k3/fAIpAsMA0QFEAoIA4/9Y/4YAhwDc/wEBLQKPAeIADgAbAPj+ZP1p/en90/0r/vP+AQCDADYAhwCWABEAp/9O/7n/OwBIANYAeQGXAWsB+QCTADIAlP9o/3L/cP+9/8v/z/8eAPv/yv+v/27/if9z/17/rP/p/yUAXgBiAKsAbgDt/+7/1/+8/8L/tf8hADAABQBSAGsAVABDADAAPgBBANn/EQBAADoANAAsADMAIQD0/wAA/f8KACkAJwAfAAYABQD8/+3/w/+x/6P/w//f//3/JwBmAHgAdABaAEYADADR/7j/vv/N/+P/8/8iADAAJQANAPn/0f+8/7j/xv/R/+H/AAAKABUADADz//L/3v/O/9z/6f/3/+X/7P/o//T/q/+n/47/pv+V/7z/rf8LAW7+OguAD7IBOQQCAysAdfqM83P5w/uE8XXu0PKCCzsLhP/fA98LcANP9qDwMfzl/6v6Df4WCaUNgAlEAc8BNwTR+472lvubAPMC2wHnApMHhAVO/+L83fz6/UD8l/vS/+cCJQJ0AW8BAgKdAPn8rvzd/ob/Ef8EAFkCtAPKATYAiAALAJj+rf2U/vEAGQF8AFUBKgKDAYD/VP4L//7+Mf6h/psA5AFZAXoAZgBtAKz/jP5Z/nP/NwBCAJgAeQGNAa8Avv9p/8f/3/9q/6f/bgDtAJYAZABdAFYAsP9G/2H/2/8AAAMANwCpAJYAEwDn////+P+5/9P/8P8QAPj/3P/K/+b/6f/+//D/GAA6ACQAGQAFANb/q/+9/7T/8/8xAGoAgwB0AFsA1v+n/yAAqP+A/1cAXgCx/8QAegDh/0IAdv96/+3/av+v/0oAKgBYAGoAWgBNAO3/qv+8/7r/s//n/1IAbgAfAOv/8P/m/6n/jf/M//r/9f8FADMATwBOAAEAAAD6/8f/uf/s/ykANQA8AEgAWgBLACgAIwAzAC8AFgAfAEYAUAAeAAgA+/8CAMP/r//Y/wsAGwADABQAKwAqAAgAAwDq//j/0P/u/wEABADz/wYAEwD6/9//4v/0/9r/u/+y/9b/+f/4/+v/9v8CAAMACQAHAP7/8f/Z/8j/x//M/9z/4f/o//n/7f/o/57/2P+u/83/Zv83AgkGHQXhBVkILAolBY4BSwElAvcBlwHoArUE8wNSANf81flS9hrxZeyK5krf+d3Y6bj+MRM2GAoS/geO/rvyyeqA7VH78Qp1FIMWLRTjDb4C0fbI8f/1rP7mBvMMQRCDDroG4f9q/+EDaweuCAQNGA8sDAsFigDG/0EBXAG2AbIBJ/8h+WjyrOts5bTfn9p03b/kfwPDITwbvgugAXb4Qu5T6BbtWQOqFpYbeBbCEGkJNP7883/2uwLlDuEWMRnJFdIPwwYN/zD/MwPXB/4J7AjjBYcA7/ap7xzrcOcG5ITe7NSW1q3gnQhzJbMUzgb7AZT6g+5G6ILvQwnwGU0aAhV5EqIMagFF+br95QdKEGwVLBeAFIAPXwfWA64H9Q3FDMkGSQREALX2z+sj5x/mwuJe2iPQhM3qxhfc+TYwMSsQFwIq/WLuSOSF3Dr7iyDyKr0dsRSBEacD9u9Q7e75yQguF5sn9CVlH7ESJQMNA+cD9QjDEO4PBg4MCqn7JvFn6uvkNeWp4lHYGtDmzInJqc2CFww06RkGBsD9nvMH6mrhO/HZFfknLiCVFUwTdQgl+ObxOfnBBRAW7SKhKFEjBxOjCOsG5wQxCvAQVRFDEFsHQfob8dvqIuYx6cTmEdf8y6zF+sY1yEQDqTGLILoL2f/G9f3qE+Mn7DkOkSUBJNgZtxcEDcX8dvOJ99MBQQ9xGo4lES47IdgKcwexBjQHDwomDaASIxJcAlb1Z+6d6QHnLObY32PVPMoUyZLJRc+7CwIp3RecCmH/yPLf6vXkNfNqFHQl4B/+G5AWOQe/+tX19vn0Be0P/xRiJfAtKCWFElgJFAYTB4IH5wrsECYRVAgQ/N3w3Onb5i/lXeDt2NzNu8YkzwTJlOD3G7kgohEDCC/+MO/C6bnoAAEoHFAiSByeHFQR2QFm+Fr21P+SDYIR+xUxIa8nYSRNF8YIwwdxCbwGJQnrDwgQtwgi/IHvOerK6EniSN711a/KGcm8y9fG0/LKG88WJhATCIz4K+5I6L3rlgjbHvYezh3YGy8OgAIj+nf6xQOPCiEPsxVHFbgibjC3GTwMDg2sCT8ExwXKCtISvQ2Q+1Lyze866Hbggd781ujMj8i9yg7HeN6NETQXpQ1vC9z/6/Jg7Jfq8AC3GKQaXRoPHjEWFAhU//361AG4B6gJMxHjFuEa0DF0JHsNeg8FDc4EIAXwBrsNyQ9e///yQfMe6urhk+Mx3e7R7cy5ygXJVs2m8/QPRA4BDREITv889n7sC/N2Cc0UaxdqHa4byhI9CcIANAARBbcGYQwEF3Ac+iZZKt0WLRAdEF8IMwTfBhUMWg0sBAL3L/J577vmAeQ94bnYTNP/zHLJbMsD2G38gAv1CTMN5Aiw/hf2NfEV/FILwBBEFsMdlhmNEWULEQc6CBgK3AxWFFMbiiK8HNkU/hLJDXQKBAuVCNoJagZU+vfzOfEn6unpuOjS4mLdr9aC0hLQg8x+0mHvUgEoBWEKugvmBGX+0vbr+qoG4gqUEGUaORzTF5sTqxGJESwQzQ7fEw8anBcjFUIVkRKoDgQNnAz0CiwE/vpL9ubxMexG6jvqrejY4jzgC90H2JnWn9TZ1y7rf/Y2/d0GYQqMCdoIYAHpATUILQraD34YFRsFHogdAhuPGdMVzBGfEtkRJhFrEvsRKxC4C98GnQR0/hf4PvaB81Xwc+7k7L3mA+bi5lrg9+Ch4xThIeUm7M/vtPaB+9X+YgYjCX8JNw3/ELgQcBBmEa0TQRWdE0MTihV4FBIRghG2EM4MJArTBxIGdwTw/+v96v19+rf2E/WW88zy7O5E7mfvKu0z7EXrXOuE8MjwivAb9XD3Evpy/mABlgTfBXMGpAifCeQIEArhCzENGQ1oDCIMfwsZCfMGpwaXBvgEcgS5BAgFCwXFBBoF2wO4A34DeAKhAa8AWQFAAU4Ad/5b/ub+5/0P/iT/Kv/z/gD+KP6S/oP80vtF/Xn98P26/nb/8v/FAaMCBQMoA88B/wGjAuoBXAKVAy4EngQuBD0EnASYBDoEewOkAzkD6AJ0AgwCWgLFASYBfQD+/1AA1v+m/7n/h/6C/dn9efxK/FT8Ofw5/Nb8Uvs3+8n79/ut+2b9kv4I/y3+6/0V/tr9Rf02AD8AHAABAZEBhQLvAN7/TwCF/5r/TP/4/+cAzv7R//7/G/+L/jb+lP7y/Wj9GPyM+nX86Ps++0b97vwW+nr6Pfod+iz6ivkn/F79Gvy5/nv9iv2H/j3+NQChAVQAAQFGAVEAqP/y/goACQK+AZwAuAGpAY0Am/+Y/vb/1ACa/zwAQAHl/zkBzgKXADv+S/96//X/0f6V/Lf9J/6z/nv/lwC1AE0AHwC3/8H+Hf9GARoBygLBAT8CFASvAfgB/QJeAcsCXwDZAr4C5gGaAycBLwH2AjACawF9AOwBOQNmAAIBKwLs/s4ASgBGAP4C0/+v/279ef3J/2H+KwGiANn/BQOK/Zr+HgHK/CwBdAKD/m8C9gBx/jwDQQH3AG0CXwBlANcA3AEMAo4ByQLSAEICrAMmAI8B/ADk/64CxwCiAGcB4f67AJ0Az/5DAFICKwDx/sX+Hv7g/q7+6f00ANYAPwF2AVz/PP7p/Tj/N/9T/yYB1AIeAWP/XwB6//H9/P1q/+0ABgLAAdAAWACX/Rf9QAC2/eb8CQLUAuEBbwE8AJ8B4wD4/ZT9Yf9u/jf+lP/1/4z/fwJVAjwBOABg/0AA7vwT/hUAVwBEA7MCtgJhBbIBpf1j/pH88P54Ag4CSwWqBDkCgQLoAMr+uf3aAGUFrP4r/7ADYP93/WH/M//3ALT+gf4+AbEAqf7m/WUCJAEz//cB6QK//ygA/ABc/pD+T/+sAPcEHAJUAekDKwB7/3L92/7WAwUB0AAJBBn+jf0I/6H+AgS3A2sCUwM6/oP91P/x/KL+twOpAr4Fkv3l9+f9PP5y/4H8Dv1P/s0DJv8A9vr6vP+nAkcEgf6o/F4BXf2j/CL/2v4KBz0InwEq//j/ff78/uX+t//hAeIEwAEe/AIAyAKE/fj86gFx/pL+DgK6AKoAmwCN/fj/NgE7AD4CVwPO/mn9Hvx3/J3/zgGHA3gEOQIHAKL9KQEgACIBeAXt//f+QAEI/woAyAUTAWz++AOEAcX65vxo/uX/AgJdAnIArwKvASwA8AEuAeL6cPt8AEr/3/4hAqIDdf5T/BL+EPz0/Jz/gv8v/8sBvAD9/ZsBjQCe/jcBFQDS/AT/VgNMA/kC3wGZ/jX8g/8L/43/FgAvA3kD7wFVAJX9CgAn/zP9cv+gAhoCn/2t/+ACjwDb/PwBvv8h/Y36VACe/4L7/v4U/f3+owGn/Uj8xPuM/DIBff+T/d4A/wEd/l/+8/xX/0sD/wC7AmQDOPwj/sQBNwBP/qz8oP/5ATMDdwFCAS4Ab/wt/B78rP0x/OMD0AdjA6n9Kvwu+uH3Vv2TAeoBowD0/WH6GPeC+xkB7wQZAiEC2wMSAmUAsP7bAUwHggdIB0UFhf7qAKAE2AA5BNEFVQL1BmcAWvxS/8P7pADf/nr8z/yw/fX7MPiF+q7+p/3q+k38CPmr+Iz5OfrA/nQBIQEMBUgDsAFRAeYF8AUIBcwKkQzTC44KqgfsCb0GBQbPB7oFGgSbAJQAAALp+4D5Svqh9qH0HfOM8m70J/TK83rxDPFt8t/1nvn+/O78sP+CBagGZweEBa0JWg5NDD4NXRATEPIQvQ++D5MN2go0CE4HyQMnArgCkAP3/6j7V/Wk75PuVOpd6sHr1urX6kLqkurt6qfxGPR+9ZT+aQVQCHcKRQpCDJsPEBLtE5kUhhZXGMEWGhXSEbEOZQ48DaAJ1gY7A8v/a/8U/Br5Mfb18P/oFeRs45vkY+PQ5GDl6eXG6qTu0vidCj0S1RD7C0gIFQnSCAoQxx2wIOEfnBzNFAEPcA54DYMPrA4GCFsDPP6d+UH47vY19RTzP+0R46Td+ttz3LXcjtzG3PXtswUXC9cJZAYAA+AEcwXjCwAZ8iDPIaQfwRhaFFcTHhWzFrQVag+MCgsFzf8d/qP8b/zP+XvyPeqE4qrd39tI1xHX8tEU0rDxCwsQEkQP1QFR+hD8y/ouCGEbByfyK3sezhNiE6IRaBS7GnoY1BRJDaIF3AYbCDIIZAU0+2vyS+r44pbhhuGa4Wvdt9R+y2zIye5qEGMT6Qvd/7T4JPcd9L//+xnUJZclTR15FSgVahF9EckYGBqHE+8MywlLC5wMTwtBC2YG2/kH6pTiUuQs5DPkaeGv1rXOZMJJ1woJwRnTExgEsfV381fzEPZKDw8jyiVmHwUUbwtHC0EN7heWIVQZSRCcCcIHtguRDXsPARLOCA/5Kufs3TDkGOcZ5RHistXQxp24qtynFa0hzhLP+xXxH/DH7EDzZxHYKJQr0BtbCU8FKQliDPoXMR89H/AUBQVCA+MKFRF5FXYUUwx1/z3qWN2n5TXuLub13RvUOskuuSXSPRE4KzkdO/1O6q3ry+538VoLxieSMD4eEQamAIUHWw71FIMZdxrRE+oNMwpZCUgR/BW3FHsPqgNa9S/tm+kk6pXo8N9U1brN3sVltu3mLin6LhQVn+1O4Ezrl+9E+TQYri9ELkESkvvj/lcJwBDfFoYXJReOEMoFVgsZGC0YRxhOEiEJowHd9I7vcu9x7F/mk90bz6bIr8SivAb2VTGCLxkNPOjw3Drsv/L+/pgb0C5bKvQM4fg2AHENPRPoFlIWQxW7DIkHtAz6FD0Z1BdID+MH2f/R9Kvv0O256ufiPtdczBjHl8CnwkAHdTZiKlkDit+p28bsEfWbBEkhkDG0JYwIO/iw/zgNBhYtGNQWPxSAC0gFdg3KGOYcuxYFC6oE9P1d9GLwN/GT7p3h/tSYyd/HfcJrxy0M7zZkKO3+Wd7w3Nrvafe0BfwglDFOIwcHl/mCACYPxRY/FyAXYxM7DCMJFA0jF/caARZODOIFvP2+9PXvU+9k6yHektHtxzvJRsAr08Ecbja0IgT3VtqS3VzysflMCgYjQi/OHcsELvg0AyETBRl2FhoWZxKZCccGOA/DGDAaMhPcCEUE9vs/8xXvRe8B6O7aI9C7yU7Lb79V318jcjImGh7xstpu5Gn3lvvTDbIlWitnGAgDN/pqB+cUxBa4FGMWnRCIC70LIw9LFpAXfRBJCUQDBPon8WPs2Osz5VDaIdDWzGDMGsPi7uAkACtcEFjtrt1g6ZD0wfobEewpbSimFpkEwf/XC2ESyxK8FR4YjBAtCoYJ4Q9IFnAV4Q3CCVkDwPda7VLpdeli4/vZaNJ90ALJqcsE/sEidyJrBx3sQ+Sy72j0mP9cGHEqmSTNEpYEKweQEPcS8xS+FzQW2xH2CeMHrw+GFEATvQ0kCIf/IPUv6dTk/eRA5Oje5tdt1r3MRtjS/2oVxBNfAunyCPII+CX18QHZGP8kHyBlEzkKww3PEQcS/RLgFRYW7Q6/BycHwgwLEJ8OwQogBpH8ie/C4xrh4uES4+ng2d0A2uDR8uGy+rUGfgYTAKb7Jvy7+R363AZoF+wegRtAFlIU/xNpEk8U0hVeFtUTDQxIBx0IAArkC0cKXgWD/kbzeuae35Li9Of+57PjuuB72W3Zsec487kAnAbUAjD/lv1C+lMBKQxnFZgbAx2WGPwTEBA6ENYUshdHFmcTDQ76B/AFvwRvBQ4FvgAk+KDxKOyw6L3pzu1L7JbnueJ63lXbguMB7+j5CgKjA+gB1P0V/kQFSQ6QEmUUPRfYGhcZOhMlE24XSBkbFjAQcgxICkgHuwQwBLMC7f85/J32VfIr7/LsA+6A8GvtF+nP6JDphene6svszfPV+Nr8nP2I/ZwDighUC0sOhhC6EfoSohPIEhIUsxF6DzINlgkjB2AH7AUJBeUDEgBD/AD6qPal8+bz5/QB9oD0GPSi88Dx7/D87fHtXPOd9Vv1wPlN/MH9Zf6T/ggF7wtmCj0JGAo6DeYOAg3rCxIOew3+CaMGDgaACHQIjwXoAZQA2P63/Mn6R/z8/Xj8VfrD+RP5mPd49yv44/n7+ub53Pmj+m/70/w7/scAWQN5A80B9gJGBbEF2wbLB2YH2Aa2BfQDrgTYBm0GWgXEBPUDlAIYAqMB6QEuAswCRAJ/AQQBtwDW/1v+5v4H/zH9l/68/zv/E/9cADoBBwFhAMv/4f+XAcIByACyAd0BbAIMAdYAxQA5APf/KQCq/1z/1f9B/6X/LQCyAMj/5P/eAEn/Yf+8/nH+l/+KAP7+N/7e/tcAWAFPAYEBQAFIAXQBqQB6AaEBngE8AUUAUv+z/2j/mf6i/ov+GP7i/Y/7nvzI/Lz94v3K/k3+Lf1h/ar+s/1o/cj9bf5Q/6T/Kv3H/pIA2AF3Ap0BUwCwAKEAEQGTALEAMAL7At8B9gCsAGwAlQFDAUQAoP/Q/yIAAABY/pz+kP/X/7T/Ef/o/kn/eP9B/y0AYQBI/6T/wf9EAPD/1f/kAMECFgI0ASoAaABTArQCcQJoAXABEgLVAY8BPQFHAWEBHAGBAC7/w/6z/48AugBUANL/V/9U/zH/TP+e/x0AmwD+/9f+n/5c/2YAzQB2APn/+P8aAPr/s/8FAMwAXwFiAZYAu//h/4wAPgEdAaAARAA+AP7/kf9Z/9z/HAAsAGz/pP5M/h7/gv90/27/aP/X//D/fv8Y/1v/7f+SAOkAQgCA/wX/ov9LAAEAwP+//8H/Q//n/uP+R//a/5j/3v7A/qP+Df80/1r/Nf9H/+3+mP45/jL+5P6Q/zwAFABS/9b+xP6B/1QAjwA5ABUAAgDK/9D/3P8fAEkAUAAbAKr/T/+G/7H/GwBcADIACQCm/4H/uf/k/yMAHQDO/5X/Wf9L/6b/z//n/xIA9v93/xj/8/51/z8AhAAHAKD/Rv/8/iD/cP+N/9P/6/+j/2f/cv9r/6//AwAmAJ//8v7S/sn+KP9r/2D/oP+9/5n/a/8//43/uv/f/wIA4f+c/3z/tv8bAEwAMAACALP/lv9z/1r/mv8DACQANgDM/1v/iv+G/+P/4P+e/7b/5P+e/1n/QP/S/xMACwCp/2T/f/+u/xUAhADWAJkA0P+a/7D/JwB5AIsAbgB/AIEASgANABUAOADJAMEAagAkAPn/5P8cABEAGwBUAGoAQQA8AEQAXQCzAN4A2gCzAJAAgwCWAM4A6wAYASMB8QDBAHIAXACrAPcA3ACeAGQATgBRAFIAWwCUAKQAfAA4ABwAKQBLAG4AdgCRAGoAPABBAGIAmADeANsA0wC+AJYAeABzAIgAqgC+AL8ArQCqALEAwwCtAIYAewBwAFkANAA3ADwAbACMAJIAeQBtAHcAggCNAIUAagA7ABAA7v/l/wMALQBHAFkASAA/ABIA+/8RADEAUwBPADMABADy/+n/8v8AAP3/EQAXABIAAgDv//3/AAAGAP3/6P/f/9//9/8sAE8AXQBTAEMAMAAuAEAAXwByAHIAeQB4AIkAmgCiALoA1ADNALIAjAB7AG4AZwBuAHIAdQB7AHUAgQCTAIwAjAB6AGwAZQBiAGcAbgBqAGkAeAB6AG8AagBuAHcAdAB7AHoAdwBzAHcAdgCKAJoAugC+AL4AtAC5AL8AsACNAIQAdABjAFcAVQBKAE4AWABQACoAFwABAPb/+f/6//L/6v/p/+3/5//l//n/AAD3/xEAHQAcAC0APAA+ADwAQQBBAEEASgBUAEsARwBHADoANAAvACUAGAAcACEAGgATABEAAADp/+H/3f/m/+3/6v/q/+n/4//e/+3/9v/w/9z/4f/U/87/x//H/+b/9//9/xoAJgBDAFYARgA/ADgAJAAZAAwACgAVACUANwBBAEAAMwAqACcAGwALAAUAAAD9//r/8//1/wAADQAMAA0ADQALAAQA//8AAAwACQADAPz//v8FABEAEwAFAPv/6f/V/9T/1v/a/+f/9P/3//z/+/8BAAAA///7//b/9f/5////AQAFAAYA//8AAAMAAQDx/+v/4v/i/+X/3//f/+r/7f/v//L/8//v/+j/2P/F/7L/tv+3/6//p/+f/5n/lf+M/5//m/+V/5H/kf+L/4b/hP+J/3v/Zv9Y/1X/Wf9Y/1n/V/9c/1j/Uf9L/0r/Sv9A/z7/Ov9H/1f/Wf9h/27/cP9x/3D/b/9o/2T/Xv9j/1z/Z/9x/3z/jf+V/6H/pv+i/5n/hP9v/27/df99/3T/b/9u/23/a/9l/2j/ef+E/4f/oP+t/7r/t//G/9f/y/+9/7P/rP+s/6D/mv+W/4r/hP+Q/5v/nv+m/6f/sf+y/7b/z//W/+D/3f/d/87/zv/R/9j/1v/V/+L/6//t/+f/5f/s/+T/6P/c/8n/vP/H/77/q/+l/6D/kf+G/4H/cv9a/3v/kP+j/7D/wf/H/8L/v//R/8P/yP++/73/r/+3/7H/uv+7/63/o/+h/5//ov+N/6v/ov+y/7T/tv/B/8v/vf/N/7z/pf+B/23/Y/9i/1P/bP9y/3f/Yf9h/2H/b/9c/3r/fP9+/3v/iv+T/5z/lP+r/77/1f/e/+X/AAAcACEAQwBdAJgAkQCXAMoA6wCZAAkBNQGFA0MJ6gUoB0UJXwfGDBoGbQHNAN78Rvzt+1ADbgYFBAcDhAVwCWYQFhH5Dr0L4ATS+gj3a/ey91z4OPqr/eT/KADS/1r+XP5J/Nv4R/a/83XykfHs8Vj0Ave5+OP5P/pp+ZD36PX89AX1gfVc9sP32flM++r7Ovws/Fb8z/s8++n7r/wt/fv95f7W/4EAiwCHAAkBrgBSAA4AHQCjAAkB7AGiAoMDCwXJA+oB+AKwAuQBWwF6A7gFqwSKA3kEUANbARQCDQN6BJcEzAJEBNQGewVLAnQCLQLVAnIDAAM8BcEH9QXaA/wD3gFCAmgEmwEzBJIEWwGqAjADmwHtAwADtAL4BL4C3v/xALYAlACyAQUDogWLAx0DWwMAAKH+2P84AT8BYwOZBOoDewOwAdP/OwBBAMD/FgMZA6EA/gG1ArEBgwMM/wL/kQOXAgYATQFAATIC3QFfAYgCLAMVAeP/BAMBAaH9JAL4AZ7/6wD+/mz+DwFFAH3/rf9k/zcA6f6F/nkBTgFR/94AiALZAqP/EP5eAW8EJQKFAJQAVwLf/5T9+v+eAecAnv8VAEkA5f64/en9dP+o/33+K/4HAAv/C//NAh0CJf3j/Zf+7v1o/mEAlQBiAtkC7wK2AdD9c/wtAOYA5f03ALkCigG0//n5/fi5/T37zvqkAN/9dPzZ/Bj6R/vT/oX9+/8cA87/Kf/q/87+pQDcAv4CXgW9Bg4GPgcyBeEE7QdLBSwC5QTIBs4E+gLGAHT+kfua9+v1N/a+9DHzn/IZ80HzrfKV9ND3DvsB/l3/CQGcBecIsQqQDZMOrQ2UDcoNIg9jEIMQ3Q+VDr0LBwdAAUv+8f+Z/l364PhT9gzvA+Z44BHhkeLS3/jgQOTN7An+aQpVENMTwhI6DS4ICQUYCvsSrhlkH4QhKR1qFSQNRghgBmEE6gJpArv/W/w1+NfyLfGu7f/lDN+m2ybVdc41zfDn5gelD3QQBxLdClwAv/Ox8QkDfBN3GbojySj5IC8WKg0FCvYJ1QhTDH0TlxJ+Cz8FI/88+fv02/LN7xXrjuVB38rZb9Whz6nOKuxXCkcRZxCrDrUFG/vF70/uPwBEEngZviDZISIb0hH/CT0J3QxRC2YO3BQiE0cNfgmqB9AH9AOr+5j0PPD26Unkm+CA30jbztcuzgTSy/8jFn0PQA3pC0wAjfUM6hjyEg0jGYoa5yCRHVcSAAcdACoDnAlPDFcUKx9YF58LagjkBRYFfwU9A5kAifjp7BTpfeSE30DdFtoz16nKa9cUCqoaGBEuDXUJyP4C9FPoE/Y4EB4WTxe7HMcZtBA5Bt3+XAPfBsQILRB+FucUrBKqDuwIDQgXCPkEIgLQ/E3y/exu7F/ls99Y3KXWKdKwyLDqexhXGrsQ6QwxBOj4gezL5Xr9OhWIF5QafB4KFsIKCf8M+jAAnwWVCkUUzhmXFokPPgvyC6YMBQiZA4UBQv2U9tDuaOud6wLmMt692EbTJ8en3YMQqht1FKQOfQjg/KruD+Ox9aARUBm5GUkdrBi5DS4AtPjA/bUEhAldEZ0XNRQWD5oMMwv+C9IKagXSAsb/Sfoh9a3w0uxv6iHkNtsy1JvOzsqA9pgcQBuAEy0NzgAN9Uzn9OZAA6gXthltGwAbSBG7BH74JfjoAI0GUguBEs8UcxHKCiAIrws+DAcKGganA4MAYvsw9M7weu5s6i7k/Nn30n3O8s5i+W0cwh2FFWAM3f9O9FjnTuoGBB0XxRoMG6YXuQ6+Aq/3SvlXAWoHZAyVEAESqw+pB6YIyw7SDW8KaQZGAxwA6/jQ8rvyMPHL69zjvNkt1KvR49LZ+pEbeR+RFaEKtv7M8+rn5uvMA0MXkRqgGJYV6g4bA2r3rPivAa0HRwuwDzgTIBP/CsgHjwojDSELQwYJA+MA/vov9MnxRPFD7aPjTdmk09vSxdHB+KYcbSEhFz0L+P639CrobulhAQUWHBqxGHMWEA+OBLX4jPjkAAkG0AkEEEgTERMVDHkKPQ2pDBcIhgPnAFz+ZfiK8wrzgvFQ6mTfk9ZI1CvRdtg/Bekeax9aE7EGEPy+8mPmOe6kBjsX7xkiGMIUmQ5PAlj3Uvl/AeQGZQw1EaMUnBJ9CuIIJwspCzoHRgNEAaD/XPng8xTzXvF16UbfJtaL0onOQNwNCjYfjR8jFLwIbf3N75/kGPA2CJ8WyxgaGQEXfg4cAWj4RfthAmcGqQq6EYwVyBIeDWcKsAo1CdwEDgM/Apz9+ffA82Xx9e0O5irdjdYC1YrQmOWQD9UehBtwEMUHQvxj7kLm4PMTC3kWEhhxGdwWBQ2qADr6Qv4xBLYG6wunEiIUzBAQDTYMSAsrB4ADzwFb/9v5YvNM8Kjuqejn4EXZfdSU0j/TjfjFFykeoRapDKcDxPlA66DqBP65ELEWtheXGUsVTQu6///8kwDXAzEIug8oFDMUIBD5DMkLxwihBEEB1P5P+pX06O+l7B7oreFD21zWkdRb0TztpA1SGaYWKQ8ICUcAbvCw6lz5HgseE78WkxmWGHcRkwVNAE0CjgTGB2ULgRDkExASdA1XDUoM7wcSAkT9EvrV9XPuDunH5a/hIt5J2RLa8NPW4IwC4BBEFMsPcQv8BnD7ue+Q9g4IhhCgE+0WTRmDFocMFQVEBvcHngfLCEANohLVEEwNdAyWDGcJPgKq/Jr5pPNm6zfl3eLA4LXeYdwT3MzV9t8X/ZcK5g44Di4McQjN/lv0Ffl6B2oO6RLgFpEZBRcWD4QIughLCOAHtAppDioQyw4+DEsM8AplB/UDv//e+WzymOmY5GLiHuDl3xzhDeBj2b3eDPZXAn0Gugn2C1YL2AN6+ib9CAj5DMIQvBVUGcIYMRIcDKMMOQz/CjAMBA6TD0EOeAskCkQJywZsAgP+fPl+8lfqxuW94xzjfeUh5n3kfuD03eHq9/dH/TgCtQmZDIAKjgXmBYgMghCBEbwV2xg0GOETdBH6ET4RzQ5uDkoONg2nCuIIUghbCLcGPwM4/pP3ePNQ70Hqf+hI6PnnP+jc5ZjjseUh6KvwAPsgAQIHpw2UDeUKcAnHC64ONhHYE10X/xhDFlYRNw+dDhAMxgmMCTMJsAahApf+OfzU+vr5APgt9i/0IPEK7ZLomuWh5XXmd+c86T3squ5r8OLygfnSAJYEUAb0ChcNTQwXDp0PvRA3EwkTSBFNEukR8g6rDA8LNAh/Bb8CPQFLAYf/Ev7R/PD7D/tl+TP3DPXT8gPyD/HG8GzxuPEE9ET1gPQs9835uPrR+7P8JgD/A4oGmgdxCjcQFBCODfwMdA2oDHkLzgpODH0NIgyeCRsI2gaWBGMDAwOBAg8BkgBEAEf/1vx4+9b63PnP+Pv37fhG+c/2uPaQ9zr4Hffm+Ez62fuX+1r8Cf54ABUCfgFWAoIF3QR7BJQFlAfvB5MIxgajBk8IbQY2BH8GGQbGBHAFHAN7AiQCcABW/80AtP/eAMX/wP7h//X+2ftk/BD89/sd+zX5Qfpn+5n7zfsS/pz+Sv5J/sT+NP8A/6z+7QDy/woDVgKtALUAXgMbApYCrAHVAyAEigKMAQEDhgLZAL0CUQRbAeMADwEnAnIB3gCO/8cCEAGB/iv/D/+Q/uL/Wf5I/zgBGwB6/l0BrwBS/jMBHAAVAbcANABKAAMC7/9IArAA9AHRAEABLgK0AmMAyAGKAloARAElAegBVQCQAYgB3QIB/3sBUAH6AaL+igFA/4cBYP1PAaL98AA0/lj+9fx7/3D9zf4//m7+rP6e/qf8Rf5i/lX+O/0j/nX8iP3Z/Qn/Yv2x//38p/9t/jn+8f8O/5gAmv5IAMv9OP+s/Br/Df2//s/+sf5X/rX+//8P/tj+WP2j/xD++P32/6D/ff7T/+n/Yf6yAPP+7/9s/x4Adf8kAIL/5P7qAdP+KQDz/9T/zgCG/wsBZ/92AU3+NgHZ/Tj/H//0/4n/HP9SApr+ewCE/1UAgv99/37/FwADAcr/1gDX//kAWADN/0YAVf8cAFH/ff9p//sAcv4NAEYAfP+IAC7+ZwD6/ooARv8rAHX/ev9dAEn/JAAO/9z/Ef+uAUn/ZgAbALv/ugA4/yoA7v8CALP/AABHABwAf/+//3f/t/+3/0b+PgBy/ncAl/6WAB7+pAD8/fwAcf9HAPH+Nv8mALP+Z/8h/0z/2v9j/wv/rwAi/z8A6f5aABP/rv83/ykA4P4yABv/+f8zABX/pQB4/woBMABS/xYBIv9KAQj/jgAXAKr/MACe/4oBTP/TALL/TABNAC4AO/+BABwAWAA/ACkA5QC2/+UA1f9WARkA1QDW/9sAo/+wAQ8ALQGJAGYAtQCP/2gBLv8QARgAnwCUAEAAYwDUAK//KwGq/zMBL/8KAb//XQAbAd//XwG3/6wAGgCCAPUAHwCRAfb/fwBjACYA+wCT/68Bov+PAU4AHABOANgAegAwALwA2gAwANMB0v6fAWz/JwGC/wAApABR/5MA3f/Y/3UAnf8IAEsAv//b/00Azv9DABoAcv9gAHUAXP/v/y8Ax/9LAIUAqv+VAAoATAAnAFMA6f8jAH8AxP8KAWD/jwC+AE3/GADX/wUAGQCtAN//UQDNANv+JQF5/5EADABZAG3/agDt/7z/hQCF/+L/EQDz/xUAWwC7/1EANACA/3oAnf+zAPP/ewBFAOsATP+qAFQA/f+aADUA3P/R/0UBOP/cAO4ALwBVAdoA1ACE/0QBtP8ZAOkAgP8oAbz/OQBJAPD/5QCl/64A6P9JANX/DAAyAfr+xQFH/+n/LgHY/yQAJQE1ALMA8QBRAKD/KQE9/3YAVAA+ADYAnQDs//z/vABZ/5AAbf8iAM7/tP8NAF3/1wCu/m0AMv8oADv/3P6eAAf+zQCl/ioAEQDs/0D/hQBe/6wAC//c/27/4QBV/iABSP9p/8kADf5gAFL+wf/8/iv///7W/4EB5/71AWv+LQAMAIX/LP8//5v+2gAx/iMAlv+x/6v+M/8L//b+fABn/nv/nP/E/SgAlP5GAF3/qP82/+v/jv5//zgAPf6Y//z+Uv6kAKf+jf9gAOr/K//JABv/WADXAG/+GQHD/1wAJ/8pAPL/fQBJ/uMBUf5u/5IAH/9l/7QBqf74AJ//awBcAKkApP+QAuX9EALH//wA/f6UAZz/5wAb/oYC2v1cAv/83wGo/lgCNgBs/kACpQDf/qwAWAD7/7QA//+Q/1wBwf7F/mEB2/7k/kwBVP2rACUAK/+dANAAh/+uAYcAuf8n/9ICY/0lA8UAO/4zAkkBBP1yA9r9pgAlAIz+9gLc/lYBIvwKBbr6yAKR/2T+fAKq/TEDxPwuAmr/zgDB/W8BYf42/3T/Bv/AAR/8KwOc/Y394AKV/cj/nAAoAMz/wgG9/1j/wQBWAQ79iP//Ahv+r/3AAxv9IgD5Aev/CP/SAf0BovoKCDf7lwGQAI0ANP/p/98AjgCi/iUA8wTX+pIDuv0ZA2D9uwAz/9UAnf1zA7L9zP1JBjr7+ANF/f8DD/+t/RwIMPg6Bnf7PAb4+VMEFgII/QcDlv/BAD4BpwFA/aQAiwMD+6UBKQMH+kgGe/ujAx7+iQET/+MA6f4n/wYDdPstAxH+IAFH/YcBFf7pADn+/v/F/Z4CUvu1ArH9+QCq/8f+6wCf/j0BFP+TAG39XALq/oP9IwMm/scAzv73Agj9PANiAKL+dQIG/pwAwf8PAsr8bAHzArr6PwR+/0T/cwFaATj9XQVL+vMDg/5aAij8SwWG/mr+vgPu+nEFrv33/3sAhwMV/b3/TwY0+cIFa/66AOMCk/3DANAC9v3H/nwDWP57/tIF8/lOBlH9dAKj/8sAAQAfAnn/pP8eAqD9jQRo+zIBRALq/cUBiP8kAmb92gXc+zYCggXu+TUGlwCN/LQC9gEn+gcG1PsYANgEyfg2BU0AYv3SAbQAu/w1A6D+nP5vA8v8Qf/ZA9P51f8WALoC6PrRAdcAHwEq/a8DPP1HAJ0CmfvPAJEC/foAAhYAXvwJA3P9zwFT/d4CBv91AX3+bAKD/o7/sgJW+MMKlPp9/o8GbPzn/SYFC/10/7gB6f7r/gcCmP3DAW//JQCF/b4E1PoOAuoAPf9zAckAhP3YAmkANPtNBS/9Z/6wAn3+HP5DAxsBEPxnBun8swN//iAAsQMH/nQA2f9GApr92gNo/C4DqABs/acBvQJi+9sCQgIw/QAB2QIX/SwBSgWM+kkFv/2zAbL+7gMs/YsCvgAE/7sAg/9wAXf+xAB2/+UBjPy4AhQA8P8s/6QB3fy3AuL+EP1BAvUA7f2K/6MBZf8XAHoAxP5yA2v80QAd/7EA0v7K/nQA8P4VAO38IQMB/p8AUwG5/tsBl//5/mcAPQKk/JEAogFp/boAswDi/SgB//3TAPX/pP9m/mwBgf94/zr/WgGg/uwA9/4YAGoAIf/S/s0AwP+M/gMBnv40AQ7/NAHu//f/+v9hAJMAo/3ZAIkAgf5WAP7/y/8gAHsAEP/TANH+vwDN/pD/yQBz/1sAvP/s/xIBhv+R/+n/DQHO/o7/v/9qAPr+cwHW/NACaAEP/HAC8AHa/NkBgwBH/vUBrv6h/8ICtf27/x0CmP6L/UEDQP9q/ssBdwBF/88AsAEV/SEDqADN/lQBdAFz/XQBywBk/g0CiP+e/3gA/P9n/3EA3/43/97/NP8W/2UBXP+8/30AOADv/xMAiQAY/0D/nwFy/9n+EQFlAM79LQJv/GkAmwI//Zf+1AJ2/8X8qQPt+9EAOP9I/o3/KALg/Fv/6wGE/okAkP9fADEA+f8AAFX/WQHF/nQAPf+bAKP/ov91AKv/OwD7/mcAKf/x//j/kf/W/+gAif9E/1gAVgBLAA0AGQCR/yL/IAHx/ogAaQDG/5UA5wD3/8L/wgBcADwAQwDN/4cA7v86AJoAEQEdAI4AeQABACQBV/9iAEwB5gAqAI4AVQDm/8UAfP8E/+wA2v2zAPgAh/9DAGsCe/6qANP/bP+mAF//1f+c/2UAm//TAMEBPgAmAGsAcf+s/xQA7f/s//3/vP+bAB4AdgCj/wECCAC4/kQBHgCp/5f/SwAy/98AQAC//6ABdgDM/24B6v9N/5wAi/9O/0wAXQDb/xAAZADy/0YAMgCZAHgA3gCxAIMArQBNAKEAEgE1AMMABgC3AJ8AawDCABMBEgDpAJsAnv95ASwADgGJAMH/uAArACQAYQBXACUBLABiACQASQG9/84A9f/hAJj/awGO/0EAgAD3/+wAFADXAJH/oQBAANb/vADx/yYAmv9AAIH/dADn/1sAbwCuAEgAYAA1AGT/CAAAAL//mgD3/+X/kP/o/73/p/+p/8//i/8BAB8AjP81ABAAmf/A/3MAwf60/y8ATP82AOP/i//l/8T/hf+J/wAAb//k/1z/AAD+/pn/OP9G/0cAR//V/8H/x/9E/lcA1f3//tn/AP/6/6X/ff9X/73/hv8j/wkAQP+F/6P/lv9y/7T/sf/u/zUA1f/G/xAAIAB0AHz/MwDI/7H/cf+Y/7f/pP+3/3X/FgBE/2n/i/8f/1H/D/8j/x//AACF/2L/c/+q/6H/pP9v/0P/lP/W/4T/yv9n/9H/bQCv/wIAKQCI/7D/2/++/8b/MwC6/8z/rf+E/5n/pP94/3//nP+B/33/Wf+L/6//UP+T/1//Uf90/5//LP9U/4v/V/9q/3j/nf+7//P/z//x/+T/GgAAAEsAQgBJAEoAVABQAHUAiQBcAE8AYQBVAD8AcQBBABEAQADn/7T/2v+w/3v/Xf8////+Fv8F//f+Cv8x//z+R/9v/1b/uP+X/+T/zf8aABMAmQDJABoBNAGVAZIBxAEMAtYBvwHAAZoBGAH1AJEAGQDH/3X/1v5L/uj96Pyn/Bf8qPtq+yD7DPsD+zH7h/uL/C/9Y/5Q/6sA0wHVAtMDngR2BUEG3AZCB6MHegcrB7gGAwY9BV0EXgMxAtgACv9//Qr8hvrS+Gn3VPYf9Wv0NfRq9DD1hPZl+Mn6uP05AYIErwecChcN6g4MEI0QCRDdDmkNoQvJCQMIEwbuAxoCvv+M/Zz7Ovno9of0ZfKD8ADvxu0C7a/sH+5T8Uz1Uflq/RECxQY6C/EOZBHdEpcTtBPhEkcRFQ8VDWQLyAlpCFQHUQZTBbwDlAGy/zz94Pl29kLzsO9F7D3pneYw5nbpf+wt76Lz0fmR/+gESQpyDi0RvBJ4E60SNxHVD04OPAxmCgYJLgjMB8wHrQdVBxYH9AWqA7EAzfym+CD0z+/x6vHmG+Mj4I7i1+ZN6pLt7fSl/BUDkwhODpsS1xT+FSsWgBT8EbsPEQ2JCsoIowe/BhIHfAfQBxkI+gcbBwUFqgEs/WL48PPJ7pjo1uOu36XcmOAz5X/n6etY9tP/9gVRDBET9hcIGnEa/BgaF7wUdhF/DUQKoQhhBzMGKQayBiAHlgeVB3oG/gPv/1j7N/bP8K3qFuXy37rav9ox4YPkAObC7Uz6QwL6B5MQMhilG40cbxzWGdoWohNCD7kKFAhvBoQETwSOBSAG8QaxCEEJqgcuBXkBk/xK90rxlOqs5APf3dgC2kTgPuL35E/vqfswAmwJmRNUGoMc4R1AHrIbwBcYE7MOmgo/B88EkwOdA8AEswVTB7cI4wgMCM4FtwHN/OD3mPAl6b3itN2H1sDXtN4X37Pibe8X+zUAnwkCFbkZABx+H2MfRxskGEkUHA+CCdsGeARYA0ED6QMbBqwHlwhxCYAJWgaGAmP+7/hb8a7qTePY3FPVjdX03OzcrOB37vn5Rv/MCc4VLBqNHAwg+x8nG24XYBMiDn8JMAU2A9ICaALkApYGvwgkCb0KRgsHCAoEQP+V+Ujy7uqq44jdONaU1ETcJNzA3kbsbvib/V4HtBS4GTAdFyAeIdAc+BgxE2sO+AnoBLkBPAJmAioC8AWBCDsKtguzCw0KkAZbAd753fOy64Tjp9zO1hHRKNgd3B7cvuj89pP+yAYdFeMapR6QIZ4h/R0YGQcUYA4BCoQEsQFuAYUBQQHdBUkIGwrfDDEO+gstCY0EsP3p9hHvj+ZV3n7YI9Aw1VDbLNlA5dvzBPsWA6wSxRkzHbUhhyITIM4a+xUiEMAKyQQtAiAAjQAyAaAEVQi7CcYNIQ82DlwLJgjuABP6evHf6IHg49i30V/O/9g71w3d6Oy697L+dQvgFyUc+SE0I58i1R1yGEQS/AuqBbEBjv8L/7IAeALgBjcKsA3+D9QPCg8pCz8Fdv2x9VfsfON82gHUiszU0nHYX9ak5r7z+/u2BmsWtxuVIAMlJiTzIOkZuxSnDWQH+P9h/7P8Jv4iAWoEcwnWDGgQrRHKEUUOxwmhAqb6/vHC6IPfwtbWzynKD9Zk1mHaGu1O91EBFQ4eG7EeciRsJMIjSx2vFcYQdQmaAuH+Yv6d+3n/fgPzBvwLuQ95EwQT0REqDuoIwADZ96nu0OS729fSOM3rye/WsdWB3qDxY/qHBeER2h3+IJEl0yPSI9gbLxPWDewG3P/M+8L9W/sPALYEOAlKDuURhhQ4FT8TRA1VCNj+CPUc657iHthv0dvKqMnM1xzW4uFT9Tb+cAqlFmYg7CPQJhMkniG/GK0QwgrTAQj9o/qc+0X7ugIaBm8LlxFkFXkWjBbnE3oO2Qbl/Wj08Old3/zVEtCpyXvItthu127ioPd3/1oMDhi2IZQkfCbVIkUgYxeZDYYIvwAz+9f5IPsy/AwCmwdtDX4SXhYbGLcWWxSGDU4G0/xX8pLneN4r1dbN+ch2x67XKNrw4pL5PwPPDr0ZgCMpJvcl6iEtHv4U1wm6BCf+Kfn+9i/7Ff6jA6kKThFbFpEZtBpDGSsU6QzmA/L6Ze9F5e3bCdSUzbDJssXZ1l3eXeKC+98F0BDOGiUkxyYBJGUgvBqNEg4GowDT+1H3TvYN+wUAQgVvDioUShqdHCgdthoVFf8NYAQm+SzvBuUu25HTXsy1yk3E+9Jy4uPfHPmrCEsRhxrUIqkn1yOCHXMYaxKOAr3+WPoB9q/0//n0AZsGKw/sF4YdBR6OH9McNxa+DWcEJvtW70jlQN2Y1ePNosvPx2TL1ePL4QPxMAkjD9cYrB9rJgIjfB17Fi8S/wSq+r76CfYs9Er5IgHGCGEODxkhH+Qftx8THhIXPA/sBL388PFu50ngK9kE0ufNR81HyCfbMenH5oUA8w1pFIcawiERI6EdixXyDxQKPfwz92X4nPbF9ksAkAjQENwVPh8KI6AgFR4xGuARPAcS/gX2Xeyg4jTdD9gD0RzOjs10zT3mtOmY8A8IIhLhFgob0SJUH9wXpw8dDMkCg/hm9bv4F/rd+joGMBFfFmIbWiSwIr8ekxrvE/YKxACE+NPwAOlG4gLddtjN0zvST8680rHtI+uc9I4LchWLFKMa+yBgG+8SvgudCM//ZPfM9fr66fzV/T0KOhUfGbAc3SRAIgUcuBZfECcHvPzq9drvDejP4RHfPtoN1VDVHNIq02ju8u1Y8j0K6RQ1E6AW3B43GhMQ/ApuCNP/f/gL+Lb7WACeAFUKLRjPG3wb8yPBIn8amxS8D/EGoPwd9ZHwOOpI4+bfeN1q1xHVQ9Wl0VzoUPLj7x8DOhUWFPQT0xyeG/IQmQokB7MBjPor+Gf7jQP0Az8KZRbCHTkbzB/aIa0ZlxGwDJAFUfwW9arxzuyN5j/jDeEE3CzZM9nA0p/e2PNa7rL4bA+hFfQQaBhdHCgV7QudCGwEMf/3+SH6CALOBiYIZxEFHUcc+xsWIeIbaxOHDc8HWv9W+CPyue9N6rDkxuHE3zvb8tgJ17bUWesP8lTwRAOSFdcSqRKSG+wZhxAmClYF2wF9/SL52v2oBG4HHw0yGJQe4RxAHyUf+hf1D68JPQNl/Kv0j/A47gjq2+Qr4zjf5do12VnVvtf47Hjv0PIGB0kVYhKAFu8bRRgGEW8L7gQpA68A5/zZ/90H/wmYDVkXUBuDG28cXxrpFCAP3AegAVb8ffVu8CvtsOiO45Dg793e2/nZkdVL3Kjv8PGq9rkJXxZAFSgY7hrAGNkTiAudBJgEWwLx/icDYwnCDJMR5Ba2Gi0c3BkTFw4ThwxHBWL/gPqh9KjuC+rH5ojiI9/M3APc2tqD11bhOfLY88/5Ugq0EtoT8RWKFvMUxBLWC0UHuAfbBfcCSgZvCosN2g+PE+0WvxYZFFASbQ9fCRgDnf4O+pD0We8d66PnGeWg4T3fe93e3BXbmOI57xv0z/mQBegOfxOqFe8UyBYaF9sQ2wt4DOULbwhYB+kItwv5DKUNog+0EQYRSA6DCysI4APR/tH4gPTc8Afs/eeN5Z3jPuLn4fDh1+FU5J3tpfWp+dD/gwh9D7MTuRNMFKsWzBVcEvUQ3A+SDroNUA1oDP4LVwyfDP4L7gqmCV8IAQYYAo79I/qn9sHyou9G7cfrEOs46ibqpOq362/t7u4c8rn2uvwiAncG0grYDswQQRJsErURaREVEOoNoAy8Cs8IAggdBzMGxQVkBUAE5AJfAaH/k/1f+xD5V/cv9oL1t/Qs9E300vQN9VH1MPY69/b3fvk/++T8Tv74/1wB5AJHBOsEUQUKBhcG3QVRBl4G/QWrBSsFlATwAxYDVwIPAvcBbwH0AH0AIgD//+7/nv8f/7j+lP6i/n3+S/6E/tH+QP+L/6D/3f9cAIEAtAD8AEQBVgF+AbQByQEDAt4BvQFnATsB/QDoAKEAawDy/8H/kf+R/8D/AADm/83/KABCAHgAYAB0AHcAzQDxACwBPgFiAVgBiAHCAbMBgwFIAWsBbQFnAR4B4wCgAHkAVAAfANv/r/+2/8D/r/+K/3D/bP9Y/0P/Ov9B/0b/Qf80/2b/i/+J/3j/fP+H/6P/ov+A/4b/lv+h/4X/Zf9r/1b/Uv9K/1L/Vv91/3H/WP8u/xn/KP8p/y3/Qf9C/0T/TP9i/2T/Wv9W/3P/hf97/2j/bP9k/2j/bv9h/0X/P/9E/zj/Sf9L/0f/Tf9n/3b/tf/A/77/uf++/9H/zf/F/7L/of+b/5j/l/+L/5j/hf94/3f/af9n/4X/pv+1/8X/tf+g/5//n/+c/6T/rP+l/6b/uv/K/83/yf/a/+P/2//e//H/7P/4/wMAFAAdABAABQADAAEA8f/0/+v/1//H/7f/tP+u/7v/s/+2/6H/pv+p/6T/t/+h/6b/nP+t/7D/vP+v/6//rf+c/5T/iP99/2b/Zf90/37/h/+Y/6j/tv+9/7r/tf+z/6//sf/A/8L/2f/P/8b/t/+8/8j/1f/d/9H/zv/Q/8b/xP/F/8//yP/G/9X/3P/V/8H/u/+6/7//0P/J/8v/1//g/+P/9P/z//7/AQACAAIABQAYABsAIQA5AD8APgBVAGQAWgBMAEYAVABYAFAASABVAGUAcwBxAH0AegB0AGsAYgBaAGAAaQByAHwAgwB5AH0AhQCMAI4ApwCpAKkAqACXAJ8ArgDEAMwAzADEAK0AmQCYAKsAtwCtAKQAiQBwAG4AawB4AHgAaQBlAGsAcQBrAGQAZABkAGQAZgBsAHAAZABqAGgAawBvAHEAYgBmAF0AXABbAFYAWwBUAE0ASQBHAEsAVgBPAFQAUQBUAEcASgBDAEYANwAnACMAKgAyADwAQABEAEUASQBHAEUANQArACMAHwAfAB0AJwAiABwAGwAjADIAPAApABIABgD9////DgASAAoABQD//wMADgATABsAIQAVABMACQAFAA4AGgAcACUAJQAjABUAHQAoACwAOAA+ADkAPQAtACMALwAzADcALQAsAC8ALgAuACoAMwA7AEQARgA9AEoAOgA1ACQAIgAnADoAQwBQADwAMgAsAD0ARABVADoAMwAyADUANAA8ADkAMwArADsANgA8ACcANAAyADoAJQAtACEAGwASABYAIAAkABMADwAJAA0AGAArACUAGQARAA8ABwAJAA4ADQAKAA0AGwAeACIAGgAiADcAQgA4ACAALQAsADkANgAzAC4AJQAZABMAGgAVABcADgATABMABAAZABkA+v/7/zwAnABqALsA3gByAUwDeggaCqEGYP9P+jr6Pf2R/rT8Gfph+j39FgFsAtcAeP3F+3X8o/5F/7v+TP2d/Tj/mQDoALEAgwDmAHoBBgIzAvQB4wGaAboAAAGcAdADoAmjDnQPvwi3/6r63/wbATIC5v5W+5r6F/+5BI8GgQMz//T8Yv4lAMX/gfx1+QT6Zv5jA3AFDQN0/4/9M/8aAesBTf+0+wb7GP1dABUBQv8s/hv+IQBnAS0BdP+o/j7+SP8fAEAATP84/vX9RP+qAO4BwgEqAa8AWQHjAuUDTgNoAsYB5wMOCVUN0QzHB1cBFv9AAZwEswQeAXf/vAGqBsMJVQdGAGv6t/gv+wf9EfxX+Kz1+/bB+xEAfgFA/u35UvhT+oj9Qf7++934xvel+u7+XwCz/uT7nfrr+/n9Gf6P/LX6wPpv/If+/P/e/2X/rP9eAE4BSQEAAKj+3P0C/j3/VAD/AMgAjAAdAUYCDgP8AqMB5wCoAEsBtgJGA3ICTgHzALwBSQNfA/ACTgH+/0gAXAH0AXUB2P9e/yMAiwG2AR8B/v+f/2UAZAHNAccBKQFmAEcATgCrANIAQwCG/+j+EP8AAG0AhgDf/6/+zf4V/1X/j//+/rH+6P0H/i7/XADPACMABv8X/0EAKQFRAUUAPv+Q/gX/5f/dAFIBDAHxAIIARgCxAD0AGQADAJj/gQCWAPP/Uf+g/s3/ZwHyAZYAtf7K/fH9Wf+KAKwA+v+d//X/kAAQAXwAyf8DACsBowGWAXwAif97/xwAHgGtAU8BjwDm/wYAIwByAG4Azf9y/4T/nv9hANYASAEwAW8BuAF7AXkBTgG+ABABKgF9AS8C7AGSAW8BPwHFAY0BjQDW/5n/BgCuAPUAqwBtABQAHwDFAJ8AeAD2/2T//P5K/+X/lADlAOkAqgBmAOj/qP+T/oD+OP/0/4wAawCO/wD/8/7q/lX/d/83/4j/N/8L/z7/0P/HAGgBGgGwAGcA6wB/AdMB9QAAAEn/4P7n/in/xf6r/kz+d/3p/EL80Pup+6b7C/xP/Lb8IP1//Xr++f7u/9gAXgHGAZoC6gKRA9wDvwMRBL8E4wRNBfoE+QPqAq8BUQCt/4/99voX+Nr17PSu9EL0QfOP8ljyIPSp9hD5Z/vM/NH+VQFYBYYI2godC7AKuwrIC9oMQA34DJEMuwvSChkJsQZMAwf///km9r7zDvMR8oHw3e0e7HvrS+sx7Jjt4e8c9Bn9XwdoEUAXiBaeEPMKFgcrCC4MXBDnEzAWCxViEk0OGQlhBEcANPyS+Hn1yvLB8G/u9evg6UPoXOYq5S/kHuiI9qUFYRI0FuoPQga0AGT+NwJBCC4N6hJNF18Y2xYQErQLKggkBrkGfgixB3oDpv369Z3wQu6t7JzpnOVY4evet97T347ukQJuEhYbjhRaBXP60/VD90EAyAbCDBkSFxYvGAYZThPLDCgGDQNNBaIJhQydDG8JDAVWABX6OfM16+/kceFN4LTfE+GR3i3rHQLwE90eXhhOAvjzOO4I8zX/pglfDLAS3xSjF/AWoxGfB/QD5AJbCBMOyBAeDwoN0QhZBsgCFP0p9C/sMOSC4RXgLuB33y/eE+WjAA4VbCJaGqcDn+4p6mru6/75CiEPGBIRFZ0WbBiQEE0FPP5t/RkGqhHUFegTuA0zCDoGrARdAI76+/FH6g3lQuI74nrhOeFe3YbnIAPEF1ok3hmn/6PsH+cL71MBOxAnE6YUkRIwEdkPVgyuBKgBiwJRCBUQdxQNEgIOSQnxBsMFQgKa+170Ke7+6QDnSeOz39XdhNtk3fP0RBOvIksj7Atr8FTkH+ja+HQM3RPRFNMTIBB5D3IOoAnxA9AD8wReC6IRixN5EWsO9AjbBY0DMgB5/PL3KPHl6WTknt8b3V/cjdpy3ib+gBarJ4YiFAjy6Vjg5OWw+hER/xgaGPwSsQ05DPgJDgZFAwkC+gVhDWMS8xOJEacLhgjzBi8FbANi/nr3T/Fb6u/kaOFd3rvbGdpi1lPvDBL0JWIqhRHR7jXdeeLO8lQOyhmbGFgT4Q6+CiAMwgdCAe4BHQRkDHIUFhWTEcsMzwd7B1UIRwfPAsb7yPNY7gDpkuR+4G/cF9rn1q3aEf/VGxwsOiMqA7/hQNxc59/+Xha/GmUXixEqDMEJiQpNAtYA7wIeCe4SiRYKEqIMRwiSBgYK+AniBpsAP/mv8U7u/Ol05UTh+9xY2WPU+9n7APYe0S1OIuz/yt5Z23/pRwLEGDUbNRb/EPYMHwloCCT/wf6yBEoLgBNhF34R1AzcCNgG6Aq1C5oHfQD9+ELxXe/O6xLoaOQ136nYzNTk0iz0lBg1KwwoQwkU5X/aF+cJ+3AUFxszF8oSag6hCJQHoAA1/MQDpwqlE0kY2hKaCw8IAQaLCfcLtwmdAhX8afQL8p3vU+uh5eLfUdnB1TjTEduLBVEi+C38Hoz6aNzs3ZLttwQKGtobnxU6EW8LXwaGBGn+qgHvBzgQaxUlFlEPWgrwBq8HHQuTC3cHpAAl+bLyE/D/66roGOR335vZ0teA04vlhg8IJQ0r3hQ78R/cw+T/85oLmBtoGWwV1hE/C2YFUgFj/OsCeAvYFOIXTRUGDYcISAW+Bi8K7QsXCPAABPiB8V3vNuxT6D7jKuBt3BncWthh3JUBhBwZJ+odE/+C40HjJPCTA/MZFB3SFo4REwv3A4QDTwMYA/ULXhJ1E8YT+A7cBo0G0AdGCq8NTQmF/2f5H/MA78/spegI5p/kiuEN3i7ctded6hQPjiH9JRsRIvJZ4pXrY/qBD+obvxk6FREQ5QiIBbQE9wMwCpQQ3hN9E4oNAAaaBXAHawsXDRYJpACZ+Dzyve627Irrf+sY6mfoQ+VL4M3cmNlj7KQKYBvkHzQPGPfh64jxTPxJDoEYWxkKF5IRLAjhAs4BYwZdD9UWtBVaDjkH3QGABPYJUQ1qDFkHNfw684ftPuzs7uvx2PD37b/p3+Wm43zjRONx6U78zQzhFdMRpAOo+Bf5Jf/7CVgSnxSYFDYS2g3SCmEKCAyEDxIRdg+OC80HVgV+BQMHngfZBNL+K/ZL8HvvVvH58ejwre6u7GXq2ueP5lDmwOu18oX9aAmbDXwMsAY2AEkBEAfaDBIT2xRvEwURRw28CxwNhQ7zD0IO/Qj1BCwCmwC8ANYAEwFyAC78iPXU787rWexv7lXvRu9F7trrk+wz7mLwzfVV+7j/ngN6BXMFUAePBmcIFQ6cERsU6BMgEGsNIA0MDYgOIQ4pDAsKDAeGA1QA7P0r/dv+4v6R/R75EvRz8Iruxu6X7zHwXPG68hXz9/Kt8470x/c5+4L90//4AScEJwYgCRoKqAy+DtsNMg73DtsOzQ7rDYoMRw5NDs0LUwhMBfUDpQMeAkIALf8a/s389/lI93/1CvS/8yTyCvH68ffxdvLW8WDx7vNP+ET7Zfv2+sf5cvzLAMwD6AclDJUMMwvJChcIHglnDIoOgxBCEJIMewo9CO8HaggKBxYGFATfAA//SP0m/q7/7f3K+gz2GPUs9mP3uPZk9WfzgPNy8qnzgPRa9SL4t/j8+fb6Q/7B/wYA4v8jAnYFBwnOCXwJcAixCOIKtgsqC5gJ9glLC7kKJwn6B/4GmQY6BAcATv6M/lcBnwIuAc39vvm49kX2wva8+Cb5Uvep9SX0GPUV96b4M/jd93r4+fm++v77Df5UAQkE+gIxAuYBSwTnB4AHDwmtCZEJxwqJCJAI6wgCCSgKWwgJCD4GxwRBBK0CXAKyAT8CugIHAEH/BP3h+1v7WfjZ+FD4WfdJ+Bv3zfcn97b2SfiR+MT5Qvoa+13+A/7+/nP/oAG8A6ED8QRTBtUHqgj0BvQGIQjdCDYJWQhpB1kH8ga7BsYF/wNwA3oC0QCr/mj9XP5a/9n+uvxH+vH6o/qY+tf35fbV99X4yPiz99n5IPwp/ZL7vvri/O39i/7j/d//XwNfA8sCRAI0BBQG5QQSBbsF8wY7B24FiwQNBX8GGwZZBCQDNgMPBBgDYgBC/1z/HACP/6H9y/xb/Fj8mvu2+n36Jfuo/D38KfuB+pD7qPyI/Tn9H/1G/kn/9/9G/3X/PQH1AgsEvgISA/sDFAUEBUgDLQMzBM4EKwSiA/sDGgW+BFcDyQHQAcQB7QDI/+H+JP+h/+T+TP56/oD+C/59/BL82vy2/XT9Lf0r/V/93f3H/ev98v5bAC0B3wBrAD0A2AC9AH8AuACqAWECcwIhAvkBIwKbAR4B7ACvAQsClwHjAJMAyQALAbwAfQBGAJIAVgA+AKP/jv/G/9f/nP9t/z3/7/46/4D/AADe/wYAPwDb/6b/6v8YAC0A4/8AAIQA1wCaAEEATgDcACMB4ADGAAQBEAH3AP0ABgH3AAQB0gCqAGAAcAB+AHIASwAeACcAMQA2AC4AJgAnACoAKwAWAPv/HwDd/9T/4f+t/6T/sv+T/2//df93/37/b/9o/4v/pf+N/47/m//P/7n/0P+x/8//uf+v/5L/r/+l/7L/tP+k/4//aP9m/27/if9v/4j/av9b/0H/VP8//zT/Rv9c/27/g/99/1f/cP9g/3f/df+F/4b/e/9W/2//Wv9J/1P/Zf9z/3f/iv9z/13/Uv94/4f/i/+h/7X/of+N/3f/bf9e/1D/Tf9F/07/MP8f/zH/Ov9B/1X/Zf93/23/cv95/5j/pf+2/7H/uv/B/6z/rv+W/6b/t//c/+X/4//R//L/8f/9/wAAFQAzAEQASgA5ADsAKABXAEkANwAwADUAUQBLAD8APABQAE4AcgBmAJEAlwCbAH8AhgCaAL8AxwDZAP4A8gD8APwAHwEoATEBPwFqAYABogHGAeQB8wH2AQcC+wEBAvwB+QHwAekB0AGkAbMBsAGkAZgBqgGFAVkBMwFBAUoBVwFeAUoBHgHYAMoAwgDTAPYA/gDvAOcA0QC4AN0A1ADOALYAoQB8AHQAYQCAAG8APQARAAgA9P/1/w0ADgD4/9b/0//M/9b/3//P/8j/uv+n/6L/of+W/5D/qf+o/6H/m/+p/63/tv+g/7j/xv/K/97/6f/j/9L/0f/L/7z/u/+5/73/r//M/67/2f+8/8T/1f/X/+D/5v/1/+v/7P/e/9j/2v/t//z//f/9/+P/q/+V/63/uP/Q/9z/4v/D/6z/uv/Y/+f/zf+y/7D/x//n//T/7////+v/4f8HADkAUQBCADUAKwArAD0ARQBKAE4AOAAcAAcABgAcABsAFgAJAAIA6v8SAAsAKgAiABsAGAAAAAwAGgAWAAEA8f/Z/9H/v/+r/6X/mP+N/4j/iv99/3L/cP9d/2T/XP9C/z3/Pv84/03/W/9g/2n/af9Q/1n/V/9E/1X/Wf87/x7/Hf8J/xP/Rf9F/yz/Cv/2/uP+6/7w/hT/Hf8Y/yD//P7c/tz+6f7c/uf+6P7N/sX+4P4J/yP/Ov8t/xL/Bv9h/3H/eP98/0//Vf9W/4H/p/+c/3f/i/+W/8X/xf+i/8H/1f8IAEEAWABNAFIAXADGAAwBEAHMAFMAaQDjAH0BegE8AS0BTQFTAWcBjwHNARsCLAIDAvkBIQJIAoQCigJTAv4B/gEkAkMCaQKHAicChwFxAVsBPQFCAU4BRgFKAQMBogCHAJoAtwCUALEApACGADAAMQA+ABUABgD2/73/uP/m/+L/zf+s/6z/tP+3/9//2/+x/47/n/+///j/9v/p/8X/w/+7/8//yP/p/9P/9f8LADcAXACiAOQAIQFQAT0CdgJRAioCKwJVAaQBLgJ8AScB5QALAHX/XP8P/97+Z/7B/VD9lv1n/eL7aPt/+pL5s/cu+6IQ1xFHBQwB7gV8BSv/vvxl/l38xfpa/EoBhAJ0ACoArAJBAwYB5P+CAAn/Gv1A/V/94/wm/dP96v20/vn+U/8VAIMAygDlAJQBpgFYAiUGwARrAQoBvwHnAHD+zv3I/h7+av14/pL/zP8KALP/CgClAHYA0AR0BbwA9P9YAQcBFP/W/7oBKgFnAAoBEQJXAjQCPgKOAYAA9gCUAFP/Qv+O/kD9Ff00/ZH9Kf0+/bD9D/0j/dv9Lv5u/pX+GP+6/1j/cv9NAHoASgB5AIwApADTAMgA9gDZAGUArAAMALT/XQD7/5z/Hv/3/jv/nf5d/n/+p/2x/WH96vzA/Sj9Tf3y/Qf+F/9j//X/ZwFxAUQC5wJPA9kD/gOLBEgFeAXeBRMGQgYpBpUFbAUeBdMErAQrA80BRwCY/VH6Xfjo9uTyqPBz8PfuIfBN8a3zlff7+lcAZQU+CSAO6RBCEk0TvBJEEiQR+Q/eD2QP9w4uDvkMCQxTCnUH1gRKABz65fSM8Pzs+Ogb5Rji59+L35LfBeaV8Sn51QFAC50RgxWyFDwSvhDbCzgHKQX9A5kEVQavCWcOpRBWFAUXShZkFaYSgw9rDGMHhwNxAHX9dPrp9Xjy2u9q6jXkHt+W3K3YVdaz4KDui/QD/y0LGhRbFhIUwRKZEKcJqgN1ALn+Mv+u/9sCcwnhDb0Q2BTYGFcXMxSEERgNmwijBI0AWf87/q76k/hz9lzy4+xv5Xne59jz1KfQcdqb6jry+/1+DTAWZRsZGA4V2BJuCu4B4v2L+7f7Gf3pALcI8g7FEqsWvxl3GtYWSxIDD2sJRATfAC3/ff84/tv87fqa9jDyzexw5X7d89f30tbQFN167Hf15gKvDxEZoRxkGBAV8xDRB9v/evpb+BL5LvssAX0JcQ+2FEYYORqlGRMVDBEHDT4GgwH2/nT9w/3h/C/8x/rr9NvvGOqt4tjZrNKLzWvOkd6r6730ewPWEiUcQR3ZGEEXKhKVB/L+0vpq+tD6C/yGApMK+Q+5FPQXqho/G/sW8hHPDRAI/QI//4f9y/0F/e77t/pG90ry5uyl5n7fIth30P/MntmP59bwCf1kC24Y7x4rGycashhVET0IVwHD/R/8O/vn/NoC/gjhDUMSHxcBGogZUxZsE2sPTgmvA+L/cf0f+3P4QfVy847wG+3D52niMt0d2HnSmtbp5Mbw5fgAAmcOfxmcHOIaZRqCGMMTRgwTBWICFgAx/uf+mAEMBiYKHQ4cE7oVnhVSFQATsQ/3Cm0Eyf8T/N73avQe8WjukuyE6pbmTuNA4DjdG9uj4RPswvL19kX9OgauDpIRwBElE/wUXhT0EOkMlwoNCUsHdAUvBMAEXAZDCPQJIgtYDEYNZg1nC2UIWgWQAsv/7/zm+dX3rPVn8zzxNu9K7b/q9Oec5U7m2emo7RbwvfL39sD8AALsBQEJ4wuFDlEQsxByEKkQQRDkDgwNdgt1Ct0JMwkgCZAIhgi3CHoIkgc0BvUECwTkAooB9f9j/ub8YPs3+fT2e/Qg8tvvqu1i7FLsiOxc7FPt9O9x8/P2avrn/cEBHQZVCd4LwQ04Dz4Q3BC3EGkQHBCKD8cOyw2jDFULIQqcCLUH4Qb+BcEERwPYAYUAPP92/WX7E/mU9gH0b/HJ7rfsleqy6M/nReiX6WLruu1B8Sz1lfnp/cIBMAVXCEkL0A2+Dx0RxxHgEZwRExE/EC8PvA0zDMIKxQnGCHcH7wVmBF8DaQI0AeT/sP6d/TL8dPqD+Gz2LvQ48hLwFe4c7O7querU61vtuO7M8Er0L/jf++3+3wEqBXkI+ApwDHgNaQ7sDroOCw54DeIM+wvrCroKJwpyCdMINwhzB8kG6wUKBdADZQIGAdf/bf79/ED7p/mX93v1VvNr8X3vwe107ITs5uyR7qbwgPKb9Eb3K/qf/Gv/EAKEBLYGGAkYC3EM5A3yDpUP2w+4D0kP5Q5yDpsOrw2KDOALDgt4CbUHDAagBHIDqgFh/4X91/us+QT3AvUu87Xx0u+i7Wvsuutq69Hs1u0M7xTxqfMW9r74e/sB/p8ABQNNBbsHpQk3C5QMvA0xDikOwg2GDTUNnAwEDP4K8gmwCJoHkwZtBQ8EcgJdAc4Atv/k/SD8fvqq+a34bfg09/r1EPWD8zPxf/B98mbzg/Nj9DD2ffhe+m/7HP2A/5IBfwMGBYoGSwhkCQAKGwuzC/cLjAwVDaoNVg4ZDhAOug2UDDkLCQquCDUHfAXOA10Bxf4+/Df5pval80LxaO7063XokeYv5cXklOWC5p7omevn7/nzefhH/bUBnAXwCdYNfxDkEjgV+xbMF40XmhdrF28WbxWdFJITdRGeDgQN4AvNCUgHyQS5AuwAJv4q+zn4gPWp8oPvVOyJ6SPnOeVa4iPhOuKc5Z/oIutV8Jv2IPvG/qECrQevDFUPchF5E64VtBbuFdsUFRU8FZgUjxNzExsTmRFeDwoNkgpJCEEG2wPAAQ0Ayf33+gn4FPUN83bvZetO55HjBODQ3D/ckN764OPj7Oix7iz05PjB/TEEGwrVDZwQlhNHFtYXoBdUF7UXwRcGFxwWbRUZFXAU8BKLEIUOsQwdCioHdAScAfr+sPsL+O30ufEt7tfpGuXj4G/dgdpX2aHbWd614O3mxu4F9O/48v6RBegLAhDHEiwWoBgEGpYZJhiBFyUXFxbJFcUVqxW8FL8SQhBrDY0JLwYLA34AJv9E/RT7nflL+IX22vMl8Ozq9+SK3wPbNNjq2Ojb0N5m43nsP/Ww+Tb+TwTVCbcNmA9hEf4TrhUfFooWlhcYGe8YfRjPGVEaARj6FLURTA6+CTEGHQNuAMX+Iv7I/Pr5tfab8zbwmuvP5Ared9ip1BjSLdUM3WHldeyr9QcASAXbBTYIgwunC10JxQgzCwsN9Q0tEFYT1BXJFvIWNBeeFZkS0w8hDdAL8QnVBmwHtQc6Cc4J6wjGCNIEdf4T+UbxE+q74XTZ19TX0ELPLdY54lnrP/Sy/bMF2gcMBSYGXga1AbgAAQTCB6wKWw+HFt4ZXxlVGt4ZzxXbEO0MEgzGB+8FvQnGCT4LQA1mD2MRlQ2+C2AJzwDI+mbz6+so5avbyNci1QPRENMw30nolO9g+XcByARhA04D+AXcAZn/VwNHBkEJtA26E4UXtxZNGPAYqBRyEMYNjQsbCtsIdgzUDX0NXxGBEWkQSw/5CrMIigGg+r71l+285wzhotpO187SAdHl18Hh3edA8qj83QFJBEMFGwdIBR8CowS2BcYGtwrFD70TRBUIF4MYIxaZE+YQvg2bC38IYQqOCxwKNA9OD3UQrhDXDfELxgXD/gn5su9Q6gbjNNv91hDSb9CY0mzd0+bh7Bj7nQHqAsUGlgZPBoMDWwJKBXkEeQjaDpoRZxW4F3oYRRgzFfISJA+sC+wKLwpqClcMUA7aDi4QyhD4DkwMCghfAsH7BvVx7nDn1eCe2n/V9tK/0HvWxeAp5WvxMvxT/yEFZAdbB8kGAgXaBaoE6AXsCkUNbRFbFYgWrheJF0wWhBNjENoP0wsmC5cOXgrHDacODw0uD+0LIAqtBjwA3/s/83bt/uaG3pHZ19O4z9DOPde434XlyfQt/W0BAAmSCU8IvQenBSsFyAPVBlkKVwzxEasVTharGHMY0xVoE5AQ3w2PCz4Mqgp4CyMO2AzbDq4ObAwGC7MGoAGf+2P0Le5p5gbgWNlG1FjRD85q1pbeUuJL84X6hf7lB6gIMQj+CPoGLwahBIIHiAmQCxsRnRPeFBMYbhdLFsMU5xGaDxkNLAs+Da4JQwtEDmIMyw3vDcIKrQiFBBL/8vfF8XzqY+KV2+vVnM9TzaTR3NhM3sXsnPYD/O8FQwm5CAILAQkXB2QFkQbjB8kJ3w5VEokU9RdCGHsXMBbSExgQXw4+DSELSwvWC8EK2wxMDEoMkAvDCMcFoADT+jX0Nu3o5fLds9fn0f/NqM2r1z7bR+Us9AL6YAKrCrMKmAsTDBEK9AasBusHXQhSCy4QoxJkFdgYqxgCGHgXCxTTEWsOUA3wDLwIAgxeDM0Ilw38C2AIMwnYA1790PgE8czoJOJ72o7TDM9cykfPXNjH22/skPYT/V4IAwwwDGEO1wsCCT8HzgaKBjQI5gyGD4QTtBdzGC4ZrRmbFoUTnxF/DvkKwwyvCVcJOQzICfYKiwtdCEsG6gE3+zP1Ue1s5R3dLtZoz/fKY8lj0vbXAuCZ8of5YgEPDcwNzA1BD7ULvQcVB8oGVQYACmUOsRBpFQMZExmTGSQZ4hRNEs0PsQrNC50KaAeBC5ILpwmFDDoLywaOBWYAevjd8tTqB+J327nU9s1ayl/KhNTN2Q3l0fW6/MoFHg/nDrMO+w7ECpMHawbUBgsHXwq/D2ASqxV/GhEagRksGWQURhATDjgLBgm1CgELsQn0DdkMzQoFDDkH2gF9/jX2eu7354zfANhi0jXNkMlqzT7ZL9yd7IX6+/+QCmQQoQ6SD9cM3QgUBusFgQa9B9QMXxFKFCkZyhp9Gh4aLRdOEkoPlwzjB7sI0QqOB1YMJw6CCwIOgQv3BrQDrvx+9QTulOUg35DXVNG3ze7KIM1I3P/gUe3q/rsDZQqIEpsPxQxnC2MHkAN0AzkGmgiZDGoTFRdGGSEcZBs5GLkVKBGMC3cJbQj0BNEHuwvHC7oNjhBwDnULdgmcAgT7h/Xu7PPkW9+o2OXTR9DFzTXO7Nv85JTqVf0qBoQHsQ/NDzEKjAj7Bq4ClAHmBZ8JyQx8FJEZHxpHHLkbWhYrEjoOLAgVBOUD5gW3CMoM5Q8WE/ER0Q+HDQwHyQAD/GD00e396I/icN0z2sHV0NJzzw/TGePa55vxZAPrB6UJqQ/hDYMHCwbYBfQB4wIyCb4M0hAZGD8bhBorGp4XTxFSDAkJtAR/AnkEuQi9C54P0ROPEzERzA5rCQsDeP0K+Dvys+xp6VPkC9+s3CTXptKb0bPUYOWp7FrzxgalDBkKgA6oDssFGwMeBM0BggI5CcoPGhMjGFscoxqoFo4T6w1rB8EDMwKkAeADnQuNEIcQ0xStFWwOAQoqBu7+aPlm9nXzp+696y/o/OJM3dHWAtIEz4DQYeRa8CH2WAhiE3IPrw0fDlsGUP7R/qgA6AE4CIwRVhiwGoYcvxueFXEOKAm6A03/BQA6AcMD2gvNEp8UcRbWFYkPcAiIAAD7ZvfP81f0KPRq8Jbu+Oms4UTcBNRzzrXMltiI8Dn4hgRMFiAXcQ7aCg4HM/4D+dL8QQJ3CJsRzhr4HrMd2xl4FKkLgAJr/vb9P/5yAiMJMRFRF1kYEBduEu8JHQI2/eX5M/gj+gn8zfmD9Qfzp+zQ4SbZSNGxzJDJCdIy8W8B5waPFoEdgRDNAQH9SvqR9Fz3TAPcDzgXUBwIIZIeKhRrCpEEiP64+vz89gKMB74MFBIZE4UTpBY5Dy0G6gKn/dz5Fvuw/ksC4ADd+0L3A/Ci5CPbvNSSzZvKTs345f4HZg3ZEKQa4xW3/8vyYfNf9Pf3FwKrEUQerR+eG4sZWxLJA0T8fP36/QMAngi9D2kSVhGUDt4NJAyOBhwDFARWBLECpgNgBooG8gNT/zX4BfFl6bHhOt342ZXUSdNR1rDq5Q0BE1oLvw6BDDP7Cu0P8P/6JgSsC+0UhB48Ho8ThwzhCHABnfweAFAG1gr/DcAPFRDmDGMGIwI3AD4FGRPeDmQG3AdVBjkCl/+ZAJQCG/0Q8tTq0uYV4gvdJtkT2JPVQNymBXgZ9Au+BqwHCf/x77zr7/iDCxURZBGeFlca+xDnBEkC2QRPBGkEOwmbDrMOYgvqB24GRAYYA+4Cxg08D98J9AcnBv4FRQQPA5UGBQUq+wjyM+y36VnnEOOW3iLYjNIg1Jr14hmGEiMF9gEMAYb2f+yq8lQIAhacEzgPMhEmEtIIzv+oAu8JOQwyC+kIJQmHCoEHNwOvBJsHRwY3BuwWFBYCBrD/KQDOBHQHggXgBYgFGPqc7EjnmOoA6kniaNnO1LbSid0aC48dzg04Aej7mvoT8iTwlftaEbkZchPPCs8L2Ax7BnoCFAS9CoEQ5guUA3gEMwlxCDIGRQdgCgkS/hTiBj3/oQIqBU4GhQafCUcMeQF48LfoOOzf7sjpq+Dr18rTbtTS2IYCUCTXFAD+pPML9O3yqPQc+rQNph5gGuoK5gX9B78IegeCA/4GQxFPET4GhgLQBtYKOwyCCaYJERZqFbcChvxPAtoIqwgFB0gIZwpMABPsu+Ok6LDuwOjt3JnRZ9J80W7kuxg3JRkNfvd97lLwZfbz+q7/mhUpISMVxQUSAy4GxwpSC/cGHAlyEXwP3gO7AmMGSwunDr0I9QpzG44TfP+b+MUAMQxRDlEHcAQABx38hOmw4lfpPO6m6CHZk8z80LbVt/DgHewc0gVQ8uDsvu7A97j90wTVGTEfqxNbBLwBpAU7DX8NwQhfCkcOrwzGBfkC1AZhDfQPmgxPFuQXBwUy+eP76wV8D94PNgZaAn78bu9p5mXneezj7O3g9dCczt3Ubtvu/P8fDxXa/Xjui+tu8vwAGQT0CqUaaBt/D70EjwKoB74PMA9YCjILuw3tCtoG5AbxCu0U0xzHEhwKigaUAXUD4gfuCXIMEA1PAqj3DvHR7ATsQ+xW6E7gI9ls0nTUo9rH4k4Gnxy2Dqz5Oe3a7Hz5DAbHBgIRORpxFs8MQgb8Bb8MFRStDyUKIwr9C3ILIAwRD0ET3RmTGOQM/QIGAlgF3wnIC9oIeQYfAfX35/F18HrsNOfa4qrfoNzT2MLYg94w5NryJw2XEDYCo/a48Zz3oQO7CMAL5xTmFtoSUgw8CCYMWBPeEtoNigxnDg0RsA1ODWoRHxW3FRgQ9wWUAGICswUqB9sDdv7O+a3zr+/g7unsc+k+5k/ho9303D7ffuPb5ofp3vL3APsF1QFW/jP9iwBWBkIJkg4EF+wZXRZ+EiER1hJbFg8WIBMiEkoRRQ8JDFELVQz4DGUInQFA/Sn5QvaI9NvzvPNo8YjrteaG5IPiQ+GH4f/hqeaa6jrqAOzs7yn36QF+CJQFygP+BigKRg7rEy0VEBm3HL4YgxTRE+kTghScFKsSDRBuDKoJ0whgCD4GnwKE/Sv33/MV91H3ovOQ79brCOl250DmU+gO7dPsm+pU6ALoXe0S9JP3I/3oAYsEZwdgCI0K0g3iDi8RzRGWElEVCxZeFHUTIRMcEc0Pfg+JDI0K/wjmBxoFWQHL/Yr7/Plz+dr2AvNd8U7w+O6x7b/tl+sD7fTx7O4J6jLtL/F883n0IPR6+LL62/zPAecE1QWsCfIKaAqkC4cPtA5GECsRlxFuEkAQdQ9dDccNsA1gDHYK/wdvBMoD4AK//1f+Vf0X+pD6y/im9o33Z/WJ843xhu8l7xfz+vPx9M32LPVf81PxRfMw+Sj8m/v1AAv/pQA3BUQA9/+5BN0JbgqzC6EHDghNDfwNcA8FD8QMiAtgDB8KaQnhCW0KvwnZBzsGpQCN/k/85fx6/CX9Yv0c+lz4//Q387DydPLu8u7zhPfo+P32hvKD84X28vjR+LX3HPkR/Pn+0P/8/3D9uf5dAaIB/QNZB0UH/QrRCmwFsAXPBXIKYgoAC/YKMgiRCCQETgNlBCUG8gScAkUAzf6c+8T5wPpX+iL98vzN+NX19vb09jj07fWy98b4LPrl+Cf35vbY+Bf5n/ov/8//CACdADn+hv4MAFwBNwLgA2YENASLA0YEhgW6BZ0IBwh3BVgDVwRPBOkEaQWsBdIFfQNAAuv/Bf5q/fL+6/9F/7T9ifxG+8T7r/tU+5v8mPyE/Of7wvsg+/P7ofzj/J38zf1u/lP/n/+E/lgAJQAQAcoB2gJ5AUcBmgG0/2wAHAFHAnUEsAICAUf/6f5q/3EAAQE1AuICwwGPAjUBFwBH/0kAYgFTAhcCogG+AQcBzQEIAUgBbgF5AfoBNgHZAScCcAJ2Ax0EzwNiA7QCZgIhA4QDsQNaAnwC1wLZAzQDGQNkA2YDmwPqAhIDRAOjA1MDCAP9AgQDxwJ3AnYCkAJ0AvYBCwJ0AiUC8wH9AOUAKgFtAGMAQgBHAFAA3P/v//v/EABNAEEBcQFpAYIBagHFAdMBDQIGAgwC/wGuAeoBugHvAVkB7wCwAFkAGwCc/7f/EQD//wsAtgBKAPf/vP+s/7T/nP/i/9X/LwDy/zIAYQCGAGQArwD5AJEApACGAH8AVAAAAOH/2P+T//z/yf/8/xIAzP+n//7/q/95/17/Nv/T/nb+S/4w/hz+nP2o/Tj9oPyv/Ij8HPza+/D7/fvD+xf8KPzG++b7WPxa/Fj8oPz1/Cb9Uf17/aD9Uf6f/tT+Nf/P/xkA3v+5/7r/kf+C/0H/Sv++/7b/eP8v/yn/Jv8P/9/+oP6Z/h7+Jf5L/ln+nv6//o3+pv4v/4H/dP+//7n/0P/x/9n/sv/N/wUAEAAhABMA2f8FADEAJQDH/2L/a/9C/wn/JP/c/qb+Ef/3/kj/H/98/zn/uf/A/wkATwCLANQA5ADsABwBJgEnAT0BeAFEAVABPwHsAPQAogB2AF0AOgAuAAkA8v/+/6P/1P8TAM7/1f/E/9z/KACNAEIAEwAQAEYAfwBBAD0AEwBNAI0AfgBNAFIAMwAeAOL/bwBDAOD/iwCIAAsAdwA2ACUAWABEAEUAaABHACUAbQBHAIMAbwBtAHIAcwByAJoAwgDdAKwA8QDkAMIAxgDIANoAqQB2AHAAYABBAFoAJQBXADQAGQAxAOP/tP8NAOj/x////7v/OADu/9f/GgANACAAJwDL/0UA/v8zAD0ATABHADIAOwBjADgAIADq/xcARQAAACAANwBQACMAOgA9ACoAMgAfACMAGAARAEAAMwApACwA+v9AADIAEAA0AGoAIQAbAEQAHABBADwAeACLAPL/OgBHAF0APgCHAIMAbACdAF0AVACaAIEAfgCVAFgAhAByAHsAWQCyAFMAkABMAG4AIAA6ACgADgD9/yAA+v8JAOj//P/r/9r/vP/c/7j/t/+J/7H/3P/U/5D/h//C/47/Y/9I/3X/n/85/6H/Mv+N/2r/O/9D//n+WP/g/g7/Cf88/1j/Mf+o/+3+i/9e/3v/u/+M/+X/rv/U//7/BwAcAFkAFAB4AGUANgDEAE4A3wBMAAAB+ACeAPsAmQA0AZQADAHoAGUANwFB/7UA5P+HAFsAEgDrAL//xwArACgALgGV/6kAzwDt/x0BKQCHAH4AZQB0ADsApgAfAEgAegD5/3EApwCAAFUAnABDAIsA/wBFAIYAwwCJAJ8AIwDp/xEAawDk/0gABgDn/00Aof8LAEoA9f8zACkAvf8/AIf/RQAqAEIAiAAiAJoAPQBVAEAAx/9wAOX/0/8NAJf/NwDV/wAABgDw/wAAqv/i/3f/nf85/4X/Uf+a/yj/Wf8V/5z+Ov8v/gj/u/5O/vT+Bf64/t3+Zf4P/3v+Jf+5/jj/kP5s/5H+J//l/tH+Rv+z/vr/lv4fADD//f8LAKb/lgBF//YAwv9pAJsAyf9kAd3/8AAPAHwAsgAEAOgACgDYAEAApwDgAAUA8QDQ/84AwQD7/yEBIwB3AN8AmQDr/wkBHACwAC0AkQAiAMMAzgCGAPAAgACCAPgAAAHMAL8BDwHRATwBSgGxAFIBkQBoASsA6ACZADkA9QDc/60AIwBuADAAff9dAE3/1v/l/0r/+P9C/1H/+v+i/x8AOwDA/2UAEgAJAA8A/P8KAOr/pQAjAC0AIQDF/1QA6v86ALD/UwD7/8T/PAAPAAgANgAHAMH/igA6/1YAmv+x/08AGP+oAB7/FgBQAIH+IwFK/l4A7f9h/yQA3f+X/3MAwP/iAHH/MQDtAEf/HAINABoBugGL/6sBpgCrAAUCxf4VAz3/1QE1ARAATAJFAIn/9wCMAF4EhwFcCU8EwARQBuT+7gOx/UoBBf9z/+L/QQD0AF8Bwf8GBK4AAANHAEUAFgIa/oYBdv/iAb3/pf9fAfoB+wZx/3IDkACV/kz/Ov98/+//4f3mAIn/KwHp/lMCSAO5/WgE9v4wAXAAL//PAGP+hAA5/MEBE/0q/zMBuPtqAnT9nAFY/sgDEgIL/wgGR/yaAND8LP1i/fH62Pni/ez62/sg/fn80v/d/SH+rv0m/1T7Ff6G/bf8IP0t/yn8wQA9/lb+qgAhAJ//kACOAd/9CAFQ/nb/LQAn/3UAN//9ALD/YgGEAF8BLgBdAd4A3P8VAZn/0wK1/6j/HABHAtv/kgD1AIsAAQJgAAcBsQKj/7MAqgBfAPL/ygDS/9EA+gAfAEkBvQAVAOf/R/8g/2X+q/3A/+f+gf1JANP+oP9v/2L/RgAAAaD+ZgHSAdEAUAKmAEwCAgNjADQBfgPZARgCsAP/ADADhAEJATkCUQF2AOAA3ADb/uP/GP+a/n7+Sv38/e/99v2p/b7+kf6e/k3/AP+h/5b/TQBVAUsBGAKJAnoDugN6A4wEPgTOA/0C8wLiAfAAXAAo/6H++fwr/P76qfnk9872P/Vf9FH0wPOI9MD1hPfb+Sj9jgBcA2cGcQlkC2gMYQ07DScN5ws1CokJawidBqoFzQTNAy8COABv/qP8yPnA9kb0lvEh7/jsP+se66Xryu3c8df2+vtFAUQG2grUDfAPzBAdEWcQPQ51DCoLKgmYBxgHxQYAB0EH0Af4CCIJAgn0B3wGXwRIAUr9O/nM9CnwK+w66aPm8eQt5cLml+uh86H5z//eBlUNOhFxEikTiRJvEAMNbAm8BjsEDwJTAaoBcQLCBLEGMwl2C/gLVgzGCw4KIgePA1YAjfxt+FX0mvA97kPrfOgy567mWuYk6VHwBfcY+9sAVAiLDdAO3Q5TENwPwwwOCSkHXAUWA3MB5gE0A9MDrgV0B80JfgsgCwALLwqlCE8FkAFL/tz6pvYU8lzvYOzd6C/mPeQ/43Tkc+uC8wr4yf4gB7sNzhDBEFUS4xFcDigKNgfmBGcCQwAjAP0ANQIVBRMINwprC/gMVA0gDGYK1QfJBDMBrf3M+Vv2Q/M/8NftIutc6a7n0OVL5ArqQ/RI9wH7gwPTDBwQrQ1xD+YR3g9SCrgGlAbRBMMBYwCaAb0DrwTGBvkIzgp0DDEMgQuICrcIlwURAg//xfs5+OD0xfEw71LspOnv5Yfjt+Ge5EbvtvRZ+MMACQuoEVoQvBAdE4kRyQyXBs0FNgS+ACv/NQBjAvMCGAWXCCUL4AzXDQIOaA0uC1oIsASkAIL9/fmB9mfzjvEO7+LqcugR5m7jZ+FH5wHyefb9+WYDqw3CEWMP+hAOFBoS0Qs3B54GKwRsAOf+BAD3AZMDBQV3CBMMuw0sDk8OEg4ADP0HFAQ/ATz+ZPp09o70ffK17yrtgOnq5gnl/uG45MvvbvVO+ej/swpfEc8PaBD/EuoScQ1bBwcGyARrAYf/6/9oAisE/wS3B7oLZQ5lDhEO8A4bDeII9QRwArT/e/sP+Dn1yfPz8GHuvuu56Inlt+KL4Qvp0/Iz9Zz6SwQCD9YQuw7TEQoUCxFKCpQH+AaNBCYBc/9vAMsCEQSeBfUIZQzCDXMNDw49Du0LrQd+BCkCN/7L+WT2SvSu8cXu5uyH6obnIuXa4krjAuwe8xv2XftqBWkOPQ8tDt8RBRSFEA0L3Qg6CIUFEwL0APAB/AKEA6AE4AfmCx4N7gz4DaUOpgzqB8sEmgKN/hL6x/am9SvzS/Aq7pDrP+ky5gfkO+Om6tTyr/Ty+OMCXgwQDhQN8BCiFKkReAyiCrQK0AcHA/UB+QLTA1UDdASOB9EK+wv9C1oNBg7gCwAIzgW7AxwAH/vn9931TPM38FvtuOuR6W3nkOTw47LpzvCP8vH1+P7YB90KAQp9DvcSqRF7DcsMbw0mC/EGAQXSBaQFVwSGBCQHVwlZCYQJugtHDEcKYgdzBfYDzP/b+4T5jvfV9Bzyf+8e7ufrwegp5+nl7+hB75nxAvQT+xwD+gavB8YKmxA7Ea0O+g0VDxsOZwqGCPcI1wf2Be4FIwcmCIkH0QdkCRkJ4QYWBf4DHAIn//v77PlR+AD2X/NN8m7xVu+O7RHtOuyF7a7xxPKV9A/5Gf6pARcDAAZfCvgLVAsZDMoNuA0GDAkLawvmClAJyQhdCecIbAfrBgsHDgaLBNUDZQOCAvwAAABJ/+/9aPwd+7L55PeA9Zbz6/Hq71nuJe8s8FLwnPHS9O/3+vl6/DQApgPQBXMHqQmhC1wMogw/DcgNbg3CDF0M1gvBCrgJEQkkCLMGewVmBC0DrQFYADj/zv06/M36bvmr98b1KPST8pfwhu6H7YftgO0i7krwHPOE9Wn4qPtQ/3AC5QRbB/8J+AtNDRcO4g5ID84OKg6nDekM9wvtCuUJ4AiVBzAG0gRlA/UBYwDl/nL95PtI+qX4/PYL9SLzJvFQ7+vtMO257LrsK+6w8CHzkPXM+ID8AwDzAioGCAl1CzANbw6pDxsQ0w99DxIPYg56DXYMYQsgCrMILweEBfkDrgI7Acn/iP44/ZD7tvkZ+H/2kfSR8sTwNe+p7YjsjuwT7R/uOvAI88n1J/mE/PL/8QLaBXUIqQpwDKkNgg4fDzwP8w5jDrwNCA02DEwLQwoUCcMHbAb5BJkDJAJ/AAr/hP32+3T69/gy92T1bfNt8anvMO4c7eLsH+0A7m/vrvFx9Gv3jPrJ/QcBLASmBiAJcwsJDTUOGQ+wD+kPlQ/XDhEOVg1jDDcLJQrTCG0H/gV3BAkDqwEnAMr+Xv3a+1X6r/j89kP1UPNb8d/vWu457f7sg+2V7kHwe/I+9SP4Z/vA/gcCAQWHB64JDQx/DWEO4g48Dz4Pvw76DVcNiAx+C3EKRQkmCAYHrgU/BPUCugGAADv/Ev68/EL7v/kQ+DP2T/SQ8s3wKe/j7Zrt0e1i7tHvH/Le9LL30vpQ/msBMQTIBhsJOgvdDBMOww4QDwoPqA4ODnINogyKC7MKpglnCOkGggUtBN4CawExABT/8/2S/AL7cfnL9wn2PvRj8tvwTu8O7pPtAO7e7ifwBfLK9Kb3qfrC/e4A+AOoBuMI/wqqDK4NiQ7+DgsP3w5TDo0N2wzsC98KvwmiCIYHEgaqBHMDGwK7AI7/HP6R/Av7Y/m+9xH2XfST8gPxx++E7pjtve177q/vjvEb9Bj3Fvoz/WoAnwNUBqMI4ArQDPgN3g5ED1oPOQ+gDtYNTg1cDFELPwoMCdAHTwavBDADxgFaAO3+jf1F/OX6L/mO9+f1RPSO8vzwZO8U7lntje1p7prv3fHo9B34EvtD/tEBuwQRB0gJUAvnDAcOjg7sDhsP2Q5tDh8OoA3uDMMLwgprCcgH7wVABLQC/wBf/7r9Xfy5+gz5WPe99dzz+fFh8CHvUO5r7Yrtie/S8CXyaPV79y/7WP3W/3IDvwU8B6sJfQsqDRMOcQ5PD0sPhQ9iDjwTlhgoEpEVHQ+JCmkF0P82AAn6dfan+PDzSPUD8Fzx0O4A61Lo3+bL5bjjYeR86+nuuPLG+vwAtQfjCYQNmxFbEbkPlA+ZD30NQwyFDGENSQ0rDHgORA82DvYNww0vDOEINwaIA7b/a/sa+KP15vHl7e3qPOjz43Dgqt9O3UvgR+gL66jzLP1WA0ELgQ71EVYVfRMVEgsSzA9KDRcNhQxKDI4M0QsWD0wP2g3KEQkQhg4JDakJnQdWAlr+Wfu+9lPyAe+26zDnWeKN393cmNk62iLiMedt7NP4bwHfCCwOgxGAFjkVhRKwEhcRVg0EDLELlApCCp8J0wzTDWMMyxBvEOMPjg55C1QKJgQL//b7E/bj8H7se+hx5M3eiNvH2hHXzde44UrnYuwB+0ED1wr4ENoTBxmbF6oU0BTaEiEPIA3kDCgLmwrzCUAMew4sDMYPOhL1D94OgA2qCn4FEADM+zL33/Dt61zpUORL3sDbkNrN1kDWduB4593rWPoWBEkLkRFYFGcZthjEFB8VRRQ1D2MNZA1YDOoK+QrcDGQOgg+5D7ISkhLrD0YQdwz5B2IDx/1k+UHziO3y6fjls99a2wLaXNdb1Nza3eUf6PzzpQGnB80PbhNAF/wZBBZhFEMVIRH4DGUNMgy6CmcKJAsgDhcOqA6RE8wSkxFXEngOvQu5BpMAt/yh9nzweuzf597iZd702eTXfdVY05TezeZT6lj62gPbCiwSYhV6GV4ZZhUxFccT1w4LDbcM/wpSCokKvgzvDTAN1REWFOAREhP5EOkNrwkTA2b/OPo48zrud+rp5VbffNuG2NnUa9G712TjcuWi8NEAOwdvDukTExixGbIWXBTZFKQQUAykDN0LmAkfCtUKYQwUDkgOaBLWE1cTXhITEDEOAAigAgf/U/jt8rfuSulz5bLfjNqG2MTUY9E82QXkuea88zYCVQgAEGQUOhgZGdQVzBMcE2kPYwuHDOkKuAjjCeIK0QvLDBUPxRIeFZ0SwhKSErMMqAd7A3r+DvjB8nbuIep35VzfU9sc2SLUxdGa2jTl0Oa19GEDrghdD3ATdRe4FzYUuhJzEsgO1AoJDN8KzAixCVIK5wuTDUUOWxFwFYMSkBFtEgYNxAeDA8L+V/kJ9EDvXOwV6GThs90g26rVqtFd2KPk6OR+8A0B6wWMDCsRnhWhFlcTFBGUEXAOtglYC/AKtQiCCaUKgAsZDXgPTxFQFDAUKxKKEg0OQwkPBYcA6/sf91Py2e2y6mnk6N7J2zHXTdNU1JTgL+T56SD8+gICCUoQmxPUFV0U6RF8EKIPNwu9CbgLbAnWCCMKdQs3DLENvhDCEl4UYRItElEQ9gmbB8EDBv6m+if3ZPKQ7tjqLeXg3svae9ec0r/XnuTX5VfwIgECBYwLgRFYE1IUuxI9D3AOyA3tCKEJnQslCfkJ0gvNDGsNdQ9qEVUTAxNKEDoRzQ24B0MFCANq/c35/PdB82fvgOvT5IfeYNo91j7Sstpv5PfkIfPHAYUEkQttEr4TvRJEEtIOvw2rDAAI7AlCC6gIqAnpC3oMOw1SEMUR3BJuE64QThAhDZcGmASGAtn8vPrA+C70ZPBN7B7mGd+B2xrWP9K33WLk9eT39nwCzwTgDAQSZxN8EjUQIw1JDnAK6gaRCgEKYQf0CZQMSwwrDTIQYRJDEzMRPRAgEG0KWga/BKcB4f0A/Nz5S/ZI8wzuuuhR4Wrbjtc/09na2uRb5OHyOgEbA7oK0RCvEecR7xD4DIQNFAyzBtcJNwtOCLkJWAymDNUMpg8tERwTkhD9Dn0QgwqnBhQFGAMKAAv+SP3F+kf39vAs7ajletxK2S3U0tW74t7jNuwL/1MChgc5EGIRKRGPEV8ODAtpDO8HfAaNCkEIAwgvDCcNqAz2D0cRkhFHEgAOfA6nCzIG0gQgA20BAABY/7P9FPvc9u3w5ern4TLbdteB0kTayeMa5JXzOQAsBJsLWxDcEWYRTBAJDCAM2gr4BWgIOAkmCLcJxwsaDWUNfg8KEJoRKRBDDXgNaQkQBgcFIAMGAkQBWwBB/pn7PfaB8G/qFuD82VPW7NFG2LPjhuSC8t0ATQRtC4oQphGuEXUQqQviCvAKlwWnBhkJGQgiCQ8MUw27DRsP9A5JEHkQVgrcC30KUgTXBJYDGQO/Aq8B3wBa/l35jfLV7XLjcdqd1//QqdOb4KDicuyV/YgDVwoZEdUR9hJwEfkMSwp+CssFHgWPB3gHIgnxCmMMRA6pDo0O4g6JDg0MkgobCpcG/AUnBqAErwX/BLQDgQK2/VX3/fF/6QrfFNn505LPH9ce4tzjGvJTAO8EpQ0HEVwSBhOXELsKdgnhCTAEOAWSB7wGGQkYC4UM5A0gD8YNDw7iD6YLxgk8CzYH+AbQBhgFrwb2BXEDZAEY/sv2YPDj6I/eCNjT01rP7NXU4mzkEfGhAA8G6AzhECQSyRKVEB0LJwiJCS8ExgNLB+YGFgmiC2cN1w2RD/AOzw7sDusJIgtKCjEGtAZ3BvsGgwZABtME8wJz/hD4xvL56djgaNlf1DXQDtPa4L7kSu3K/ZkE5Qz7D7URrBNbETsMmAhaCYUFcAQbBiIHqAk0CqoMfg4fD2EOmg03DY0M8go8CVMJOwgICBYIywdVBzUHCQTJ/yn8iPSL7RHmWtxC13LTpM+Z2SrljeX/890BAQaYDhIQvxE0E0wQGAmXCEUJXQQlBokHJwhxCyANXQ0MD/MPYg2oDMENagvWCTUKOQjzB2EIJgaWBj4HQASVASb+mvdh8Qvra+HF2T7WydFR0vre/+Sv6hH7VQKXCrgPyg+9Ej8SIg7QCHUJuQcGBb8GXgbcCXILFwwLDo4O5g6MDFELOwkRCWwKdQcFBx8JXwjpCO8HdQY6B8YE0v1d+ej0Tey25Bfdidao1HjSKdgo5a7pAvQzAZ8I2w7+D4ERrRGID4IKPQclCBkGkwX3BvkIKQs8DBgOpw4jD+0NZgutCkcKkgriBokGQQg/B2kICQe5B3IH3gMGAab8IffI8MvpZuBU23/XmdPr1IPgFOiv7f76tgIVCzcPCg6XEIMQ6AxgCDQIogeABp8HrgcOC8wMSA2/DtAOTw6bDE8LIgs+CsoIogZaB/YHkwbbBnAHyAbMBUwDuP71+pP01ezA5tzeu9hf1n3TXNmP5Y3n//HT/nQFhg3QDasPRxJpD2EKmghICS4HyAelBxAJbgxcDEYNfQ5FDloNMQtFChEKdAlyB5sFQQcAB3wH6AYOB88HOwaaAoz+SPqx9H7tIuZE3x7a/9aG00bYpuV+5/XwLf3aA3ANGQ1jDk8SARCTC8QImQkQCDoIDQfUCIcM8gvEDHUOZA4qDlkLKwm0CeMIFQgFBt0GrwdtCJkH+gZOCIEGMQP7/3r7u/ZC70bo7OHy20nX99QA1bHhQecI6576qgCNCYwNMw2zEMcRpA1ECmYKRwq8CGoJYghuDPEMYAzyDYgO1w3dC2QJ4Al+CI8HkgUeBdwGoQZ+BmcGhgduB0kEGgGf/Wr5EfNb65TlGeBg2ozXP9V029rnRujx8iT/hwQ2DXELSw6eEl0PlwtPCrAKvgl9CE0I5AmhDFgLZAyGDSsN0wxGCggJBQn8BlQGLwWSBX8GxQW/Bq4GDQdNBbACUwDH+4L20vAl6lLlOuD124baWtnP3E3qaesS82L/BARdCxgLMQx3EQsPpQxtC+cLOAz9CZYKWQtEDHMMzAv7Cy8M/ArQCDAHrwe5BlQG1QUfBjcGjAb8BVYFJQWdAwwBdv5i+vn1wfGQ7Pznc+SZ4Frfgd5J33rpzu1f7w/7E/83BZUI1QfeDXYQtwxTDhYOpQ1rDjsMmQulDK4LnwrKCYYIqAjdBjQFSAQzBNcDYwNAA1UEIwTEA9wD8wPeA3YDkQJnAXH/5vzi+ab2nvM88EHtiup+55XlUeZz6cHquu2R83z5K/wOAFYErwgpC6oM6g51EMoRjBHuED8QLxA7D/cNpwyaC0UKrwjfBi8GpgVuBLMDDQPIAjkCbQH+APYAPQDT/gX9V/te+a/2RfOA8Eruxetg6FTmHOUw5zDqwOtC72z2Zftl/lYCPgfgCiAM4Q2KD/MQjhEGEe8PSA9BD94NWgwQC8IKvgihBkEF7QQ/BBQDgQJVAlEC1gF1AfoAGwG4AOz/x/4Q/Sr74PjB9cnyEPBB7QfqY+fl5Nblbum06k3tCvQc+rP83wBMBWIJfwsEDZsOaBD3EIsQ6A/VD18PNQ7jDPEL8grrCRgIUgYcBbwE/wNqA+ACqQJnAuwB6wCIAHEAJADq/kX9Rfvt+Or1svLR78vs5Onz5u3kzOQ66Ubqa+wq80r5j/vf/3MEzggWC+QMzw6mEGkRVhHaENUPsg/0DpENCAxuCzkKXwheBn4FHQXhAyIDjwK/Ah0CbQGlAMoAYgCT/zv+vfwJ+4L4pfW58qrvpuzb6YbniuWn5Zvpt+qB7BPzA/kG/DUADgUkCdoLKw4IEMARbxIOEn0RtRBXEHEPTw6qDKQLGwqwCIIGCAXPBF0E6ALyAQ4CLQKEAUMA/f8kAJb/2f1z/O76N/k79hHzPvDI7drq2Ofm5Q7nb+rf6nztFPRH+VL8xABVBegJqwxWDrUQNRLlEucSyxH5EFMRBhCSDjENGQzRChQJAwewBfgEDQS3Au0B1wFVAXAAn/86/87+Cf5h/PX63Pi29j/0VfFq7jDsnun15k7mkegF6xrsI/Dz9Sz6wf1IAgIHVwsiDoUPiREEE0ATxhIIEjoRixBkD6MNiQycCw0KVQiqBpkFoARAAxICgQHVAAYAKf+V/hH+Pv0h/NX6Nvkp97n0ffIH8L3tnOta6eHnn+hw603s9e5f9CP5pvylAN0EoQksDQAP3RDKErgTnxMqEzcStxEREZ0P+Q3bDDYLbQmfB+kFjQRyA8QBiQDB/3j+Q/2S/Lb7t/qZ+RP4ofYH9RDzxfCR7ovsuOr76BTo/+mI7OjtIPFN9nb6Hf42AqsGxgrdDQwQxxGFEzwUJBSOE38T2BIIEu0QlQ9VDpoMRAo9CE0GNwQxAjEAkP7W/A/7OPnP97D2efUd9Arz0fFV8P7umO0u7D/riOpo6rXste6j8FP0vfiI/IUAMQTsB7ELsw7tEOASZBRWFZoVNhXqFDQU6BJ2EdkP1Q2+C2UJrwaBBF8CDwC9/c774/kj+Jb2JPW082PyGfHz78/une2g7B/sQOvn6knr6Ow271rxW/TK+B78df9nAz0HwgqLDc0PNRLcE94U5hUOFiUW2RWXFAATqRG9Dz8NQwp0B9cE9gFf/9L8ifpc+H32pPQP87bxv/Cn787uBO5e7e7sjuy/7FrtQu6n74fxHPT59jD6tv3OADEE1QcPCysOshCWEl8U2hXyFf0VoBXfFN4TaRK0EBgP5ww2CnYHeQTDAcv+0PvI+YT3VfWm8yfy5vDm7wLva+4N7tntce3Y7ZruQe9n8AHyR/Ny9eD3W/ql/QgBuQO2Bp8JQgxxDioQqxENE5AT4hOpExsTTxI0EeYPcA57DJAKTQjFBVsDqgD2/WT7HvlH95f17POI8mTxm/AK8PPvV/B98MfwkfGh8prz1vRI9sz3nvna+9T9AQBcAoYElwavCFwKxgsCDdYNgw7tDskOdA7iDTENgAxwC24KUQmpB1MG7wQ7A2wBjP/A/S38nfpY+QP4+fb59Qn1hPT187vzI/Qt9Hv0Q/XV9V/2Evfz9yT5b/rj+1X9Nf/nAFcCtwM5BW0GsgfdCLAJZgrKCgoLnAtLCwoL6AqnCtcJtgnQBWoFJg2UCIcAa/+1ADX/Zf7G/FD66/hO+cv4Yfd69nn2cvba9QD2o/ZA99H3k/gj+SP6Rft6/Jj9Jf+yAL0BgwK6A9AE0gVrBq0G/QZ4B4UHmgeHByAHxQaGBiMGbAXYBBcEGwM2AokBrACN/6n+/P12/YT8gPve+lj65Pma+SL58/gT+SL5OPmw+VT66fqa+0T8Ef0U/t/+v/+zAKYBhAIhA6ADQgS0BAMFKQU6BTcFMAUjBR0F6AQxBfEEVwToAw8DLgJAAYUAHwBW/+f+Zf46/gL+tv2P/UT99PzH/F78nvym/Lz8+Pww/bT9O/6O/vX+XP+9//n/QABkAIkA6gCPAZEBnAGdAbgBuQHoAewBjQJ6AokCWAIYArcBZQELAd8ApQCCAFcAMQAHAMr/kv+T/13/D//Z/qz+mf6M/mz+Sv4v/lL+Zv6l/tr+O/95/+L/+/9GAI0AuwDPANgA4wD/ACQBLwFMAWkBWwE8AS0BYAFhAVYBJwH9AKsAXAAJAML/lP9f/yr/D/8J/+z+zv7+/ur++f7a/vf+9/5W/4r/vv/Y/zsAZwCrALcA2wDwAAYB0QDCALAAjgBkAGQAagB2AFoAYwBJADwAAADG/77/yP/J/9v/0v8QAAIA5f/B/+r/DQADANj/zf+//6r/dv95/5n/uf/K/8v/yP/c/9j/0v/e//3/DQAbAB8AGQAKADMAPgBbAHEAfgCMAH8AZAB/AGsAXQBNABIA7P/C/5f/b/9J/yz/Cf/X/rT+c/5Y/nD+ef5v/lf+Uf5W/mb+Y/7N/gv/dP+c/+P/AgBWAHEAoAC4ALgAxADYANMAsQCYAKoAqQCBAE0AKAAIANz/tf+d/3L/W/9E/yz/Kv8W/wb/Fv8E///+4f7g/ub+/f4F//3+/v4C/wz/Hv8s/0D/O/9A/0r/Tv9f/2T/dv+P/5z/qv+8/83/3f/t/wAAFAAjAC4AKgAmADEANQBNAFgAYABhAFYAPQAeAAgABwDz/+n/2v/I/73/ov+T/4P/dv9i/3n/h/+C/37/fP+J/6L/sf/R/+//+v/9/wYADAAMAPn/DgAAAAoA8/8DAPz/8P/U/9P/0//X/9f/1v/j/+P/2v/c/+P/5f/z//T/8//7//f/7v/0//H//v/6/wEADQANAAoABgAAAPf/AAAMABUAJQA/AEQAQgBAADkAOAA2AD8AQgA/ADkAKAAiACAAIgAMABQAFQAdACQALQAvADMAMABIAEkAQQBCAFMAXwBoAGwAfACGAJUAngCnALIAvwDJAO0A+gABAQUBEAERARsBEQEgARMBFwELAQ0BAwEFAQYBFgEcASIBJQEuAUUBTwFcAVcBSwFCATMBLAEUAfsA3QDJANAAzQDJAMYAxgDCALMAnACTAJ8AqgCgAIgAgwCFAGQAXQBxAHsAdwCKAJEAlgCWAIUAnQC6AMkA3AD2APcAAAH4AOYA7QDzAPcA8QDQAOcA6QDpAPkA8QD2AAsBCAEIAfsA9QD6AAsBAwENAQEBEwEdAScBHQEsAS4BNAFHAUQBPwE4AS0BKgEuAR4BGQH9AO0A6gDUAMUAwgC7ALMAlACHAIEAfwBxAHAAdwB8AI0AmQCdAKoAswC/AMYAvwDSAN8A5wD0AP0ADAEcASQBLQErASIBHwEbARoBHQEXAQoBDgEHAf8A+wDtAOMA3wC+AKcAmgCSAIYAdQBjAFgAXwBfAFgAUgBXAF0AYQBaAFQATQA8ACoAGwAOAP3/6//Z/93/3P/Y/9f/1f/X/9X/0f/T/9b/2v/b/+T/6v/e/9H/wP+8/7D/p/+g/5b/jv9t/2n/YP9Z/1D/UP9X/1X/Vv9V/0//Tf9P/1X/Vv9Q/1H/Sv85/yn/Hf8U/wz/Bf/w/tT+xf67/qv+rP6m/pX+kf59/nH+bP5c/lL+Uf5d/mD+Y/5s/nH+bf5z/oH+iv6x/sD+0/7g/ur+//4O/xv/Lf8u/zP/Nf83/z7/UP9U/2T/a/9u/3v/f/+D/5D/m/+p/6P/of+e/6T/rf+w/6j/sf+9/8D/wf/J/9j/6f/u/wUA+//9//3//f/+//v//P8HABoAIQAgACQAJQAlABwAIQApACgAFAACAAAA///8/+X/1v/V/87/vv++/73/pv+d/53/pv+r/6f/rv+4/77/wP+1/7X/vv+4/6f/pP+Y/53/nf+a/47/ff99/4X/g/9+/3T/ef91/2T/YP9U/1f/Yf9q/2b/bP9k/2H/af9u/3n/dv96/37/gf+D/4H/dv+B/4r/kv+a/53/ov+x/7T/uv+z/7P/sv+z/7r/wf/G/9//5f/t//b/AgAJABoAHwA+AEMAQgBKAF4AZgBnAGcAbgB1AIAAjgCTAJIAiwCFAIUAjwCTAJkAogCuAL8A0QDYAM0AwQC2AJwAjgCMAH4AawBgAFUATgA7ADAAKAAnACYAJAAWABEAFgAXABoAEwAZABoAIwAkACAAGQAUABIAEAAVABIADwAWACEAKgAqAEgATgBdAGoAdwCBAI4AigCLAIkAhwCIAIMAfAB9AHUAawBgAFQARgA5AC8AJAAbAAQA+//u/9v/1v/d/9//0f+//7j/vf++/7L/qv+f/5H/a/9b/0b/N/8l/xT/Ef8O//3+9P7q/t3+0/7S/tP+4P7v/vH+9P77/vv+/P4I/wn/Hv8i/yP/Kf8r/yz/N/9G/0f/Pv81/y//JP8l/yb/H/8u/zT/O/9Q/2b/df+D/5n/wP/L/9v/7f/u//n/CwASABkAFAAaACIAIwAnADAAMgA7AD4AQgBCAD8ARgBOAFQAZgBiAGQAXgBfAGMAbwBpAGkAZABlAG4AaQBhAFkAUwBDAEcASABEADkALgAzADQANgAxADEAMgApAB4AFgAXABsAFwAKAAMAAwD//wUACAAHAAYABwANAAgACgAPABMAKwA7AEcASwBbAFkAaABpAG8AaABpAGsAbQBoAGUAYQBOAFIATwBSAE0AUABSAFMAUgBPAEYARgBGAEoARwBEAEEAQwBBAEMAQwBDAD8AQwBXAFIATwBcAF0AXQBoAG8AfwCDAIwAkgCUAJUAoACfAKMArgCnAKIApgCoAKEAmQCnAK4ApwCsALIAsgCnAJ8AsAC+ALkAuQC9AMAAuwC/AMYAyADFAMYAxwDHAMgAxQDHAM4AzwDSANEAyQDKANAAxQDDAMIAxQDBAMwAywC9AL8AxADJAMwA0wDPANMAyAC/ALMArACpAKYAowCdAJYAjQCMAIYAggB6AH0AeAB5AHoAewB3AG8AaQBiAGYAXwBTAEIAMAA0AC4AJQAYAAsA+f/8//3/9//p/93/1//N/8T/vP+z/63/nf+c/5T/iP+C/4n/jv+M/4z/nP+x/7P/wv+9/8z/2P/X/9j/2P/b/+P/5P/i/+n/5//x//P/9P/t/+r/8v/5//z//v8AAAAACgALAA4AFgAPAA8ACgAKAAsAFQAcACcAJwA3ADkAOgBKAE0AVQBZAFkAUQBRAFMAWQBjAGMAZQBoAGkAaABqAFsAUgBIAEAAPQA5ADAAGAADAA4ADwAFAP//+f/6//n//P/1//T/+v/2//v/AAD8//f/+/8AAPz/8f/5/wAA/f/5/wAA9/8AAAgAEAAIAAIAAAD//wAA9f8AAAAAAwD///7/8P/z//L/7P/p/+P/6f/S/8n/wf/E/7L/sv+o/6L/m/+U/5z/kv+M/5H/lv+N/5n/if+B/3z/e/9k/2j/Zf93/2T/fP9q/33/a/+N/3n/jP+I/5T/lP+C/5H/kv+k/7T/uv/E/9n/2v/q/+//8P8TABAACQAKABIADAAKAAkAAAAEAP3/8//s//P/6//4/wwA/v/v/+X/8//s/+n/4P/r/+f/2P/W/9r/2P/I/9n/1v/X/9b/2v/Y/+P/4//h/+L/5P/r/+f/6f/i/+3/2//i/9j/3v/U/8r/1v/N/83/v//B/7n/uf+y/7f/uP+0/8n/z//U/8n/zv/e/9//1f/K/9j/wv+9/6P/ov+N/4v/iv9//3r/gP+M/4j/ef9x/4L/gP9y/3D/cf9x/1//Zv9q/1z/Tv9G/0L/Mf8p/yP/QP88/xj/EP8T/wr/Ev8B/yL/LP87/07/T/9o/2b/jf+i/6P/rv/C/8T/xP/P/9f/5v/t/wYAGQAcABwAKQAwAFgAeAB2AJkAngCnAK4AugDUANYA2QDjANwA0ADWAN0ABgEVASsBJwE7ATYBPQEhATgBMAE/ASgBHgEXAQYB6ADWAN0A3QDaANgA7gDbALAAtQDUAMsAtgCuAKoArwCZAKAAkgCEAI0AkwByAF8AbQCHAH0AYgBwAG4AfgB8AHIAewBvAG0ATwBUAFcASwBBAFkAYgAyABQAMgA7ABAALwA9ACgA6f/y/93/y//A/8X/4v/E/7z/vP+0/6T/qv+J/7b/kP+a/4D/e/+W/4T/jv+n/7n/1//m/+r/4P/u//L/AwDw/xYAHwARAP3/GwAVAOz/3v8KAAMAzP/t/xMA9v/4/wgAFQD1/8//7/8sANX/2P8JAEYACADi/wsAOQAfAB0ASQBdAFgARwBxAHcAZQBBAGoAfgBcAEAAdQCVAEoASwBoAIQAYgBJAIAAkgBYAJ0AqwCgAKIAdQDMAMQAlAC2ALQA3wDkAJoA1wDXAOsAxAC8AOUAtgCPAKwAqACHAHYAuQDGAKoAsADSAN0AnACvAKEAogB5AJ0AhgCPAGEAdgBcAEQANQBcAGsAWwBAAGkAVQAjAPX/DAAGAMr/o//O/8L/ev+E/8X/p/9Q/2r/8P+k/x7/cv/N/6n/Wv9z/43/Uf9H/2n/bv9R/2H/m/+x/6L/mf+v/73/0f/1/+j/6f8EAFAARgAGACgAUQBPAGkAOgBXAHgAigByAHEAkgB+AIYAWgBzAHYAcgBqAE4ASwBcAGkAYQBjAHIAiQB3AIUAeACUAJUAbwBtAIsAiABrAGMAdgCFAHIAZQBOAE8AbQBaAEEARgB1AFsALAAcAD0ALADi/97/FQALANb/w//0/wMA2P/B/wwAIwDk/8n/5P/3/8L/x/8FABoAxf+f/6f/kP9k/3T/kf+a/4z/Sf+A/3f/Yv9R/2//pv97/0//kf9//2T/Qf9V/2n/U/9V/07/bf9R/1v/UP9i/0X/ef9k/4j/Z/+e/1f/V/9+/3r/QP9c/5j/bP9v/4j/i/9r/2v/nf+L/0//Uv+c/3L/Rv92/5//eP92/6T/qf+n/7r/5f++/+T/1f/e/9j/yv/H/9v/u/+4/8P/wv/U/9j/sv/H/9P/w//I/9D/7v8UAO//DgAcAAQABwAAAC8AKAD9/0AAXQA6ADUAMABHAFEAKwBCAD4ATQBPAD0AUQBNAEIARAA3AEQALABCAEoAQwAPACsAGAAPAAUACAAJABQAIgAcAPj/9/8HAOb/4//3//X/8//K/9X/u/+6/6z/xf+y/9L/wv/K/+v/wv8dAAEA5//0/ywAzf/k//r/JADD/9n/2/8DAKv/2v/3/wEA/P/G/+//9f/c//b/IQAJAOX/0P/d/7L/0P+M/4v/f/+b/2n/j/9m/57/nP98/2X/rf9k/2//nP9qADT/eQARAGT/KgFTAPf/kf/S/6L/V/+K/2P/WP9o/2T/f/9Y/27/lf/K/9D/zP8uAEYAUwB+AFwAYACeANEApQDdALcAxACmAFsATAAcAFMAHAA/AAkA4f8YABkAHwDP/wgAJAAZACUA+v/4//3////1/9L/+v/g/xkA/P8qAC0AegB4AEYAlgBrAGsAVgBmAFsAdwBRACgAfQCXAFwALwBuAG4AFADc/wgA+//P/7f/6//l/9n/4f/v//H/u/8HACoAHwCw/xkALwATAIj/PgDp/yoABAD3/y0AEADT/6b/RAC3/+z/6v/r/9H/HACg/9L/xf/p/8H/AgDh/8b/AQC1/27/0f/d/5D/uv/X//r/5/8AAJ3/8/+j/xcAFAAAACUAMQA+AM7/+P/e/wkA6P+3/ycAAADq//f/HADj/6v/CADD/7//4P8UAAUAo/+p/ycA1f/r/73/7/9QAMv/wP8IACUAy/8KAC4AIABbAHcA9P9PADQABAB+AP//FQBRAEYAJAA0AA8AFAAgAE4AHwCWAIMAIQCmAEkAaQDk/ykALADJ/zMAPgATAPz/IQBlAOL/Wf9PACgA1P+q/yUA8f/u/wIACgATABAAKgDf/wEAFADb/3QAtv/a/+r/yf8/AAsAAgDq/8H/6/+s/3b/uv9PAKj/EADD/9T/XgCG/+T/EAArANf/wf84AIMASQADADIAkgA1AEEA2f9QAFUAAADw/8X/XgAWAOD/rv+j/8f/rf/f/8L/BgAPAEYAtf/t/wcAkAAvAAYAFQBeAPP/KQDQ/2UAJQA3APL/EACiAIcANQC3ABYASwC+/87/fwDj/wEAHgA7ACoACgCJAAQAMgBDAPz/mgDi/+r/BwBSAA8AigCb/xEBGABNAGsAzACuAE0A7P82AHYA9f84AIgAyf+BABEAEQBbAD4AsP8KAM//1f+R/wcA0//H/yMApv/U/w4Arv80APb/nf/u/+z/uP/n/9D/yP+tANX/AABAAFwA6v89AJr/dP87AB8AGAC2/wkALAAhAH//5P9iANH/FACv/97/zv8AADb/PAARAC//xf/m/3UAdAAy/+X/SAARAO//cf/k/wUA6v/w/zgAov/S//v/4f9aAKr/YwCOACEARAD5/ywAQQBEAO3/+/+k/xoAbQDj/0cAGwC7//n/iP+W/1QAHgDO/+f/RAApAB4ALQCZAIQAKwCm/yYAEwD7/3n/JADh/9j/1//h/ykATQBIAC0AIAD4/4P/tP9l/47/oP+O/yoA3P/Q/yEA8P9vAPv/AgAQAOr/mP/c/+z/zv/q/73/GAAmAN//lAA3AecA3gDLAM0AFACL/7n+7f78/hL+Y/4l/vj9l/2i/VD9u/3v/Tf+uf6m/mb/w//8/zMAkACUALcApABkAOwAUwCHAA8AbgATAAwA9v9nAEMAOgBEADEAXgDb/9X/yv/X/2X/ZP9//6D/1f+t/wUAUwCqAEUAYACZAFEARAAqADsAYwAtABwARwB0AHwAnwDJAMQAiQBBAD8AgwBAAGAAeQB1AI4AbwBeAHYAKQBLABMAeQDZ/yUALQBEAEEAOgB8AOgAgQCkAEQAXACLACsAKQAsAIoAcwCGAGIAnADCAJEAkgB6AE0AZABAADoAWgBeAD8AGwAwACMA0v95//z/7v9+/73/uf/P/97/if8xACgA5P/s/xEA0v/q/+3/qv/k/8P/xP+8/+n/uf/w/97/x//d/9n/8P/t/xIAl//E/9r/zP/L/+D/3//x/83/AADl/wcA3v/s//3/AwD+/+T/AACy////6/8VAPD/3f/r//b/0f/X/8P/CQA9AAIAtf/2/y0A+P/S/+f/XwD6/y8AAAA9ABgANQA2AEUAJwAOADcASwBqAEUAdAB6ADwASwAKAOn/DAAvADUAEgARABYAbADU/+z/4v/0/zYAGAA8AC4ARwAfAHoANwBRAGAA8gCVAEUA6f9iAGMA7f/H//b/VwAvADMAHQAuAOv/4P8EAAYAMwARACIANAAnAP7/5v/x/9H/BQADAOT/6//v//X/x//c/7L/zP/t/97/oP/4/9P/oP+t/47/uf/G/7b/lf+p/2//0f+n/6L/wf+s/9P/if9L/3T/X/9i/47/h/8nAPP/IgAYAEYA///T/8v/AwDx/7P/2v/u/+f/u//3//7/0f/y/w8A3//e/8n/9/8NAAoAzv/v/x0AHQD0/7z/+v/7/+T/3v83AAwACgATAFcAIgAIAN3/7v/v/9X/jv/y//n/BgDG/wsAIAAGADEAIwBMAPn/7v/l/0wAAwAXABYAVwAWAAQADwB8AC4AOgD1/4IAPQAwACcATAAOAOf/9P8cAPD/2f+1/+b/1f+w/9X/BAC//9r/5//B/3//e/+3/8n/tv++/8P/1f/X/7f/7P/S//D/CgDh/+H/r/+C/6L/ef9O/0H/cf9j/1z/Tf+f/5b/i/95//n/5//i/7n/qf+V/4f/WP+L/73/hP+y/8L/4f/s/xsAIAA+AAUA5//P/6//pP+7/8//y/+P/77/pv+z/7D/lP+i/7f/kP9x/43/lP+L/6L/ff+h/63/k//E/8r/5P/l/9T/6P/m/+r/7v/9//T/5//6//X/EgDx/8T/2f/k/wgA7P/s/zMAOADr/97/6P8NAAUAAgA3AFYANwAfAC4ARQAeADcAIQD+/xUAGwArADAABAAhAEEANABGAHMAaQBLACkAGAAdADcAHQAjAAEAHADz/xsAAQDx/w4A/f8rAAQADQAuAAoADQAAAOr/xf/V/93/sf+L/6j/if+q/4r/bv+f/73/rv/h//r/BAAxADgAQQAZAC4AEAD1/9z/CQAKABUABAAqABEAQAA8ABAA/P/e//D/sf+p/9v/4P/3/8P/zv/e/+v/5v8cAAcAIAAlAOH/6f/N/+r/GgBDADgAOgCDAJgAZwAeAAwA8//u/+j/CwAnAFcAOQA9APr//P/w/ywAMwA6AAAANwBlACYAAgABAFQAYgA6AFcAOwBAABkAEwAXACwAIwBFAFwATABgAF8AhgAwADkAQgA4AAQAEwAzADQAOQAcABYAHwACAOv/8/8AACAAIAA0APX/HAAYACQAMQAkAEQAVgBtAEAAKwAmAB4AIgAjAD0ATgBhAGAAOABwADQARwAgAPr/9v/q/ykA8//r/+f//f8HANj/5f/n/zwA6f+r/4P/p/+l/33/ef/i//X/0//r/wEACwADANf/7//S/6n/r//U/xAAKwD0/xQAJQDT/8r/DwASAAYAIAAxADAAGQAnAEAALgD///7/JwAzADUARABUAGAAXgAyACMAFAAgADUAPABeAGcAXwBEAEwAMgBFAD8AFwA3AHgAVABnAGgAkQB6AIcApgCxAMQApwCfAI4AfgB4AIEAlwCiAKwAjgCWAHUAcwBnAEoAXABCAD0AMQADAOz////1/+H/7v8bAAAAEQAFABEAGAAWAO//2v/Z/9f/4/8DAA0AGgAsABEA7P/S/+P/zP+v/8L/zf/o/+n/2f8AABcA+/8NAA8AAAD4/+L/4//n/+P/4v8PAB4ASQA9ADAAHAD1/9v/1//K/8L/z/////j/EQD8/w4A+v/4/+3/DgAjAAMA/v8UACEAGgAjABEAHgASAC4APwBNACoAGwAAAAQA6f/p/93/3v/z/+//+//c/9T/1v/L/6//zf/Y//3//P/0/wEAGQD//+//4v///wcA8P8AABsAIQBNACUALQA+ACoACwAOAA8AEQADAA4ARwBJAGIATwBYAFoAMwAbACMAIAADAAQA+v8jADIATgBhAGcATwA0ABYAHwATADIAQAAvAO7/w/+n/4z/jf97/4T/dP9V/yX/7/7r/vb+CP/u/uj+7v74/vj+FP86/2//ef9d/2j/fP+A/4L/f/+K/6j/t//J/wAABAAXAPH/2f/A/9b/1v/f/8b/4P/t/9v/5v/0/wUAEwAoAEEAQQAUAPH/4/+9/5r/mv/J/87/3P/u/wAA8/+8/4X/gP91/37/kf+z/+D/1f/j/w0ADADx/+H/2f/6/+7/4f/8/xUAGQAVAAYACAANAPr//////xYAQQA5ACIABgD6//7/+//0/xUAPwBWAFQAPwAxADUAQAAnAAMADQANAO3/3f/1/xYAFwAAAAEABwD4/w0AHwAmAB8AEwAhADkAOAAeAAIABwD2//n/8f/t//j/9v/g/+D/zf/L/+D/AAD//wAA4v+8/7T/sf/U//n/GwA3ADoAKAAaAAgABgADAPn/DwARACAAGwAMAP//GAARAA8ADQARAAcA/v/5/woA+/8AAAoABgDx/+r/8f/7/wIAGAAqAC4AEgD6/83/x//G/9z/z//b//r/BQAJAA4A6//o/9f/4f/s//z/CAAWAAYAIwAoACoAKgApADgAPQAYAB4ACADm/+X/+f8NACQAEgAlACMAHQAPAAwA/v/2//n/GQBCAEoATwBLAE0AMwAzACkAHAAKAA8ABAAGAPr/4//k//D/4//s/9z/3f/p/9n/1//f/8v/vP+z/6v/nf+a/6//rP+b/4b/e/96/3z/df+U/6r/uv/G/7//r/+1/7H/vv+6/7H/tf/B/73/wf/J/93/2f/i/9v/z//b/8//sf+l/5T/kf+C/3T/df+E/5X/pv+u/6//tv+z/6n/of+i/6n/qf+r/7r/w//f//H/7P/o/+7/5f/f/+b/7v8CAAsAFwAVACQAEAANABYAIgAoAEYASQBAADcAJAAdABAADAAsADgATQBWAFwAUABKADYAQwA8AFEAaABvAHwAegB3AHkAfABvAFoASQBGAEIAMABCAEwAVgBXAGEAcAB+AIoAoACVAIAAXwBOAEkAYQBjAIcAoQCwAKEAnwCTAJkAjACLAHEAUQA3AD8ASgBLAEcAZQBlAGgATAA9ADYALQAVADYARwBMAFMAXgBcAFEAPAA9ACsAMAAyADAAJQATAP7/BQD6/+H/5v/2//r/+v/7/xUAHwAjACEA//8BAPH/3v8IABsAHAAWAAwADgABAPP/+f/1/+r/3f/Z/+b/8v8GACAAKgAgAP7/1//b/8//vv/G/9H/0v/Z/+X/BQAbAAkAGQAPAAoADAAFABUAIgBLAFkAagBtAGoAWABDAC8AIgA7AF8AdwBzAH0AiACPAHQAfwB9AI8AfwBvAG4AcQB6AIMAkgCdAI8AZQBDADQAQwBHAFIATABRAGMAUAA9AC0ASwBUADsAKwArAC4AIAANADgAPwAyAP7/7P/v//f/BgAfADkAMwAvABwAEwDz/9n/+P8aADMAQgA+AEYAPQAYACwAPwA5ABwAEQAKACYAEAAJADMAQAAdAPP/6P8SADoAUwBjAFQAPQDk/6f/mv/y/0UAVAA0AA0A2v/G/7f/sv/q/wAAAwD1//X/+//O/5//xf/U/8T/qf++/+v/+f/f/wIAEQAAAMj/uf+9/67/sP/S/6b/r//Z/wAAFAAEAAYACgDs/+//7f8BACgAMAApACUAJQAKANb/3/85AGYAbwBRAEsAYgBcAEQAUACpAJsAWwAQAAgASQA5ADQAZQCeALEAcgAaAAwAAQDw/x4AVQBMAE8AMAA5ADQAIQD3/w0ADgAOAOz/3v/a/67/1P/T/83/2P/f/8n/0v+4/8n/7/8CAP3/IQBJAFEAUQA8ABQACQBNACYAGQBAAHUARgAkAPr/9f8AAPv/9/8dAEEAYABVABgA5v+e/+H/+P/r/+3/IgAKAPz/7//a/xUAPADj/zkATgAVAJ3/wP8pAPT/YP+f/woA/v+X/93/dQB5AL//vf91AH4A0P/B/3UAmwB1ACgAHwA8AM//if+G/8H/tv+z/xgAEwCf/47/kv+j/0//fv///6UAkAAPADgAfABAANj/QAApAT4B9gC4AHMAtf8r/y7/uP/M/6b/uf+s/xr/uv7k/gP/Lf9e/8v/bQCkADUAMgB0AHkAWQDOAEkBiQFOAfUAowBdABgARAAJAHj/V/8z/wL/of48/mn+0v5a/h7+Cf4r/sH+MP+s/28AhgC0APcA+QA1AYIBsgFZAswCaQLnAdIBewECAbAA3v+U/x3/p/2B/O/7Vvvx+jn6gvna+XD6+vo+/Er+9/8eAbEBHwLLAl4D0QPVBEYGJQcMB0YGcgUsBdoEIgQ6A0gCTABz/XH61/c29ezzj/Oc8prxqfHk8XPzvPcy/RoHiQ0mC7UGQgPsAV4ExQfQDCUSwRLRDoUJcwUBBEkEAAXzBdsEHQAj+XLz4fBW8erwTO7Q67zquupP6x/0txOkFzkHGf3C+Or3sPsF/BcJExcnFDgJewJY/mX///8hA6YJgg7nC+AI8gVlBW0E8QO4BHAGRQXkApj+Mf9IAM784vrg++/66Po1+CX0LfNM8qjy0fSZ9vP5Pf2v/uoBdQaPCccJRgggB0AHWwj2CUUL1Ay8DDYKhgcMBdcC8AC6/UT6f/VM8IDuE+xs55ziAOBs4kXfZvvXLDMeawVg9bTub/Sc+GT6HRdqJrgboAls+1D4+P47BAIO0hn9HQAVoAu2Aq4DUAmGDoQR8w91B1P6efGB71btSun95aji1uPp46ndR+CZELsg8Q0F/VvyHPSX+7b2GQRbG/IdPRIDCI8EOgaBBtkJTxFMFz4TyQxdCv4JXgkjCuUKFAlmAu32MOoy4zLgAODu38LfCt+n0zz4TCtDHEkG5O/M6Tv4QvfA97UYpihvH5IKGfcOAaoNmgr9EnsazhshFnIHEAcqED0RkBL2Ds4Hhf/C7UjkzOSV5bnhEdrj2BrZBM5Y/bMpYh5dCqLtYefS9xnzMfp2F7MmqyW4ENj37f66CKcL4xQMGiIcmRkxC58HrQswECcTUQ8nCioAuey94lTf1eD53pLYJ9ch1jPIcfhAKE0gEQ1N7mvoP/rc8SH5hxRWJ6orLRIJ+GYBhQeDDE8R/hVbIsogFg9eCfQLjhExE4sNXwvkAkHvIOMB3ljhO9vV0rvPMM8Hx1/9wCUBIXAOX+su50X2rOzb+oQUbCjiLwQVqfqJAuoG6g5TEKwVYiaxIiMUSAraByIRdhKQDCgNhgH37ZvfWNop33Xa4tJhzZLHeM0cB2sidiLCCDPrTO1P8Q3rp/+2FuYt5S5iE0EBwv/7BKMMRQ88GKInJiinGBsMogiAD/kQVQ4eDqwAFe2l3ejYstyr1HLMycqqxYrTew62HjMftgXq6w7vtuyR6vf/xhWvLrcq8BG1AvT/ywRZCwIO8B6KKd0maRk+C0ANbhGLEcoNGAgm/Ifoo9by1VLW9c8iy7DER8N+9bgZ/CEjFPr1EfH77w3o3vK9BaUj7zFgIpMOVQLZA1QHtQVKDJ8a/jOwKlgX5giTCPsSsAwMBa0CavTa5XDSes4azgfLWccyvNTfQxOSIqcetfuU8DPz7Ocr6832DxbCL1QqQhoYCa4EfgbV/1IHlw6yK30z/iIwFUgIbw2JDfEBgwBB87Lnstc7zXjKJMkyxqvAXOgQETQm9hsi+8nxAPKK6UTsHPKHEtMrRSu0HqgK2QeWBj79rwFuEEcpni6SIUQT7AygD8AJLwJG+p3sL95Jz6fLosg5yRvA09y6CesiRCbtBjD0h/FA6xnt3u3ABGYgxSmWJ3gWUAzDCvH/qf2+/+8Y0SuOKbUflxFJEIoN4gAy+N/p893+0UvKeMnWyxfHmumZCi8lxSMYB1D3Ue4z6E/qfe39BT8drCgpJpQY0hExDN4C4v5EAFwT7SKOJLMhuRY4FYoPJAQj+XHmZtjiycLDgMM8wsvYcwCHH88tRBjlAzP08uca42Hf9O7GC60jaS75JWcbZRR5C3oA1fYy/aQR3CCVJfgcJhjPFHgL3/7x50rW88jHwD7Ad7/F0pD+ryBHNYIjVQrQ+ITrF+RO3NXhY/t7FkQtfS7DJHcfmxPpCO74M/QTA1gSnB7HHmcbmhgCDZH+luWMz07Ak7hCuTO+Fd94CtwtpTogKNQRUP7F6iTfI9RU32f2NRKpKNQvBS9aKp0dHhCE/KP1N/q8B9YTDRl7GQUWRw01/PLfvMSZst+r6K8Bygj15SChPSA8UCpxFPP+ner+1+HS097M+A0WPyrnM+k14zALJZ8PPv1g9Gv4XwPBC6kSiRRwEXAFf+1Tz6+4lKr+qcDGm+oIFt0whDcVNWolKRJo+arf0NeN2g/uyAV8Gp8ulzjAOo8woxuBCeP7FPgH+rn+HwclC+AK0f8T7EnSo75MsJW1GNHY8fMT6CRqKp4qrCDIEkj7cOde4ELjLPIWAn4UBCZ1Ml834C63H98PNANz/XH68/vb/+QAYf4E9IrhF84hviy2pcmD4+EDqhciHqkiCiEEGtwLrfTV6H7jv+yu+VkH4hc9Jqoy2jQkK5sePREOCVICf/zY+qD5j/k488/n99Xix7y83Ma63ub3sg0iFm8bqx9cGy4Tmf/I7/LnLOnq8wb/SA0nHd8q7jMRMc4msRo/EK8JmgK5+w/4uPW38qrqbdrGy87BesIA2Xju5wZmEpYXyRseGysWJwrA+Dfv0Om+8IP5ZgNgEuAgty8gNXQtZiOFF/AQkwrXAUn8SPYm8yPq7dzjzAbDm74V0X3oEQJJERwVvBeHGdsU7Atu+RHvk+qd7zX3b/8xC+UZRSgAMM0rMyPXGFETuw1EB3sAJ/vE9x/xmea/1nDH7L16v3DWRvADCY4Ttxb8GjEbaRX3BcjyFuoW6Izwx/hrAgARHiB1MIgz9izdIBkWfw+/CEYB0fvu9ln15ey64MDO68McvpzOA+bi/TcOdxPgF1wcjxdcD277Yu9L6ibtTPXY+zsHMBjwJ9Mz/zC/J0Uc3hN7Ds4FVP0i90n0lvJ16Q/amMnYv2rCSNgY7pgENg9bFhkddx71F4cIDfW57Kvpq+/s9Dz9JA0QH54v0zRhLt8kHRtLFHIMsAHa+jf2N/RP7ULhy9CxxjfBl8xw4vH2uQnUEUQYlB5fGxkTyQE986ztn+tV8BP1hACXFKwmojPyMmcqAiK5GZkSSAep/Wn4UPWw8lboGdpfy2TEi8K308HnuP0iDd4UbBxrH9cZBQ8j/NTx3+u87PrwFvjoBakafyq5NQEyiCtxIrUZABBBBBH7Rfdg9NPvz+OE1WrJasOVxFTYjOpkAckNwhY7HoUfExipC5T6VvKw7F3s6+/p9xEKDR51Lb01zjCyLOshSBliDUgCBvzq93/0p+zs4IjUj8qOxMzEAdg67OgBgw6CFogebCCfGB0L2/lx8oftYexp8Mj36wuqHwgtkzOrLmst+CUBG94NpQD7+6n3h/JT6D/du9LbzPDDDMWY2MTsQAM5DSEVeB+zIToafwna+Q/zse7Q68LtTvbEC6QepSqTMHwuWy+jJxYb1Q3SAlr/afhX8KnkJdsS0obLv8FDwlDXweuB/3AIGBK9IAgknxsiC1z+p/hk8ovqX+qm9ZwIxhvFIxYs7i/UMb8qLxzzEPwHOwKn+GXue+Qa3FDRUsi8vjy+VdQz5jX5YwTmEVkj6iWBHmAQLAaOACH0jevm6RD0XAR7DsMavidiMAY0TypzI8AaKBFpB7H5nvL96fHed9Krx83CqLv/xpXZQurf/SIJDRxPKKUkZR6qEYcKxAAQ8h7tUe4X+e8D+gxsHHsmYi+9MCgqaSe1HcQTVwev+rvx4eP51u/KEsMFvPu458op21TtE/49DaMioinsJEUgdxd1EC8C3fNB8VPxTPiv/XwHFhgbIWwqFiw7LDUr9yCbF7QLhwDe8yHjZNUvy+TCeLo/tDrGsNXd5Qb33wZPHk0n9iT5JTchSxwdDywAD/0e+R/4N/lV/8EKfRGUGxEivSZ5KfIiQR7mFSAKH/1n61jeZtPNxny9p7S2v9zMZNfx5/73BQ1wG6ce2iaaKTMnGSB+FTwQTwrhAvn+P/9LAZkFeQriEJgXmxqjG2IacxYuEF4Frvk17jDjz9dPzAvFzMjYzLjS29tK6DX3NgLGCtUVUB29IDoh1h9FH5gc1BcWFckSPRFYDyENIQ2rDGML3AnTB98GyQN8/vv3rvFT66zhZduG2CDXoNf22Nje8OdT79r3VAGjCewQHxWhGCYczBwBHUQclhxgHFYaJxgZFroTWhCnCyoIRAVyAfz8Fvid88Pu3Ohf4t7eHtxL2VLZ/do44ADn4uzH9Kz9tQQKC1UPpBNCFyIYVRlAG+UbhRw9GwkaUBmJFoYTGRDoDN0J+QX1AYH92Pjt82PvBera4zHfmdwn2rHZTNum3z7l1Opk8Zn4/v6kBC4JHA3vEDgUcRd5GhYcEB1nHHQbRhpoF7QUIBIpD58MwwgbBawBY/0/+Sj0Iu+/6o3l8+FG3+Xcndwd3kThluU46tbvT/Y//NoB5wbgC9kQhBRMF4kZFxv5G/EbJRsiGmcY3RYRFc4S9Q9wDHsIfgTs/137D/fw8jbvZOty5/rkV+Ll38rebt/L4avkbejz7UX0Q/q//8gEagloDRARexQ1F9MYyhnfGnMb/BrOGVsYJBY7E2YPXQtuB5IDlv/i+7T4dfUZ8o/uF+vc5+7kY+JV4LbfyeA542XmR+qN7zj1pvrr/yIFIwq0Do0SPxZaGfIafBuBGzkbeBp6GCAW4hMoETAOrgovBwMEjADt/J35HPbF8jvvuuuR6KDl0eK64O3feuCc4h/mQ+px7/r0pPpBAHEFGgpYDvkRERVXF/QYtBkSGqwadBpPGagXhhXiEvgPnwwzCfMFggIm/6X7KPiD9MPwTO0i6kXnA+Uj44TixeL/42Tm6uk07t7y//dD/WUCVge4C9EPrBPuFgAZLhofG/8bzhu9GhAZ5hZ6FHsR/w2DCtcG9QI6/6b7jPjC9dPyKfDf7fzrh+q66E3nleY75sjmEeha6gDuaPJY99L8GgI2B9sLFhCxE2sWgRg9Go4a8xnqGD0XxhSnEZMOygs2CcYGXwQbAjAAK/7G+175afa68xzx0u6y7Anrx+kN6bHoXOma6orsPe+98uv2pPtVAAEFNwnjDCMQbhLTEw0VrxXXFY4VuxRRE7kRnRCcDycQJRJ0ENwKiwW8AqwAC/2F9ovzKPNe8TrsUOdU5hDoMuiH5qbkI+aH6vbugPGr87b33v2jA+MHeQuED6MUYxnRG68cTR26HaQcqBkOFUkQWgw4CHUDs/79+kX5Pvkz9qTxXfEN8tPwGe3N61Ltiu7N7OvqjOql61nt3e7/70zy6vW7+wUBwQWCChkQGRVAGZ8aDhtxG/UaThmqFR8SBg91DO4IxwSf/27+d/3M+VT2WPW99E3zSvGI8K/u5/A=\" type=\"audio/wav\" />\n",
              "                    Your browser does not support the audio element.\n",
              "                </audio>\n",
              "              "
            ],
            "text/plain": [
              "<IPython.lib.display.Audio object>"
            ]
          },
          "metadata": {
            "tags": []
          },
          "execution_count": 18
        }
      ]
    },
    {
      "cell_type": "code",
      "metadata": {
        "colab": {
          "base_uri": "https://localhost:8080/",
          "height": 75
        },
        "id": "m-GMA0Q7YA62",
        "outputId": "19a17500-eb7d-4189-de57-9fd8d44d6247"
      },
      "source": [
        "ipd.Audio(est_sources[:, 1], rate=fs)"
      ],
      "execution_count": null,
      "outputs": [
        {
          "output_type": "execute_result",
          "data": {
            "text/html": [
              "\n",
              "                <audio controls=\"controls\" >\n",
              "                    <source src=\"data:audio/wav;base64,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\" type=\"audio/wav\" />\n",
              "                    Your browser does not support the audio element.\n",
              "                </audio>\n",
              "              "
            ],
            "text/plain": [
              "<IPython.lib.display.Audio object>"
            ]
          },
          "metadata": {
            "tags": []
          },
          "execution_count": 19
        }
      ]
    },
    {
      "cell_type": "markdown",
      "metadata": {
        "id": "N_0v7Ougbgcm"
      },
      "source": [
        "## Fine-tuning or using pretrained models as components of a new pipeline"
      ]
    },
    {
      "cell_type": "markdown",
      "metadata": {
        "id": "RnrPT0GuA03w"
      },
      "source": [
        "Here we will show how to fine-tune the CRDNN Encoder Decoder Seq2Seq model used to transcribe the audio in the previous example and downloaded from [here](https://huggingface.co/speechbrain/asr-crdnn-rnnlm-librispeech/blob/main/hyperparams.yaml).\n",
        "\n",
        "\n",
        "\n",
        "\n"
      ]
    },
    {
      "cell_type": "code",
      "metadata": {
        "id": "ARD9PaEpE4oD"
      },
      "source": [
        "from speechbrain.pretrained import EncoderDecoderASR\n",
        "asr_model = EncoderDecoderASR.from_hparams(source=\"speechbrain/asr-crdnn-rnnlm-librispeech\", savedir=\"./pretrained_ASR\")"
      ],
      "execution_count": null,
      "outputs": []
    },
    {
      "cell_type": "markdown",
      "metadata": {
        "id": "fuuMQdb4ExyP"
      },
      "source": [
        "First we can see that the pretrained `asr_model` allows to access easily all its components:\n"
      ]
    },
    {
      "cell_type": "code",
      "metadata": {
        "colab": {
          "base_uri": "https://localhost:8080/"
        },
        "id": "q7c1qywYHkOo",
        "outputId": "dea35863-31dd-48d4-d432-5091eae001dc"
      },
      "source": [
        "asr_model.modules.keys()"
      ],
      "execution_count": null,
      "outputs": [
        {
          "output_type": "execute_result",
          "data": {
            "text/plain": [
              "odict_keys(['encoder', 'decoder', 'lm_model'])"
            ]
          },
          "metadata": {
            "tags": []
          },
          "execution_count": 21
        }
      ]
    },
    {
      "cell_type": "markdown",
      "metadata": {
        "id": "F5d9JG94JBLs"
      },
      "source": [
        "These keys corresponds to the modules entry specified in the [hyperparameter file](https://huggingface.co/speechbrain/asr-crdnn-rnnlm-librispeech/blob/main/hyperparams.yaml):\n",
        "\n",
        "\n",
        "```yaml\n",
        "modules:\n",
        "    encoder: !ref <encoder>\n",
        "    decoder: !ref <decoder>\n",
        "    lm_model: !ref <lm_model>\n",
        "```"
      ]
    },
    {
      "cell_type": "markdown",
      "metadata": {
        "id": "KNbCyQHIJYKx"
      },
      "source": [
        "We can also see that the encoder is actually composed of several sub-modules:\n",
        "\n",
        "```yaml\n",
        "encoder: !new:speechbrain.nnet.containers.LengthsCapableSequential\n",
        "    input_shape: [null, null, !ref <n_mels>]\n",
        "    compute_features: !ref <compute_features>\n",
        "    normalize: !ref <normalize>\n",
        "    model: !ref <enc>\n",
        "```\n",
        "\n"
      ]
    },
    {
      "cell_type": "markdown",
      "metadata": {
        "id": "bR6c1k20J3SN"
      },
      "source": [
        "These are simply accessible as members of the encoder:"
      ]
    },
    {
      "cell_type": "code",
      "metadata": {
        "colab": {
          "base_uri": "https://localhost:8080/"
        },
        "id": "S6Vwi7cNI7eq",
        "outputId": "35164bf8-1c5c-4191-c394-08d06ab36d2a"
      },
      "source": [
        "asr_model.modules.encoder"
      ],
      "execution_count": null,
      "outputs": [
        {
          "output_type": "execute_result",
          "data": {
            "text/plain": [
              "LengthsCapableSequential(\n",
              "  (compute_features): Fbank(\n",
              "    (compute_STFT): STFT()\n",
              "    (compute_fbanks): Filterbank()\n",
              "    (compute_deltas): Deltas()\n",
              "    (context_window): ContextWindow()\n",
              "  )\n",
              "  (normalize): InputNormalization()\n",
              "  (model): CRDNN(\n",
              "    (CNN): Sequential(\n",
              "      (block_0): CNN_Block(\n",
              "        (conv_1): Conv2d(\n",
              "          (conv): Conv2d(1, 128, kernel_size=(3, 3), stride=(1, 1))\n",
              "        )\n",
              "        (norm_1): LayerNorm(\n",
              "          (norm): LayerNorm((40, 128), eps=1e-05, elementwise_affine=True)\n",
              "        )\n",
              "        (act_1): LeakyReLU(negative_slope=0.01)\n",
              "        (conv_2): Conv2d(\n",
              "          (conv): Conv2d(128, 128, kernel_size=(3, 3), stride=(1, 1))\n",
              "        )\n",
              "        (norm_2): LayerNorm(\n",
              "          (norm): LayerNorm((40, 128), eps=1e-05, elementwise_affine=True)\n",
              "        )\n",
              "        (act_2): LeakyReLU(negative_slope=0.01)\n",
              "        (pooling): Pooling1d(\n",
              "          (pool_layer): MaxPool2d(kernel_size=(1, 2), stride=(1, 2), padding=(0, 0), dilation=(1, 1), ceil_mode=False)\n",
              "        )\n",
              "        (drop): Dropout2d(\n",
              "          (drop): Dropout2d(p=0.15, inplace=False)\n",
              "        )\n",
              "      )\n",
              "      (block_1): CNN_Block(\n",
              "        (conv_1): Conv2d(\n",
              "          (conv): Conv2d(128, 256, kernel_size=(3, 3), stride=(1, 1))\n",
              "        )\n",
              "        (norm_1): LayerNorm(\n",
              "          (norm): LayerNorm((20, 256), eps=1e-05, elementwise_affine=True)\n",
              "        )\n",
              "        (act_1): LeakyReLU(negative_slope=0.01)\n",
              "        (conv_2): Conv2d(\n",
              "          (conv): Conv2d(256, 256, kernel_size=(3, 3), stride=(1, 1))\n",
              "        )\n",
              "        (norm_2): LayerNorm(\n",
              "          (norm): LayerNorm((20, 256), eps=1e-05, elementwise_affine=True)\n",
              "        )\n",
              "        (act_2): LeakyReLU(negative_slope=0.01)\n",
              "        (pooling): Pooling1d(\n",
              "          (pool_layer): MaxPool2d(kernel_size=(1, 2), stride=(1, 2), padding=(0, 0), dilation=(1, 1), ceil_mode=False)\n",
              "        )\n",
              "        (drop): Dropout2d(\n",
              "          (drop): Dropout2d(p=0.15, inplace=False)\n",
              "        )\n",
              "      )\n",
              "    )\n",
              "    (time_pooling): Pooling1d(\n",
              "      (pool_layer): MaxPool2d(kernel_size=(1, 4), stride=(1, 4), padding=(0, 0), dilation=(1, 1), ceil_mode=False)\n",
              "    )\n",
              "    (RNN): LSTM(\n",
              "      (rnn): LSTM(2560, 1024, num_layers=4, batch_first=True, dropout=0.15, bidirectional=True)\n",
              "    )\n",
              "    (DNN): Sequential(\n",
              "      (block_0): DNN_Block(\n",
              "        (linear): Linear(\n",
              "          (w): Linear(in_features=2048, out_features=512, bias=True)\n",
              "        )\n",
              "        (norm): BatchNorm1d(\n",
              "          (norm): BatchNorm1d(512, eps=1e-05, momentum=0.1, affine=True, track_running_stats=True)\n",
              "        )\n",
              "        (act): LeakyReLU(negative_slope=0.01)\n",
              "        (dropout): Dropout(p=0.15, inplace=False)\n",
              "      )\n",
              "      (block_1): DNN_Block(\n",
              "        (linear): Linear(\n",
              "          (w): Linear(in_features=512, out_features=512, bias=True)\n",
              "        )\n",
              "        (norm): BatchNorm1d(\n",
              "          (norm): BatchNorm1d(512, eps=1e-05, momentum=0.1, affine=True, track_running_stats=True)\n",
              "        )\n",
              "        (act): LeakyReLU(negative_slope=0.01)\n",
              "        (dropout): Dropout(p=0.15, inplace=False)\n",
              "      )\n",
              "    )\n",
              "  )\n",
              ")"
            ]
          },
          "metadata": {
            "tags": []
          },
          "execution_count": 22
        }
      ]
    },
    {
      "cell_type": "code",
      "metadata": {
        "colab": {
          "base_uri": "https://localhost:8080/"
        },
        "id": "sgv5daThU1UC",
        "outputId": "2c8e21d8-806c-43d3-edd2-6fee1eaa1ade"
      },
      "source": [
        "asr_model.modules.encoder.compute_features"
      ],
      "execution_count": null,
      "outputs": [
        {
          "output_type": "execute_result",
          "data": {
            "text/plain": [
              "Fbank(\n",
              "  (compute_STFT): STFT()\n",
              "  (compute_fbanks): Filterbank()\n",
              "  (compute_deltas): Deltas()\n",
              "  (context_window): ContextWindow()\n",
              ")"
            ]
          },
          "metadata": {
            "tags": []
          },
          "execution_count": 23
        }
      ]
    },
    {
      "cell_type": "markdown",
      "metadata": {
        "id": "hoYbLtZmJ8V6"
      },
      "source": [
        "The training hyperparameters also can be easily accessed: "
      ]
    },
    {
      "cell_type": "code",
      "metadata": {
        "colab": {
          "base_uri": "https://localhost:8080/"
        },
        "id": "fBy1ryJ6H2LJ",
        "outputId": "27d38ae7-fdf5-4b4c-8cde-baeb43f06c5d"
      },
      "source": [
        "dir(asr_model.hparams)"
      ],
      "execution_count": null,
      "outputs": [
        {
          "output_type": "execute_result",
          "data": {
            "text/plain": [
              "['__class__',\n",
              " '__delattr__',\n",
              " '__dict__',\n",
              " '__dir__',\n",
              " '__doc__',\n",
              " '__eq__',\n",
              " '__format__',\n",
              " '__ge__',\n",
              " '__getattribute__',\n",
              " '__gt__',\n",
              " '__hash__',\n",
              " '__init__',\n",
              " '__init_subclass__',\n",
              " '__le__',\n",
              " '__lt__',\n",
              " '__ne__',\n",
              " '__new__',\n",
              " '__reduce__',\n",
              " '__reduce_ex__',\n",
              " '__repr__',\n",
              " '__setattr__',\n",
              " '__sizeof__',\n",
              " '__str__',\n",
              " '__subclasshook__',\n",
              " 'activation',\n",
              " 'asr_model',\n",
              " 'beam_size',\n",
              " 'blank_index',\n",
              " 'bos_index',\n",
              " 'cnn_blocks',\n",
              " 'cnn_channels',\n",
              " 'cnn_kernelsize',\n",
              " 'compute_features',\n",
              " 'coverage_penalty',\n",
              " 'ctc_lin',\n",
              " 'dec',\n",
              " 'dec_neurons',\n",
              " 'decoder',\n",
              " 'dnn_blocks',\n",
              " 'dnn_neurons',\n",
              " 'dropout',\n",
              " 'emb',\n",
              " 'emb_size',\n",
              " 'enc',\n",
              " 'encoder',\n",
              " 'eos_index',\n",
              " 'eos_threshold',\n",
              " 'inter_layer_pooling_size',\n",
              " 'lm_model',\n",
              " 'lm_weight',\n",
              " 'log_softmax',\n",
              " 'max_attn_shift',\n",
              " 'max_decode_ratio',\n",
              " 'min_decode_ratio',\n",
              " 'modules',\n",
              " 'n_fft',\n",
              " 'n_mels',\n",
              " 'normalize',\n",
              " 'output_neurons',\n",
              " 'pretrainer',\n",
              " 'rnn_bidirectional',\n",
              " 'rnn_class',\n",
              " 'rnn_layers',\n",
              " 'rnn_neurons',\n",
              " 'sample_rate',\n",
              " 'seq_lin',\n",
              " 'temperature',\n",
              " 'temperature_lm',\n",
              " 'time_pooling_size',\n",
              " 'tokenizer',\n",
              " 'using_max_attn_shift']"
            ]
          },
          "metadata": {
            "tags": []
          },
          "execution_count": 24
        }
      ]
    },
    {
      "cell_type": "markdown",
      "metadata": {
        "id": "rUsVgcjgKJKz"
      },
      "source": [
        "Such information are pretty useful as we can directly use some of these hyperparameters in our fine-tuning pipeline to ensure compability with the pretrained model (e.g. use the same BOS or EOS indexes)!"
      ]
    },
    {
      "cell_type": "markdown",
      "metadata": {
        "id": "BDYhruKqLv0G"
      },
      "source": [
        "### Setting up the data pipeline"
      ]
    },
    {
      "cell_type": "markdown",
      "metadata": {
        "id": "Uz8KzuQPEdW-"
      },
      "source": [
        "First we must set up the data pipeline for downloaded MiniLibriSpeech data. \n",
        "\n",
        "If you are not familiar with **SpeechBrain dataIO** you may want to take a look at the [tutorial](https://colab.research.google.com/drive/1AiVJZhZKwEI4nFGANKXEe-ffZFfvXKwH). "
      ]
    },
    {
      "cell_type": "code",
      "metadata": {
        "id": "MB9zoQGFcjsd"
      },
      "source": [
        "import speechbrain as sb\n",
        "import torch"
      ],
      "execution_count": null,
      "outputs": []
    },
    {
      "cell_type": "markdown",
      "metadata": {
        "id": "axAQJISREGM7"
      },
      "source": [
        "We parse MiniLibriSpeech to a suitable JSON annotation"
      ]
    },
    {
      "cell_type": "code",
      "metadata": {
        "id": "DwcQjRS2cnL5"
      },
      "source": [
        "from parse_data import parse_to_json\n",
        "parse_to_json(\"./LibriSpeech/dev-clean-2\")"
      ],
      "execution_count": null,
      "outputs": []
    },
    {
      "cell_type": "markdown",
      "metadata": {
        "id": "VIR_XyydEOTS"
      },
      "source": [
        "We instantiate a **DynamicItemDataset** from the JSON annotation"
      ]
    },
    {
      "cell_type": "code",
      "metadata": {
        "id": "kdBfsbdUb3kn"
      },
      "source": [
        "from speechbrain.dataio.dataset import DynamicItemDataset\n",
        "dataset = DynamicItemDataset.from_json(\"data.json\")"
      ],
      "execution_count": null,
      "outputs": []
    },
    {
      "cell_type": "markdown",
      "metadata": {
        "id": "NEB015VjMDLR"
      },
      "source": [
        "We sort the dataset based on length to speed-up training"
      ]
    },
    {
      "cell_type": "code",
      "metadata": {
        "id": "YSHVrP3CgLq2"
      },
      "source": [
        "dataset = dataset.filtered_sorted(sort_key=\"length\", select_n=100)\n",
        "# we limit the dataset to 100 utterances to keep the trainin short in this Colab example"
      ],
      "execution_count": null,
      "outputs": []
    },
    {
      "cell_type": "markdown",
      "metadata": {
        "id": "npAUJCOEMhXE"
      },
      "source": [
        "and add a pipeline for reading audio"
      ]
    },
    {
      "cell_type": "code",
      "metadata": {
        "id": "Kauu_ke5eglF"
      },
      "source": [
        "dataset.add_dynamic_item(sb.dataio.dataio.read_audio, takes=\"file_path\", provides=\"signal\")"
      ],
      "execution_count": null,
      "outputs": []
    },
    {
      "cell_type": "markdown",
      "metadata": {
        "id": "M1K1xvEHMnmP"
      },
      "source": [
        "and another one to encode the words from annotation.\n",
        "\n",
        "It is worth noting that we use the Tokenizer object obtained from the pretrained `asr_model` and  that we encode the words with `asr_model.tokenizer.encode_as_ids(words)`. We also reuse `asr_model` `eos_index` and `bos_index` accessed via `asr_model.hparams` to ensure that all these parameters correspond to the ones used at pretraining time! "
      ]
    },
    {
      "cell_type": "code",
      "metadata": {
        "id": "bf1rDbYBeh-7"
      },
      "source": [
        "# 3. Define text pipeline:\n",
        "@sb.utils.data_pipeline.takes(\"words\")\n",
        "@sb.utils.data_pipeline.provides(\n",
        "        \"words\", \"tokens_list\", \"tokens_bos\", \"tokens_eos\", \"tokens\")\n",
        "def text_pipeline(words):\n",
        "      yield words\n",
        "      tokens_list = asr_model.tokenizer.encode_as_ids(words)\n",
        "      yield tokens_list\n",
        "      tokens_bos = torch.LongTensor([asr_model.hparams.bos_index] + (tokens_list))\n",
        "      yield tokens_bos\n",
        "      tokens_eos = torch.LongTensor(tokens_list + [asr_model.hparams.eos_index]) # we use same eos and bos indexes as in pretrained model\n",
        "      yield tokens_eos\n",
        "      tokens = torch.LongTensor(tokens_list)\n",
        "      yield tokens"
      ],
      "execution_count": null,
      "outputs": []
    },
    {
      "cell_type": "code",
      "metadata": {
        "id": "5ZaW1-WEwhDf"
      },
      "source": [
        "dataset.add_dynamic_item(text_pipeline)"
      ],
      "execution_count": null,
      "outputs": []
    },
    {
      "cell_type": "markdown",
      "metadata": {
        "id": "1Ijrx8r8OhuH"
      },
      "source": [
        "We set the dataset object to return the signal tensor as well as the encoded tokens and words. "
      ]
    },
    {
      "cell_type": "code",
      "metadata": {
        "colab": {
          "base_uri": "https://localhost:8080/"
        },
        "id": "cAulkwZRfzDo",
        "outputId": "cfa77499-503f-4726-fc43-2a157e55b8cb"
      },
      "source": [
        "dataset.set_output_keys([\"id\", \"signal\", \"words\", \"tokens_list\", \"tokens_bos\", \"tokens_eos\", \"tokens\"])\n",
        "dataset[0]"
      ],
      "execution_count": null,
      "outputs": [
        {
          "output_type": "execute_result",
          "data": {
            "text/plain": [
              "{'id': '3752-4944-0046',\n",
              " 'signal': tensor([-0.0003, -0.0005, -0.0010,  ..., -0.0030, -0.0030, -0.0033]),\n",
              " 'tokens': tensor([ 14,  30, 120, 318,  15,  66, 549,   1, 492]),\n",
              " 'tokens_bos': tensor([  0,  14,  30, 120, 318,  15,  66, 549,   1, 492]),\n",
              " 'tokens_eos': tensor([ 14,  30, 120, 318,  15,  66, 549,   1, 492,   0]),\n",
              " 'tokens_list': [14, 30, 120, 318, 15, 66, 549, 1, 492],\n",
              " 'words': \"I'VE GIVEN MY ORDERS SIR\"}"
            ]
          },
          "metadata": {
            "tags": []
          },
          "execution_count": 32
        }
      ]
    },
    {
      "cell_type": "markdown",
      "metadata": {
        "id": "9-LZusHdOr61"
      },
      "source": [
        "### Fine-Tuning the ASR model\n",
        "\n",
        "First, We define our Brain class that will perform the fine-tuning. Here, we just take an example similar to the Brain class of the original [Seq2Seq LibriSpeech recipe](https://github.com/speechbrain/speechbrain/blob/develop/recipes/LibriSpeech/ASR/seq2seq/train.py).\n"
      ]
    },
    {
      "cell_type": "code",
      "metadata": {
        "id": "EfpGJ3FIgFRu"
      },
      "source": [
        "from speechbrain.lobes.features import Fbank\n",
        "import torch \n",
        "\n",
        "# Define fine-tuning procedure \n",
        "class EncDecFineTune(sb.Brain):\n",
        "\n",
        "    def on_stage_start(self, stage, epoch):\n",
        "        # enable grad for all modules we want to fine-tune\n",
        "        if stage == sb.Stage.TRAIN:\n",
        "            for module in [self.modules.enc, self.modules.emb, self.modules.dec, self.modules.seq_lin]:\n",
        "                for p in module.parameters():\n",
        "                    p.requires_grad = True\n",
        "     \n",
        "    def compute_forward(self, batch, stage):\n",
        "        \"\"\"Forward computations from the waveform batches to the output probabilities.\"\"\"\n",
        "        batch = batch.to(self.device)\n",
        "        wavs, wav_lens = batch.signal\n",
        "        tokens_bos, _ = batch.tokens_bos\n",
        "        wavs, wav_lens = wavs.to(self.device), wav_lens.to(self.device)\n",
        "\n",
        "        # Forward pass\n",
        "        feats = self.modules.compute_features(wavs)\n",
        "        feats = self.modules.normalize(feats, wav_lens)\n",
        "        #feats.requires_grad = True\n",
        "        x = self.modules.enc(feats)\n",
        "        \n",
        "        e_in = self.modules.emb(tokens_bos)  # y_in bos + tokens\n",
        "        h, _ = self.modules.dec(e_in, x, wav_lens)\n",
        "\n",
        "        # Output layer for seq2seq log-probabilities\n",
        "        logits = self.modules.seq_lin(h)\n",
        "        p_seq = self.hparams.log_softmax(logits)\n",
        "\n",
        "        return p_seq, wav_lens\n",
        "\n",
        "    def compute_objectives(self, predictions, batch, stage):\n",
        "        \"\"\"Computes the loss (CTC+NLL) given predictions and targets.\"\"\"\n",
        "\n",
        "        \n",
        "        p_seq, wav_lens = predictions\n",
        "\n",
        "        ids = batch.id\n",
        "        tokens_eos, tokens_eos_lens = batch.tokens_eos\n",
        "        tokens, tokens_lens = batch.tokens\n",
        "\n",
        "        loss = self.hparams.seq_cost(\n",
        "            p_seq, tokens_eos, tokens_eos_lens)\n",
        "        \n",
        "\n",
        "        return loss\n",
        "\n",
        "    def fit_batch(self, batch):\n",
        "        \"\"\"Train the parameters given a single batch in input\"\"\"\n",
        "        predictions = self.compute_forward(batch, sb.Stage.TRAIN)\n",
        "        loss = self.compute_objectives(predictions, batch, sb.Stage.TRAIN)\n",
        "        loss.backward()\n",
        "        if self.check_gradients(loss):\n",
        "            self.optimizer.step()\n",
        "        self.optimizer.zero_grad()\n",
        "        return loss.detach()\n"
      ],
      "execution_count": null,
      "outputs": []
    },
    {
      "cell_type": "markdown",
      "metadata": {
        "id": "ZJrCTNIBPVS7"
      },
      "source": [
        "Here we define the modules and hyperparameters needed for the Brain class defined before.\n",
        "\n",
        "We fetch them directly from the pretrained model by accessing its `modules` and `hparams`. These can be found in the `hyperparams.yaml` file in the model [HuggingFace repo](https://huggingface.co/speechbrain/asr-crdnn-rnnlm-librispeech/blob/main/hyperparams.yaml)."
      ]
    },
    {
      "cell_type": "code",
      "metadata": {
        "id": "R3B4Dv1Wjfv6"
      },
      "source": [
        "modules = {\"enc\": asr_model.modules.encoder.model, \n",
        "           \"emb\": asr_model.hparams.emb,\n",
        "           \"dec\": asr_model.hparams.dec,\n",
        "           \"compute_features\": asr_model.modules.encoder.compute_features, # we use the same features \n",
        "           \"normalize\": asr_model.modules.encoder.normalize,\n",
        "           \"seq_lin\": asr_model.hparams.seq_lin, \n",
        "           \n",
        "          }\n",
        "\n",
        "hparams = {\"seq_cost\": lambda x, y, z: speechbrain.nnet.losses.nll_loss(x, y, z, label_smoothing = 0.1),\n",
        "            \"log_softmax\": speechbrain.nnet.activations.Softmax(apply_log=True)}\n",
        "\n",
        "brain = EncDecFineTune(modules, hparams=hparams, opt_class=lambda x: torch.optim.SGD(x, 1e-5))\n",
        "brain.tokenizer = asr_model.tokenizer"
      ],
      "execution_count": null,
      "outputs": []
    },
    {
      "cell_type": "markdown",
      "metadata": {
        "id": "kqfkX393Rkbb"
      },
      "source": [
        "The pre-trained model can be finally fine-tuned:"
      ]
    },
    {
      "cell_type": "code",
      "metadata": {
        "colab": {
          "base_uri": "https://localhost:8080/"
        },
        "id": "aHWteDB0jXFp",
        "outputId": "c2ba416a-3161-46ba-c24d-b5057317b299"
      },
      "source": [
        "brain.fit(range(2), train_set=dataset, \n",
        "          train_loader_kwargs={\"batch_size\": 8, \"drop_last\":True, \"shuffle\": False})"
      ],
      "execution_count": null,
      "outputs": [
        {
          "output_type": "stream",
          "text": [
            "100%|██████████| 12/12 [08:23<00:00, 41.93s/it, train_loss=1.2]\n",
            "100%|██████████| 12/12 [08:22<00:00, 41.87s/it, train_loss=1.18]\n"
          ],
          "name": "stderr"
        }
      ]
    },
    {
      "cell_type": "markdown",
      "metadata": {
        "id": "l7qb4lrtG8G-"
      },
      "source": [
        "## Pretrainer Class\n",
        "In speechbrain, another way to perform pre-training is to use the PreTrainer Class (`speechbrain.utils.parameter_transfer.Pretrainer`). It orchestrates parameter transfer in a more structured way, which can aid in writing easy-to-share recipes (and it is also central in the implementation `speechbrain.pretrained` models). To use it, let's first initialize a model:"
      ]
    },
    {
      "cell_type": "code",
      "metadata": {
        "id": "DJ9Wvc41K3p8"
      },
      "source": [
        "from speechbrain.lobes.models.ECAPA_TDNN import ECAPA_TDNN \n",
        "\n",
        "model = ECAPA_TDNN(input_size= 80,\n",
        "                   channels= [1024, 1024, 1024, 1024, 3072],\n",
        "                   kernel_sizes= [5, 3, 3, 3, 1],\n",
        "                   dilations= [1, 2, 3, 4, 1],\n",
        "                   attention_channels= 128,\n",
        "                   lin_neurons = 192)"
      ],
      "execution_count": null,
      "outputs": []
    },
    {
      "cell_type": "markdown",
      "metadata": {
        "id": "TFPMuK0eLRWK"
      },
      "source": [
        "At this level, the model is initialized with random parameters. However, we can use our pretrainer to replace random parameters with the ones stored in the saved checkpoint:"
      ]
    },
    {
      "cell_type": "code",
      "metadata": {
        "id": "PsBfJrc5MhHV"
      },
      "source": [
        "from speechbrain.utils.parameter_transfer import Pretrainer\n",
        "\n",
        "# Initialization of the pre-trainer \n",
        "pretrain = Pretrainer(loadables={'model': model}, paths={'model': 'speechbrain/spkrec-ecapa-voxceleb/embedding_model.ckpt'})\n",
        "\n",
        "# We download the pretrained model from HuggingFace in this case\n",
        "pretrain.collect_files()\n",
        "pretrain.load_collected(device='cpu')"
      ],
      "execution_count": null,
      "outputs": []
    },
    {
      "cell_type": "markdown",
      "metadata": {
        "id": "IBxnWXe4OYSJ"
      },
      "source": [
        "Now, the model is not anymore randomly initialized, but it contains the pre-trained parameters of `embedding_model.ckpt`.  The path of the pre-trained model can be a **local path**, a **web url**, or a **huggingface repository**:"
      ]
    },
    {
      "cell_type": "code",
      "metadata": {
        "id": "4AQW7yD3PRLD"
      },
      "source": [
        "# Local Path\n",
        "pretrain = Pretrainer(collect_in='model_local', loadables={'model': model}, paths={'model': 'model_checkpoints/model.ckpt'})\n",
        "pretrain.collect_files()\n",
        "pretrain.load_collected(device='cpu')\n",
        "\n",
        "# Or web \n",
        "pretrain = Pretrainer(collect_in='model_web', loadables={'model': model}, paths={'model': 'https://www.dropbox.com/s/2mdnl784ram5w8o/embedding_model.ckpt?dl=1'})\n",
        "pretrain.collect_files()\n",
        "pretrain.load_collected(device='cpu')"
      ],
      "execution_count": null,
      "outputs": []
    },
    {
      "cell_type": "markdown",
      "metadata": {
        "id": "BBlIHzVjRHHA"
      },
      "source": [
        "As you can see, you can use the variable `collect_in` to set where the pre-trained model is stored."
      ]
    },
    {
      "cell_type": "markdown",
      "metadata": {
        "id": "OyjEzG-6zIFT"
      },
      "source": [
        "# Acknowledgements\n",
        "\n",
        "\n",
        "*   Many thanks to ([ziz19](https://github.com/ziz19)) who helped improving this Tutorial. \n"
      ]
    },
    {
      "cell_type": "code",
      "metadata": {
        "id": "3YroQCT_1JoP"
      },
      "source": [
        ""
      ],
      "execution_count": null,
      "outputs": []
    }
  ]
}